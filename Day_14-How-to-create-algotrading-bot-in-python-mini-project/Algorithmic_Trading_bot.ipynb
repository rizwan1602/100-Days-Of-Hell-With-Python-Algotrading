{
 "cells": [
  {
   "cell_type": "code",
   "execution_count": null,
   "metadata": {},
   "outputs": [],
   "source": [
    "!pip install yfinance\n"
   ]
  },
  {
   "cell_type": "code",
   "execution_count": 37,
   "metadata": {},
   "outputs": [],
   "source": [
    "from datetime import datetime\n",
    "import yfinance as yf\n",
    "import time"
   ]
  },
  {
   "cell_type": "code",
   "execution_count": 3,
   "metadata": {},
   "outputs": [],
   "source": [
    "class Mytradingstrategy:\n",
    "    def __init__(self, name):\n",
    "        self.__name = name\n",
    "    \n",
    "    def gerentae_signals(self,price_data):\n",
    "        print(\"this method is indented to be over ridded\")\n",
    "        return \"hold\"\n",
    "    \n",
    "    @property\n",
    "    def name(self):\n",
    "        return self.__name"
   ]
  },
  {
   "cell_type": "code",
   "execution_count": 4,
   "metadata": {},
   "outputs": [],
   "source": [
    "class MySMATradingStrategy(Mytradingstrategy):\n",
    "    def __init__(self,swindow, lwindow):\n",
    "        self.__swindow = swindow\n",
    "        self.__lwindow = lwindow\n",
    "        super().__init__('my sma trading strategy')\n",
    "    \n",
    "    def gerentae_signals(self,price_data):\n",
    "        if len(price_data[-self.__swindow:]) < self.__swindow:\n",
    "            return \"hold\"\n",
    "        \n",
    "        short_avg = sum(price_data[-self.__swindow:])/self.__swindow\n",
    "        long_avg = sum(price_data[-self.__lwindow:])/self.__lwindow\n",
    "\n",
    "        if short_avg > long_avg:\n",
    "            return \"buy\"\n",
    "        elif short_avg < long_avg:\n",
    "            return \"sell\"\n",
    "        else:\n",
    "            return \"hold\"\n",
    "            \n",
    "\n",
    "    @property\n",
    "    def swindow(self):\n",
    "        return self.__swindow\n",
    "    \n",
    "    @property\n",
    "    def lwindow(self):\n",
    "        return self.__lwindow"
   ]
  },
  {
   "cell_type": "code",
   "execution_count": 5,
   "metadata": {},
   "outputs": [],
   "source": [
    "class Mytrade:\n",
    "    def __init__ (self, strategy_name , signal, amount):\n",
    "        self.__strategy_name = strategy_name\n",
    "        self.__signal = signal\n",
    "        self.__amount = amount\n",
    "        self.__timestamp = datetime.now()\n",
    "    \n",
    "\n",
    "    def execute(self):\n",
    "        print(f\"executing {self.__signal} trade at {self.__amount} with {self.__strategy_name} strategy at {self.__timestamp}\")\n",
    "\n",
    "    \n",
    "    @property\n",
    "    def strategy_name(self):\n",
    "        return self.__strategy_name\n",
    "    \n",
    "    @property\n",
    "    def signal(self):\n",
    "        return self.__signal\n",
    "\n",
    "    @property\n",
    "    def amount(self):\n",
    "        return self.__amount\n",
    "    \n",
    "    @property\n",
    "    def timestamp(self):\n",
    "        return self.__timestamp"
   ]
  },
  {
   "cell_type": "code",
   "execution_count": 12,
   "metadata": {},
   "outputs": [],
   "source": [
    "#Mock Trading API\n",
    "class MocktradeAPI:\n",
    "    def __init__(self,balance):\n",
    "        self.__balance = balance\n",
    "\n",
    "    def place_order(self,trade,price):\n",
    "        if trade.signal == \"buy\" and price * trade.amount >= self.__balance:\n",
    "            self.__balance -= price * trade.amount\n",
    "            print(f\"buying {trade.amount} at {price} with {trade.strategy_name} strategy\")\n",
    "        elif trade.signal == \"sell\" and price * trade.amount <= self.__balance:\n",
    "            self.__balance += price * trade.amount\n",
    "            print(f\"selling {trade.amount} at {price} with {trade.strategy_name} strategy\")\n",
    "        else:\n",
    "            print(\"not enough balance\")\n",
    "            \n",
    "    @property\n",
    "    def get_balance(self):\n",
    "        return self.__balance"
   ]
  },
  {
   "cell_type": "code",
   "execution_count": 29,
   "metadata": {},
   "outputs": [],
   "source": [
    "class Mytradingsystem:\n",
    "    def __init__(self,api,strategy, symbol):\n",
    "        self.__api = api\n",
    "        self.__strategy = strategy\n",
    "        self.__symbol = symbol\n",
    "        self.__price_data = []\n",
    "    \n",
    "    def fetch_price_Data(self):\n",
    "        data = yf.download(self.__symbol, period='1d', interval='1m')\n",
    "        if not data.empty:\n",
    "            self.__price_data.append(data['Close'].iloc[-1])\n",
    "            if len(self.__price_data) > self.__strategy.lwindow:\n",
    "                self.__price_data.pop(0)\n",
    "                print(f'fetched new data{self.__price_data}')\n",
    "        else:\n",
    "            print(\"no data fetched\")\n",
    "    \n",
    "    def run (self):\n",
    "        self.fetch_price_Data()\n",
    "        signal = self.__strategy.gerentae_signals(self.__price_data)\n",
    "        print(f\"signal generated: {signal}\")\n",
    "        if signal in ['buy','sell']:\n",
    "            trade = Mytrade(self.__strategy.name, signal, 1)\n",
    "            trade.execute()\n",
    "            self.__api.place_order(trade, self.__price_data[-1])\n",
    "    \n",
    "    @property\n",
    "    def api(self):\n",
    "        return self.__api\n",
    "    \n",
    "    @property\n",
    "    def strategy(self):\n",
    "        return self.__strategy\n",
    "    \n",
    "    @property\n",
    "    def symbol(self):\n",
    "        return self.__symbol\n",
    "    \n",
    "    @property\n",
    "    def price_data(self):\n",
    "        return self.__price_data\n"
   ]
  },
  {
   "cell_type": "code",
   "execution_count": 39,
   "metadata": {},
   "outputs": [
    {
     "name": "stderr",
     "output_type": "stream",
     "text": [
      "[*********************100%%**********************]  1 of 1 completed\n"
     ]
    },
    {
     "name": "stdout",
     "output_type": "stream",
     "text": [
      "signal generated: hold\n",
      "balance: 1000\n"
     ]
    },
    {
     "name": "stderr",
     "output_type": "stream",
     "text": [
      "[*********************100%%**********************]  1 of 1 completed\n"
     ]
    },
    {
     "name": "stdout",
     "output_type": "stream",
     "text": [
      "signal generated: hold\n",
      "balance: 1000\n"
     ]
    },
    {
     "name": "stderr",
     "output_type": "stream",
     "text": [
      "[*********************100%%**********************]  1 of 1 completed\n"
     ]
    },
    {
     "name": "stdout",
     "output_type": "stream",
     "text": [
      "signal generated: hold\n",
      "balance: 1000\n"
     ]
    }
   ],
   "source": [
    "symbol = 'AAPL'\n",
    "api = MocktradeAPI(1000)\n",
    "strategy = MySMATradingStrategy(5, 20)\n",
    "tradingsystem = Mytradingsystem(api, strategy, symbol)\n",
    "\n",
    "for i in range(3):\n",
    "    tradingsystem.run()\n",
    "    print(f\"balance: {api.get_balance}\")\n",
    "    time.sleep(3)"
   ]
  }
 ],
 "metadata": {
  "kernelspec": {
   "display_name": "Python 3",
   "language": "python",
   "name": "python3"
  },
  "language_info": {
   "codemirror_mode": {
    "name": "ipython",
    "version": 3
   },
   "file_extension": ".py",
   "mimetype": "text/x-python",
   "name": "python",
   "nbconvert_exporter": "python",
   "pygments_lexer": "ipython3",
   "version": "3.12.0"
  }
 },
 "nbformat": 4,
 "nbformat_minor": 2
}
