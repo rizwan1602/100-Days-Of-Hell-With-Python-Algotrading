{
 "cells": [
  {
   "cell_type": "code",
   "execution_count": 6,
   "metadata": {},
   "outputs": [],
   "source": [
    "def trading(price):\n",
    "    def buying(price):\n",
    "        return \"buying\"\n",
    "    def selling(price):\n",
    "        return \"selling\"\n",
    "    \n",
    "    if price < 100:\n",
    "        return buying(price)\n",
    "    else:\n",
    "        return selling(price)"
   ]
  },
  {
   "cell_type": "code",
   "execution_count": 7,
   "metadata": {},
   "outputs": [
    {
     "name": "stdout",
     "output_type": "stream",
     "text": [
      "selling\n"
     ]
    }
   ],
   "source": [
    "print(trading(1000))"
   ]
  }
 ],
 "metadata": {
  "kernelspec": {
   "display_name": "Python 3",
   "language": "python",
   "name": "python3"
  },
  "language_info": {
   "codemirror_mode": {
    "name": "ipython",
    "version": 3
   },
   "file_extension": ".py",
   "mimetype": "text/x-python",
   "name": "python",
   "nbconvert_exporter": "python",
   "pygments_lexer": "ipython3",
   "version": "3.12.0"
  }
 },
 "nbformat": 4,
 "nbformat_minor": 2
}
