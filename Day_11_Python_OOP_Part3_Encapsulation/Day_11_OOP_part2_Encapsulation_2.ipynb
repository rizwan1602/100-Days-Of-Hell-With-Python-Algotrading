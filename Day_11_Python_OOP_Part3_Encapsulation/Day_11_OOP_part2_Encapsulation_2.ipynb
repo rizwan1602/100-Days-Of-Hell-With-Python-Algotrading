{
  "cells": [
    {
      "cell_type": "markdown",
      "metadata": {
        "id": "A2Opzki1fw7x"
      },
      "source": [
        "### Encapsulation"
      ]
    },
    {
      "cell_type": "markdown",
      "metadata": {},
      "source": [
        "Encapsulation is a key principle of object-oriented programming (OOP) that bundles data (variables) and methods (functions) operating on the data into a single unit or class. It restricts direct access to some components, preventing accidental interference and misuse.\n",
        "\n",
        "Key aspects & Benefits of encapsulation include:\n",
        "\n",
        "- **Data Hiding**: Internal details are hidden from the outside world using access modifiers (private, protected, public).\n",
        "- **Public Interface**: Provides controlled access to data through well-defined public methods.\n",
        "- **Security and Integrity**: Ensures data integrity by allowing only authorized methods to modify the data.\n",
        "- **Modularity **: Makes objects self-contained, simplifying understanding, maintenance, and debugging.\n",
        "- **Abstraction**: Hides internal complexities, presenting a simpler interface to the user.\n",
        "- **Maintainbility**: he system is easier to maintain and extend since each component is self-contained and interacts through well-defined interfaces."
      ]
    },
    {
      "cell_type": "code",
      "execution_count": 1,
      "metadata": {
        "id": "yLRvYq47fyvp"
      },
      "outputs": [],
      "source": [
        "# instance var -> python tutor\n",
        "\n",
        "\n",
        "class TradingBot:\n",
        "    \n",
        "    def __init__(self, name, initial_cash):\n",
        "        self.name = name  # Name of the trading bot\n",
        "        self.cash = initial_cash  # Starting cash in USD\n"
      ]
    },
    {
      "cell_type": "code",
      "execution_count": null,
      "metadata": {
        "colab": {
          "base_uri": "https://localhost:8080/",
          "height": 36
        },
        "id": "myBJr2T_KZmL",
        "outputId": "98f717d2-c600-43fa-c6ba-012f518d0490"
      },
      "outputs": [],
      "source": []
    },
    {
      "cell_type": "code",
      "execution_count": 2,
      "metadata": {
        "id": "HRV0i93nzBtZ"
      },
      "outputs": [
        {
          "name": "stdout",
          "output_type": "stream",
          "text": [
            "Market data fetched.\n",
            "Latest Market Price: 105\n",
            "Executed Buy Order. Current position: Long\n"
          ]
        }
      ],
      "source": [
        "class TradingBot:\n",
        "    def __init__(self, threshold):\n",
        "        self.__price_data = []\n",
        "        self.__threshold = threshold\n",
        "        self.__position = None  # None, 'long', or 'short'\n",
        "\n",
        "    def fetch_market_data(self):\n",
        "        # Simulate fetching data from a market API\n",
        "        self.__price_data = [100, 102, 101, 103, 105]\n",
        "        print(\"Market data fetched.\")\n",
        "\n",
        "    def get_latest_price(self):\n",
        "        if self.__price_data:\n",
        "            return self.__price_data[-1]\n",
        "        else:\n",
        "            return None\n",
        "\n",
        "    def evaluate_market(self):\n",
        "        latest_price = self.get_latest_price()\n",
        "        print(f\"Latest Market Price: {latest_price}\")\n",
        "\n",
        "        if latest_price > self.__threshold:\n",
        "            return \"buy\"\n",
        "        elif latest_price < self.__threshold:\n",
        "            return \"sell\"\n",
        "        else:\n",
        "            return \"hold\"\n",
        "\n",
        "    def execute_trade(self, action):\n",
        "        if action == \"buy\" and self.__position != \"long\":\n",
        "            self.__position = \"long\"\n",
        "            print(\"Executed Buy Order. Current position: Long\")\n",
        "        elif action == \"sell\" and self.__position != \"short\":\n",
        "            self.__position = \"short\"\n",
        "            print(\"Executed Sell Order. Current position: Short\")\n",
        "        elif action == \"hold\":\n",
        "            print(\"No trade executed. Holding position.\")\n",
        "\n",
        "    def run(self):\n",
        "        self.fetch_market_data()\n",
        "        action = self.evaluate_market()\n",
        "        self.execute_trade(action)\n",
        "\n",
        "# Example usage:\n",
        "bot = TradingBot(threshold=104)\n",
        "bot.run()\n"
      ]
    },
    {
      "cell_type": "markdown",
      "metadata": {},
      "source": [
        "\n",
        "\n",
        "### Example: TradingBot\n",
        "\n",
        "\n",
        "\n",
        "\n",
        "### Explanation:\n",
        "\n",
        "1. **Initialization**:\n",
        "   - The `__init__` method initializes the `TradingBot` with a threshold for making trade decisions, an empty list for price data, and a position variable.\n",
        "\n",
        "2. **Data Fetching**:\n",
        "   - The `fetch_market_data` method simulates fetching market data and stores it in the `__price_data` attribute.\n",
        "\n",
        "3. **Market Evaluation**:\n",
        "   - The `evaluate_market` method evaluates the latest market price against the threshold to decide whether to buy, sell, or hold.\n",
        "\n",
        "4. **Trade Execution**:\n",
        "   - The `execute_trade` method performs the trade action (buy, sell, or hold) based on the evaluated market condition and updates the current position accordingly.\n",
        "\n",
        "5. **Running the Bot**:\n",
        "   - The `run` method orchestrates the process by fetching the market data, evaluating the market, and executing the appropriate trade action.\n",
        "\n",
        "### Encapsulation Benefits:\n",
        "\n",
        "- **Data Hiding**: Internal attributes like `__price_data`, `__threshold`, and `__position` are hidden from outside access, ensuring they are only modified through the class methods.\n",
        "- **Single Responsibility**: The `TradingBot` class encapsulates all functionalities related to market data retrieval, decision-making, and trade execution within a single class, making it easier to manage.\n",
        "- **Clear Interface**: The public methods `fetch_market_data`, `evaluate_market`, `execute_trade`, and `run` provide a clear and controlled way to interact with the trading bot, without exposing the internal workings.\n",
        "\n"
      ]
    },
    {
      "cell_type": "markdown",
      "metadata": {
        "id": "2zN_yVYaf0_1"
      },
      "source": [
        "### Collection of objects"
      ]
    },
    {
      "cell_type": "code",
      "execution_count": null,
      "metadata": {
        "id": "UN7FByT3LZSX"
      },
      "outputs": [],
      "source": []
    },
    {
      "cell_type": "code",
      "execution_count": 10,
      "metadata": {
        "colab": {
          "base_uri": "https://localhost:8080/"
        },
        "id": "VdP0aR6Qf4zp",
        "outputId": "72deb00b-deae-4536-da36-2bae44d2245c"
      },
      "outputs": [
        {
          "name": "stdout",
          "output_type": "stream",
          "text": [
            "Added trade: Trade(symbol=AAPL, quantity=100, price=150.0)\n",
            "Added trade: Trade(symbol=GOOGL, quantity=50, price=2500.0)\n",
            "Added trade: Trade(symbol=TSLA, quantity=20, price=700.0)\n",
            "Portfolio contains the following trades:\n",
            "Trade(symbol=AAPL, quantity=100, price=150.0)\n",
            "Trade(symbol=GOOGL, quantity=50, price=2500.0)\n",
            "Trade(symbol=TSLA, quantity=20, price=700.0)\n",
            "Removed trades with symbol: GOOGL\n",
            "Portfolio contains the following trades:\n",
            "Trade(symbol=AAPL, quantity=100, price=150.0)\n",
            "Trade(symbol=TSLA, quantity=20, price=700.0)\n",
            "Retrieved specific trade: Trade(symbol=AAPL, quantity=100, price=150.0)\n"
          ]
        }
      ],
      "source": [
        "class Trade:\n",
        "    def __init__(self, symbol, quantity, price):\n",
        "        self.symbol = symbol\n",
        "        self.quantity = quantity\n",
        "        self.price = price\n",
        "    \n",
        "    def __repr__(self):\n",
        "        return f\"Trade(symbol={self.symbol}, quantity={self.quantity}, price={self.price})\"\n",
        "\n",
        "class Portfolio:\n",
        "    def __init__(self):\n",
        "        self.trades = []\n",
        "    \n",
        "    def add_trade(self, trade):\n",
        "        self.trades.append(trade)\n",
        "        print(f\"Added trade: {trade}\")\n",
        "    \n",
        "    def remove_trade(self, symbol):\n",
        "        self.trades = [trade for trade in self.trades if trade.symbol != symbol]\n",
        "        print(f\"Removed trades with symbol: {symbol}\")\n",
        "    \n",
        "    def get_trade(self, symbol):\n",
        "        for trade in self.trades:\n",
        "            if trade.symbol == symbol:\n",
        "                return trade\n",
        "        return None\n",
        "    \n",
        "    def display_portfolio(self):\n",
        "        print(\"Portfolio contains the following trades:\")\n",
        "        for trade in self.trades:\n",
        "            print(trade)\n",
        "\n",
        "# Example usage\n",
        "portfolio = Portfolio()\n",
        "\n",
        "# Create some trades\n",
        "trade1 = Trade(\"AAPL\", 100, 150.00)\n",
        "trade2 = Trade(\"GOOGL\", 50, 2500.00)\n",
        "trade3 = Trade(\"TSLA\", 20, 700.00)\n",
        "\n",
        "# Add trades to portfolio\n",
        "portfolio.add_trade(trade1)\n",
        "portfolio.add_trade(trade2)\n",
        "portfolio.add_trade(trade3)\n",
        "\n",
        "# Display the portfolio\n",
        "portfolio.display_portfolio()\n",
        "\n",
        "# Remove a trade\n",
        "portfolio.remove_trade(\"GOOGL\")\n",
        "\n",
        "# Display the portfolio after removal\n",
        "portfolio.display_portfolio()\n",
        "\n",
        "# Get and display a specific trade\n",
        "specific_trade = portfolio.get_trade(\"AAPL\")\n",
        "print(f\"Retrieved specific trade: {specific_trade}\")\n"
      ]
    },
    {
      "cell_type": "code",
      "execution_count": null,
      "metadata": {
        "colab": {
          "base_uri": "https://localhost:8080/"
        },
        "id": "uARXTZTCvt3M",
        "outputId": "18e100f5-07a5-43df-d0d9-482ce648f6f5"
      },
      "outputs": [],
      "source": []
    },
    {
      "cell_type": "markdown",
      "metadata": {
        "id": "TKdM9xIFf8Lt"
      },
      "source": [
        "### Static Variables(Vs Instance variables)"
      ]
    },
    {
      "cell_type": "code",
      "execution_count": null,
      "metadata": {
        "id": "yQakCFqbf-kB"
      },
      "outputs": [],
      "source": [
        "# need for static vars"
      ]
    },
    {
      "cell_type": "code",
      "execution_count": 14,
      "metadata": {
        "id": "5HYjBHv9wZNm"
      },
      "outputs": [
        {
          "name": "stdout",
          "output_type": "stream",
          "text": [
            "Bot Name: AlphaBot\n",
            "Capital: $100000\n",
            "Number of trades executed by this bot: 0\n",
            "Total number of trades executed by all bots: 0\n",
            "Bot Name: BetaBot\n",
            "Capital: $200000\n",
            "Number of trades executed by this bot: 0\n",
            "Total number of trades executed by all bots: 0\n",
            "AlphaBot executed trade: {'symbol': 'AAPL', 'quantity': 10, 'price': 150.0}\n",
            "BetaBot executed trade: {'symbol': 'GOOGL', 'quantity': 5, 'price': 2500.0}\n",
            "AlphaBot executed trade: {'symbol': 'TSLA', 'quantity': 20, 'price': 700.0}\n",
            "\n",
            "After executing trades:\n",
            "Bot Name: AlphaBot\n",
            "Capital: $100000\n",
            "Number of trades executed by this bot: 2\n",
            "Total number of trades executed by all bots: 3\n",
            "Bot Name: BetaBot\n",
            "Capital: $200000\n",
            "Number of trades executed by this bot: 1\n",
            "Total number of trades executed by all bots: 3\n"
          ]
        }
      ],
      "source": [
        "class TradingBot:\n",
        "    # Static variable to count the total number of trades\n",
        "    total_trades = 0\n",
        "\n",
        "    def __init__(self, name, capital):\n",
        "        self.name = name\n",
        "        self.capital = capital\n",
        "        self.trades = []\n",
        "\n",
        "    def execute_trade(self, symbol, quantity, price):\n",
        "        trade = {\"symbol\": symbol, \"quantity\": quantity, \"price\": price}\n",
        "        self.trades.append(trade)\n",
        "        TradingBot.total_trades += 1\n",
        "        print(f\"{self.name} executed trade: {trade}\")\n",
        "\n",
        "    def display_info(self):\n",
        "        print(f\"Bot Name: {self.name}\")\n",
        "        print(f\"Capital: ${self.capital}\")\n",
        "        print(f\"Number of trades executed by this bot: {len(self.trades)}\")\n",
        "        print(f\"Total number of trades executed by all bots: {TradingBot.total_trades}\")\n",
        "\n",
        "# Example usage\n",
        "bot1 = TradingBot(\"AlphaBot\", 100000)\n",
        "bot2 = TradingBot(\"BetaBot\", 200000)\n",
        "\n",
        "# Display initial info\n",
        "bot1.display_info()\n",
        "bot2.display_info()\n",
        "\n",
        "# Execute trades\n",
        "bot1.execute_trade(\"AAPL\", 10, 150.00)\n",
        "bot2.execute_trade(\"GOOGL\", 5, 2500.00)\n",
        "bot1.execute_trade(\"TSLA\", 20, 700.00)\n",
        "\n",
        "# Display updated info\n",
        "print(\"\\nAfter executing trades:\")\n",
        "bot1.display_info()\n",
        "bot2.display_info()\n"
      ]
    },
    {
      "cell_type": "markdown",
      "metadata": {
        "id": "K9bxHyfBgC3Y"
      },
      "source": [
        "### Static methods"
      ]
    },
    {
      "cell_type": "code",
      "execution_count": null,
      "metadata": {
        "id": "_c09xqV9gEf-"
      },
      "outputs": [],
      "source": []
    },
    {
      "cell_type": "markdown",
      "metadata": {
        "id": "Izqb_9FtwoIZ"
      },
      "source": [
        "##### Points to remember about static\n",
        "\n",
        "- Static attributes are created at class level.\n",
        "- Static attributes are accessed using ClassName.\n",
        "- Static attributes are object independent. We can access them without creating instance (object) of the class in which they are defined.\n",
        "- The value stored in static attribute is shared between all instances(objects) of the class in which the static attribute is defined."
      ]
    },
    {
      "cell_type": "code",
      "execution_count": null,
      "metadata": {
        "id": "3u0RdyaFwyaP"
      },
      "outputs": [],
      "source": [
        "class TradingBot:\n",
        "    def __init__(self, name, capital):\n",
        "        self.name = name\n",
        "        self.capital = capital\n",
        "    \n",
        "    def display_info(self):\n",
        "        print(f\"Bot Name: {self.name}\")\n",
        "        print(f\"Capital: ${self.capital}\")\n",
        "    \n",
        "    @staticmethod\n",
        "    def validate_trade(symbol, quantity, price):\n",
        "        if not symbol:\n",
        "            return False, \"Symbol cannot be empty.\"\n",
        "        if quantity <= 0:\n",
        "            return False, \"Quantity must be positive.\"\n",
        "        if price <= 0:\n",
        "            return False, \"Price must be positive.\"\n",
        "        return True, \"Trade is valid.\"\n",
        "\n",
        "# Example usage\n",
        "bot = TradingBot(\"AlphaBot\", 100000)\n",
        "\n",
        "# Display bot info\n",
        "bot.display_info()\n",
        "\n",
        "# Validate a valid trade\n",
        "is_valid, message = TradingBot.validate_trade(\"AAPL\", 10, 150.00)\n",
        "print(f\"Validation result: {message}\")\n",
        "\n",
        "# Validate an invalid trade\n",
        "is_valid, message = TradingBot.validate_trade(\"\", 10, 150.00)\n",
        "print(f\"Validation result: {message}\")\n",
        "\n",
        "is_valid, message = TradingBot.validate_trade(\"AAPL\", -5, 150.00)\n",
        "print(f\"Validation result: {message}\")\n",
        "\n",
        "is_valid, message = TradingBot.validate_trade(\"AAPL\", 10, -150.00)\n",
        "print(f\"Validation result: {message}\")\n"
      ]
    }
  ],
  "metadata": {
    "colab": {
      "provenance": []
    },
    "kernelspec": {
      "display_name": "Python 3",
      "name": "python3"
    },
    "language_info": {
      "codemirror_mode": {
        "name": "ipython",
        "version": 3
      },
      "file_extension": ".py",
      "mimetype": "text/x-python",
      "name": "python",
      "nbconvert_exporter": "python",
      "pygments_lexer": "ipython3",
      "version": "3.11.8"
    }
  },
  "nbformat": 4,
  "nbformat_minor": 0
}
