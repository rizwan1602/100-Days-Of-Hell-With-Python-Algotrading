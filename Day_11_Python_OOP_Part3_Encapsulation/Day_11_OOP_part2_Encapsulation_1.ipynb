{
  "cells": [
    {
      "cell_type": "markdown",
      "metadata": {
        "id": "A2Opzki1fw7x"
      },
      "source": [
        "### Encapsulation"
      ]
    },
    {
      "cell_type": "markdown",
      "metadata": {},
      "source": [
        "Encapsulation is a key principle of object-oriented programming (OOP) that bundles data (variables) and methods (functions) operating on the data into a single unit or class. It restricts direct access to some components, preventing accidental interference and misuse.\n",
        "\n",
        "Key aspects & Benefits of encapsulation include:\n",
        "\n",
        "- **Data Hiding**: Internal details are hidden from the outside world using access modifiers (private, protected, public).\n",
        "- **Public Interface**: Provides controlled access to data through well-defined public methods.\n",
        "- **Security and Integrity**: Ensures data integrity by allowing only authorized methods to modify the data.\n",
        "- **Modularity **: Makes objects self-contained, simplifying understanding, maintenance, and debugging.\n",
        "- **Abstraction**: Hides internal complexities, presenting a simpler interface to the user.\n",
        "- **Maintainbility**: he system is easier to maintain and extend since each component is self-contained and interacts through well-defined interfaces."
      ]
    },
    {
      "cell_type": "code",
      "execution_count": null,
      "metadata": {
        "id": "yLRvYq47fyvp"
      },
      "outputs": [],
      "source": []
    },
    {
      "cell_type": "code",
      "execution_count": 1,
      "metadata": {
        "colab": {
          "base_uri": "https://localhost:8080/",
          "height": 36
        },
        "id": "myBJr2T_KZmL",
        "outputId": "98f717d2-c600-43fa-c6ba-012f518d0490"
      },
      "outputs": [],
      "source": [
        "# instance var -> python tutor\n",
        "class TradingBot:\n",
        "    \n",
        "    def __init__(self, name, initial_cash):\n",
        "        self.name = name  # Name of the trading bot\n",
        "        self.cash = initial_cash  # Starting cash in USD"
      ]
    },
    {
      "cell_type": "code",
      "execution_count": 2,
      "metadata": {},
      "outputs": [
        {
          "name": "stdout",
          "output_type": "stream",
          "text": [
            "test\n"
          ]
        }
      ],
      "source": [
        "test = TradingBot(\"test\", 1111)\n",
        "print(test.name)"
      ]
    },
    {
      "cell_type": "code",
      "execution_count": 3,
      "metadata": {
        "id": "HRV0i93nzBtZ"
      },
      "outputs": [],
      "source": [
        "#Encapsulation Example\n",
        "\n",
        "class AutoTradingBot:\n",
        "    def __init__(self,thresold):\n",
        "        self.__thresold = thresold\n",
        "        self.__postion = None\n",
        "        self.__price_data = []\n",
        "    \n",
        "    def fetch_market_data(self):\n",
        "        self.__price_data =[69140,69150,69160,69170,69180,69190]\n",
        "        return self.__price_data\n",
        "        print(\"Market data has been fetched\")\n",
        "\n",
        "    def latest_price(self):\n",
        "        if self.__price_data:\n",
        "            return self.__price_data[-1]\n",
        "        else:\n",
        "            None\n",
        "\n",
        "    def evaluate_price(self):\n",
        "        latest_price = self.latest_price()\n",
        "        if latest_price < self.__thresold:\n",
        "            return \"Sell\"\n",
        "        elif latest_price > self.__thresold:\n",
        "            return \"Buy\"\n",
        "        else:\n",
        "            return \"Hold\"\n",
        "\n",
        "    def execute_trade(self,action):\n",
        "        if action == \"Sell\" and self.__postion != \"Short\":\n",
        "            self.__postion == \"Short\"\n",
        "            return \"Sell trade has been executed  & Current position is 'Short\"  \n",
        "\n",
        "        elif action  == \"Buy\" and self.__postion != \"Long\":\n",
        "            self.__postion == \"Long\"\n",
        "            return \"Buy  trade has been executed  & Current position is 'Long\" \n",
        "        \n",
        "        elif action  == \"Hold\" :\n",
        "            self.__postion == \"Hold\"\n",
        "            return \"The Trade is on Hold for now  & Current position is 'Hold\" \n",
        "    \n"
      ]
    },
    {
      "cell_type": "code",
      "execution_count": 4,
      "metadata": {
        "colab": {
          "base_uri": "https://localhost:8080/"
        },
        "id": "L_5IBTO_LaFO",
        "outputId": "f3e1ac11-942e-4324-b471-d5e9f295fa9c"
      },
      "outputs": [
        {
          "name": "stdout",
          "output_type": "stream",
          "text": [
            "[69140, 69150, 69160, 69170, 69180, 69190]\n",
            "69190\n",
            "Buy\n"
          ]
        }
      ],
      "source": [
        "bot3 = AutoTradingBot(69160)\n",
        "print(bot3.fetch_market_data())\n",
        "print(bot3.latest_price())\n",
        "print(bot3.evaluate_price()) \n",
        "\n",
        "\n"
      ]
    },
    {
      "cell_type": "code",
      "execution_count": 149,
      "metadata": {},
      "outputs": [
        {
          "data": {
            "text/plain": [
              "70000"
            ]
          },
          "execution_count": 149,
          "metadata": {},
          "output_type": "execute_result"
        }
      ],
      "source": [
        "bot3._AutoTradingBot__thresold = 70000\n",
        "bot3._AutoTradingBot__thresold"
      ]
    },
    {
      "cell_type": "code",
      "execution_count": 103,
      "metadata": {
        "colab": {
          "base_uri": "https://localhost:8080/"
        },
        "id": "2k4gY5HlLtdE",
        "outputId": "c37806fc-228d-43ab-fa1c-3d3a021666b7"
      },
      "outputs": [
        {
          "name": "stdout",
          "output_type": "stream",
          "text": [
            "[69140, 69150, 69160, 69170, 69180, 69190]\n",
            "69190\n",
            "Sell trade has been executed  & Current position is 'Short\n"
          ]
        }
      ],
      "source": [
        "print(bot1.fetch_market_data())\n",
        "print(bot1.latest_price())\n",
        "action = bot1.evaluate_price()\n",
        "print(bot1.execute_trade(action))\n",
        "bot3"
      ]
    },
    {
      "cell_type": "markdown",
      "metadata": {},
      "source": [
        "### getattr and setattr methods"
      ]
    },
    {
      "cell_type": "code",
      "execution_count": 227,
      "metadata": {
        "id": "OEDXxBISQeH-"
      },
      "outputs": [],
      "source": [
        "\n",
        "class AutoTradingBot:\n",
        "    def __init__(self,thresold):\n",
        "        self.__thresold = thresold\n",
        "        self.__postion = None\n",
        "        self.__price_data = []\n",
        "\n",
        "    def getattr(self):\n",
        "        return self._AutoTradingBot__thresold\n",
        "    \n",
        "    def setattr(self,new_thresold):\n",
        "        if type(new_thresold) == int :\n",
        "            self._AutoTradingBot__thresold = new_thresold\n",
        "            return self._AutoTradingBot__thresold\n",
        "        else:\n",
        "         return \"Don't try to be oversmart\""
      ]
    },
    {
      "cell_type": "code",
      "execution_count": 221,
      "metadata": {
        "colab": {
          "base_uri": "https://localhost:8080/",
          "height": 330
        },
        "id": "MIOrnSeLL4Gi",
        "outputId": "928252c3-ae3b-42ed-fe0c-11e1e6ed7b08"
      },
      "outputs": [],
      "source": [
        "bot4 = AutoTradingBot(7000)"
      ]
    },
    {
      "cell_type": "code",
      "execution_count": 222,
      "metadata": {},
      "outputs": [
        {
          "data": {
            "text/plain": [
              "7000"
            ]
          },
          "execution_count": 222,
          "metadata": {},
          "output_type": "execute_result"
        }
      ],
      "source": [
        "bot4.getattr()"
      ]
    },
    {
      "cell_type": "code",
      "execution_count": 226,
      "metadata": {},
      "outputs": [
        {
          "data": {
            "text/plain": [
              "8000"
            ]
          },
          "execution_count": 226,
          "metadata": {},
          "output_type": "execute_result"
        }
      ],
      "source": [
        "bot4.setattr(8000)"
      ]
    },
    {
      "cell_type": "markdown",
      "metadata": {
        "id": "2zN_yVYaf0_1"
      },
      "source": [
        "### Collection of objects"
      ]
    },
    {
      "cell_type": "code",
      "execution_count": 292,
      "metadata": {
        "id": "UN7FByT3LZSX"
      },
      "outputs": [],
      "source": [
        "class AutoTradingBot:\n",
        "   \n",
        "    counter = 0 \n",
        "    def __init__(self,stock_name,thresold):\n",
        "        self.thresold = thresold\n",
        "        self.stock_name = stock_name\n",
        "       \n",
        "        AutoTradingBot.counter += 1\n",
        "        print(AutoTradingBot.counter)\n",
        "\n",
        "\n",
        "        \n",
        " \n",
        "     "
      ]
    },
    {
      "cell_type": "code",
      "execution_count": 293,
      "metadata": {
        "colab": {
          "base_uri": "https://localhost:8080/"
        },
        "id": "VdP0aR6Qf4zp",
        "outputId": "72deb00b-deae-4536-da36-2bae44d2245c"
      },
      "outputs": [
        {
          "name": "stdout",
          "output_type": "stream",
          "text": [
            "1\n",
            "2\n",
            "3\n",
            "4\n",
            "110 AAPL\n",
            "150 MSFT\n",
            "110000 BTC\n",
            "15000 ETH\n"
          ]
        }
      ],
      "source": [
        "# list of objects\n",
        "\n",
        "Bot1 = AutoTradingBot(\"AAPL\", 110)\n",
        "Bot2 = AutoTradingBot(\"MSFT\",150)\n",
        "Bot3 = AutoTradingBot(\"BTC\", 110000)\n",
        "Bot4 = AutoTradingBot(\"ETH\",15000)\n",
        "\n",
        "L = [Bot1, Bot2, Bot3,Bot4]\n",
        "\n",
        "for i in L:\n",
        "    print(i.thresold, i.stock_name)"
      ]
    },
    {
      "cell_type": "code",
      "execution_count": 291,
      "metadata": {
        "colab": {
          "base_uri": "https://localhost:8080/"
        },
        "id": "uARXTZTCvt3M",
        "outputId": "18e100f5-07a5-43df-d0d9-482ce648f6f5"
      },
      "outputs": [
        {
          "name": "stdout",
          "output_type": "stream",
          "text": [
            "110\n",
            "150\n",
            "110000\n",
            "15000\n"
          ]
        }
      ],
      "source": [
        "# dict of objects\n",
        "# list of objects\n",
        "D = {'p1':Bot1, 'p2':Bot2, 'p3':Bot3,'p4':Bot4}\n",
        "\n",
        "for i in D:\n",
        "    print(D[i].thresold)"
      ]
    },
    {
      "cell_type": "markdown",
      "metadata": {},
      "source": []
    },
    {
      "cell_type": "markdown",
      "metadata": {
        "id": "TKdM9xIFf8Lt"
      },
      "source": [
        "### Static Variables(Vs Instance variables)"
      ]
    },
    {
      "cell_type": "code",
      "execution_count": null,
      "metadata": {
        "id": "yQakCFqbf-kB"
      },
      "outputs": [],
      "source": [
        "# need for static "
      ]
    },
    {
      "cell_type": "code",
      "execution_count": null,
      "metadata": {
        "id": "5HYjBHv9wZNm"
      },
      "outputs": [],
      "source": []
    },
    {
      "cell_type": "code",
      "execution_count": null,
      "metadata": {
        "colab": {
          "base_uri": "https://localhost:8080/"
        },
        "id": "uafMrCPewZWY",
        "outputId": "b0c914a4-b08b-4aa0-ebcb-9f1b4bacd0ba"
      },
      "outputs": [],
      "source": []
    },
    {
      "cell_type": "code",
      "execution_count": null,
      "metadata": {
        "colab": {
          "base_uri": "https://localhost:8080/"
        },
        "id": "f35wRAlXwZa7",
        "outputId": "a7a897b2-8262-45b7-b83a-aad207ee102f"
      },
      "outputs": [],
      "source": []
    },
    {
      "cell_type": "code",
      "execution_count": null,
      "metadata": {
        "colab": {
          "base_uri": "https://localhost:8080/"
        },
        "id": "WiCrLBgGTseq",
        "outputId": "9019d462-0b46-4a9d-8837-6a3c31591ad4"
      },
      "outputs": [],
      "source": []
    },
    {
      "cell_type": "code",
      "execution_count": null,
      "metadata": {
        "colab": {
          "base_uri": "https://localhost:8080/"
        },
        "id": "YwPU4wRYTuoK",
        "outputId": "cb34a43c-1337-412f-c7ee-e6a2eccd9066"
      },
      "outputs": [],
      "source": []
    },
    {
      "cell_type": "code",
      "execution_count": null,
      "metadata": {
        "colab": {
          "base_uri": "https://localhost:8080/"
        },
        "id": "-shiIdW1Vmzd",
        "outputId": "2e1b0468-2e2f-4061-d219-6ee4d818ceea"
      },
      "outputs": [],
      "source": []
    },
    {
      "cell_type": "markdown",
      "metadata": {
        "id": "K9bxHyfBgC3Y"
      },
      "source": [
        "### Static methods"
      ]
    },
    {
      "cell_type": "code",
      "execution_count": null,
      "metadata": {
        "id": "_c09xqV9gEf-"
      },
      "outputs": [],
      "source": []
    },
    {
      "cell_type": "markdown",
      "metadata": {
        "id": "Izqb_9FtwoIZ"
      },
      "source": [
        "##### Points to remember about static\n",
        "\n",
        "- Static attributes are created at class level.\n",
        "- Static attributes are accessed using ClassName.\n",
        "- Static attributes are object independent. We can access them without creating instance (object) of the class in which they are defined.\n",
        "- The value stored in static attribute is shared between all instances(objects) of the class in which the static attribute is defined."
      ]
    },
    {
      "cell_type": "code",
      "execution_count": null,
      "metadata": {
        "id": "3u0RdyaFwyaP"
      },
      "outputs": [],
      "source": []
    }
  ],
  "metadata": {
    "colab": {
      "provenance": []
    },
    "kernelspec": {
      "display_name": "Python 3",
      "name": "python3"
    },
    "language_info": {
      "codemirror_mode": {
        "name": "ipython",
        "version": 3
      },
      "file_extension": ".py",
      "mimetype": "text/x-python",
      "name": "python",
      "nbconvert_exporter": "python",
      "pygments_lexer": "ipython3",
      "version": "3.12.0"
    }
  },
  "nbformat": 4,
  "nbformat_minor": 0
}
