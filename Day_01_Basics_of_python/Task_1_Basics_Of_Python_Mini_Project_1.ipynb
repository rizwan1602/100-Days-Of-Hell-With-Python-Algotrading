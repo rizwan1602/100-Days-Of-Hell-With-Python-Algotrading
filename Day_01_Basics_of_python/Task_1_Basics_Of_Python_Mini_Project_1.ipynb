{
 "cells": [
  {
   "cell_type": "markdown",
   "metadata": {},
   "source": [
    "1.Write a Python print statement that shows a message saying, \"Starting the trading session.\""
   ]
  },
  {
   "cell_type": "code",
   "execution_count": 1,
   "metadata": {},
   "outputs": [
    {
     "name": "stdout",
     "output_type": "stream",
     "text": [
      "starting the trading session...\n"
     ]
    }
   ],
   "source": [
    "#Write your code here\n",
    "print(\"starting the trading season\")"
   ]
  },
  {
   "cell_type": "markdown",
   "metadata": {},
   "source": [
    "2.Create a variable stock_price that stores the current price of a stock as a floating-point number."
   ]
  },
  {
   "cell_type": "code",
   "execution_count": 2,
   "metadata": {},
   "outputs": [
    {
     "name": "stdout",
     "output_type": "stream",
     "text": [
      "stock price is 1.2\n"
     ]
    }
   ],
   "source": [
    "stock_price = 1.2\n",
    "\n",
    "print(f\"stock price is {stock_price}\")"
   ]
  },
  {
   "cell_type": "markdown",
   "metadata": {},
   "source": [
    "3.Assign the symbol AAPL to a variable named stock_symbol."
   ]
  },
  {
   "cell_type": "code",
   "execution_count": 3,
   "metadata": {},
   "outputs": [
    {
     "name": "stdout",
     "output_type": "stream",
     "text": [
      "stock symbol is AAPL\n"
     ]
    }
   ],
   "source": [
    "#Write your code here\n",
    "stock_symbol = \"AAPL\"\n",
    "print(f\"stock symbol is {stock_symbol}\")"
   ]
  },
  {
   "cell_type": "markdown",
   "metadata": {},
   "source": [
    "4.Add a comment explaining that the following code will initialize a trading balance variable with 10000."
   ]
  },
  {
   "cell_type": "code",
   "execution_count": null,
   "metadata": {},
   "outputs": [],
   "source": [
    "#Write your code here\n",
    "#kindly add 1000 balance"
   ]
  },
  {
   "cell_type": "markdown",
   "metadata": {},
   "source": [
    "5.Identify and fix the syntax error in the following code snippet:\n",
    "   total_return = final_price - initial_price\n",
    "   print(total_return)"
   ]
  },
  {
   "cell_type": "code",
   "execution_count": 5,
   "metadata": {},
   "outputs": [
    {
     "name": "stdout",
     "output_type": "stream",
     "text": [
      "3\n"
     ]
    }
   ],
   "source": [
    "#Write your code here\n",
    "final_price = 8\n",
    "initial_price = 5\n",
    "total_return = final_price - initial_price\n",
    "print(total_return)"
   ]
  },
  {
   "cell_type": "markdown",
   "metadata": {},
   "source": [
    "6.Write a program that asks the user for the quantity of a stock to buy and prints \"Buying X shares,\" where X is the input quantity."
   ]
  },
  {
   "cell_type": "code",
   "execution_count": 6,
   "metadata": {},
   "outputs": [
    {
     "name": "stdout",
     "output_type": "stream",
     "text": [
      "buying 20 shares\n"
     ]
    }
   ],
   "source": [
    "#Write your code here\n",
    "x= input(\"what quantity of stock do you want to buy?\")\n",
    "print(f\"buying {x} shares\")"
   ]
  },
  {
   "cell_type": "markdown",
   "metadata": {},
   "source": [
    "7.Convert a string variable price_str holding the value \"89.50\" into a floating-point number."
   ]
  },
  {
   "cell_type": "code",
   "execution_count": 7,
   "metadata": {},
   "outputs": [
    {
     "name": "stdout",
     "output_type": "stream",
     "text": [
      "89.5\n"
     ]
    }
   ],
   "source": [
    "#Write your code here\n",
    "str = \"89.50\"\n",
    "print(float(str))"
   ]
  },
  {
   "cell_type": "markdown",
   "metadata": {},
   "source": [
    "8.Define a list literal containing the stock symbols \"AAPL\", \"TSLA\", and \"GOOGL\"."
   ]
  },
  {
   "cell_type": "code",
   "execution_count": 11,
   "metadata": {},
   "outputs": [
    {
     "name": "stdout",
     "output_type": "stream",
     "text": [
      "Tesla is not available\n",
      "Tesla is not available\n",
      "Tesla is available\n",
      "Tesla is not available\n"
     ]
    }
   ],
   "source": [
    "#Write your code here\n",
    "stock = [\"AAPL\", \"GOOGL\", \"TSLA\", \"AMZN\"]\t\n",
    "for i in stock:\n",
    "    if i == \"TSLA\":\n",
    "        print(\"Tesla is available\")\n",
    "    else:\n",
    "        print(\"Tesla is not available\")"
   ]
  },
  {
   "cell_type": "markdown",
   "metadata": {},
   "source": [
    "9.Write a print statement that outputs \"Stock XYZ is trading at $PRICE\", where XYZ is a variable symbol, and PRICE is a floating-point variable price."
   ]
  },
  {
   "cell_type": "code",
   "execution_count": 12,
   "metadata": {},
   "outputs": [
    {
     "name": "stdout",
     "output_type": "stream",
     "text": [
      "stock AAP at price 90.8 is available\n"
     ]
    }
   ],
   "source": [
    "#Write your code here\n",
    "xyz=  \"AAP\"\n",
    "price = 90.8\n",
    "\n",
    "print(f\"stock {xyz} at price {price} is available\")"
   ]
  },
  {
   "cell_type": "markdown",
   "metadata": {},
   "source": [
    "10.Write a Python Program print_trade_summary(symbol, quantity, price) that accepts a stock symbol, the number of shares, and the price per share. It should print out a formatted summary of the total trade cost."
   ]
  },
  {
   "cell_type": "code",
   "execution_count": 13,
   "metadata": {},
   "outputs": [
    {
     "name": "stdout",
     "output_type": "stream",
     "text": [
      "Buying 100 of AAPL at price 90.8\n"
     ]
    }
   ],
   "source": [
    "#Write your code here\n",
    "\n",
    "def stock_price(symbol , quantity , price ):\n",
    "    print(f\"Buying {quantity} of {symbol} at price {price}\")\n",
    "\n",
    "stock_price(\"AAPL\", 100, 90.8)\n"
   ]
  },
  {
   "cell_type": "markdown",
   "metadata": {},
   "source": [
    "**11.** Calculate the Daily Return on Investment (ROI)\n",
    "\n",
    "**Objective:** Prompt the user to enter the purchase price and the selling price of a stock, and calculate the ROI.\n"
   ]
  },
  {
   "cell_type": "code",
   "execution_count": 14,
   "metadata": {},
   "outputs": [
    {
     "name": "stdout",
     "output_type": "stream",
     "text": [
      "return on investment is 20.0%\n"
     ]
    }
   ],
   "source": [
    "#Write your code here\n",
    "x= input(\"what price you want to buy the stock at?\")\n",
    "y= input(\"what price you want to sell the stock at?\")\n",
    "\n",
    "roi = ((float(y) - float(x))/float(x))*100\n",
    "print(f\"return on investment is {roi}%\")"
   ]
  },
  {
   "cell_type": "markdown",
   "metadata": {},
   "source": [
    "**12.** Determine the Average Price from User Inputs\n",
    "\n",
    "**Objective:** Ask the user to input three different prices of a stock throughout the day and compute the average.\n"
   ]
  },
  {
   "cell_type": "code",
   "execution_count": 16,
   "metadata": {},
   "outputs": [
    {
     "name": "stdout",
     "output_type": "stream",
     "text": [
      "average stock price is 20.0\n"
     ]
    }
   ],
   "source": [
    "#Write your code here\n",
    "a= input(\"enter your first stock\")\n",
    "b = input(\"enter your second stock\")\n",
    "c= input(\"enter your third stock\")\n",
    "\n",
    "avg = (float(a) + float(b) + float(c))/3\n",
    "print(f\"average stock price is {avg}\")"
   ]
  },
  {
   "cell_type": "markdown",
   "metadata": {},
   "source": []
  },
  {
   "cell_type": "markdown",
   "metadata": {},
   "source": [
    "**13.** Compare Two Stock Prices\n",
    "\n",
    "**Objective:** Ask the user for the prices of two stocks and print which one is higher.\n",
    "\n"
   ]
  },
  {
   "cell_type": "code",
   "execution_count": null,
   "metadata": {},
   "outputs": [],
   "source": [
    "#Write your code here\n",
    "a= input(\"enter your first stock\")\n",
    "b = input(\"enter your second stock\")\n",
    "\n",
    "if a > b:\n",
    "    print(f\"{a} has higher stock price\")\n",
    "else:\n",
    "    print(f\"{b} has higher stock price\")"
   ]
  },
  {
   "cell_type": "markdown",
   "metadata": {},
   "source": [
    "**14.** Break-Even Price Calculator\n",
    "\n",
    "**Objective:** Calculate the break-even price after buying a stock and spending money on fees.\n",
    "\n",
    "\n"
   ]
  },
  {
   "cell_type": "code",
   "execution_count": 1,
   "metadata": {},
   "outputs": [],
   "source": [
    "#Write your code here\n",
    "\n"
   ]
  },
  {
   "cell_type": "markdown",
   "metadata": {},
   "source": [
    "**15.** Display Stock Price Change\n",
    "\n",
    "**Objective:** Ask the user to enter yesterday's and today's stock prices, then print the change in price.\n",
    "\n",
    "\n"
   ]
  },
  {
   "cell_type": "code",
   "execution_count": 18,
   "metadata": {},
   "outputs": [
    {
     "name": "stdout",
     "output_type": "stream",
     "text": [
      "stock price has decreased\n"
     ]
    }
   ],
   "source": [
    "#Write your code here\n",
    "yesterday_price = 100\n",
    "a = int(input(\"enter today's stock price\"))\n",
    "if a > yesterday_price:\n",
    "    print(\"stock price has increased\")\n",
    "else:\n",
    "    print(\"stock price has decreased\")"
   ]
  },
  {
   "cell_type": "markdown",
   "metadata": {},
   "source": [
    "**16.** Calculate Required Margin\n",
    "\n",
    "**Objective:** Calculate the required margin for a trade based on user inputs for trade size and margin rate.\n",
    "\n"
   ]
  },
  {
   "cell_type": "code",
   "execution_count": null,
   "metadata": {},
   "outputs": [],
   "source": [
    "#Write your code here"
   ]
  },
  {
   "cell_type": "markdown",
   "metadata": {},
   "source": [
    "**17.** Convert Currency from User Input\n",
    "\n",
    "**Objective:** Ask the user for an amount in USD and a conversion rate, then convert it to another currency.\n",
    "\n",
    "\n"
   ]
  },
  {
   "cell_type": "code",
   "execution_count": null,
   "metadata": {},
   "outputs": [],
   "source": [
    "#Write your code here"
   ]
  },
  {
   "cell_type": "markdown",
   "metadata": {},
   "source": [
    "**18.** Calculate the Weighted Average Price\n",
    "\n",
    "**Objective:** Calculate the weighted average price based on user inputs for different prices and their respective weights.\n",
    "\n",
    "\n"
   ]
  },
  {
   "cell_type": "code",
   "execution_count": null,
   "metadata": {},
   "outputs": [],
   "source": [
    "#Write your code here"
   ]
  },
  {
   "cell_type": "markdown",
   "metadata": {},
   "source": [
    "**19.** User Input to Adjust Stock Quantity\n",
    "\n",
    "**Objective:** Prompt the user for the current number of stocks, how many to buy, and how many to sell, then calculate the new total.\n",
    "\n",
    "\n",
    "\n"
   ]
  },
  {
   "cell_type": "code",
   "execution_count": null,
   "metadata": {},
   "outputs": [],
   "source": [
    "#Write your code here"
   ]
  },
  {
   "cell_type": "markdown",
   "metadata": {},
   "source": [
    "### Python Mini Project 1 :\n",
    "\n",
    "Scenario: Stock Data Entry and Analysis Tool\n",
    "\n",
    "**Objective:**\n",
    "Create a Python script that  will involve taking manual input for stock prices over a week and will calculate the average price. It should also demonstrate variable declaration, user input, and basic arithmetic using Python types.\n",
    "\n"
   ]
  }
 ],
 "metadata": {
  "kernelspec": {
   "display_name": "base",
   "language": "python",
   "name": "python3"
  },
  "language_info": {
   "codemirror_mode": {
    "name": "ipython",
    "version": 3
   },
   "file_extension": ".py",
   "mimetype": "text/x-python",
   "name": "python",
   "nbconvert_exporter": "python",
   "pygments_lexer": "ipython3",
   "version": "3.12.0"
  }
 },
 "nbformat": 4,
 "nbformat_minor": 2
}
