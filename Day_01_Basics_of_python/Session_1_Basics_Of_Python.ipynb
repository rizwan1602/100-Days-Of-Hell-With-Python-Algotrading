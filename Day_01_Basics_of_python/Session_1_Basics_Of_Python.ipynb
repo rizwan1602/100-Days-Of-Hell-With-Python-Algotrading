{
 "cells": [
  {
   "cell_type": "markdown",
   "metadata": {},
   "source": [
    "## Unit 1 - Python Basics\n",
    "### Session 1: Basic Concepts In Python\n",
    "\n",
    "\n",
    "#### About Python \n",
    "- Definition :- Python is a high-level, interpreted programming language known for its clear syntax and readability. It supports multiple programming paradigms, including procedural, object-oriented, and functional programming. Python is widely used for web development, data analysis, artificial intelligence, scientific computing, and more.\n",
    "  "
   ]
  },
  {
   "cell_type": "code",
   "execution_count": 10,
   "metadata": {},
   "outputs": [],
   "source": [
    "#Why Python ?\n",
    "  #1.Design Philosopy\n",
    "  #2.Batteries Included\n",
    "  #3.General Purpose Programming Language\n",
    "  #4.Libraries/Community\n",
    "\n",
    "#Why Python for Algotrading ?\n",
    "  #1.Easy to learn\n",
    "  #2.Proximity with Maths\n",
    "  #3.Community"
   ]
  },
  {
   "cell_type": "code",
   "execution_count": null,
   "metadata": {},
   "outputs": [],
   "source": []
  },
  {
   "cell_type": "markdown",
   "metadata": {},
   "source": [
    "#### Python Output/print function \n",
    "- Definition :- The print() function in Python is used to output data to the standard output device (screen). It can be used to print strings, numbers, or any other printable objects. This function is often used for displaying information or debugging.\n"
   ]
  },
  {
   "cell_type": "code",
   "execution_count": 7,
   "metadata": {},
   "outputs": [
    {
     "name": "stdout",
     "output_type": "stream",
     "text": [
      "Hello World syed rizwan !\n",
      "hello world 1 2.0 True False None\n",
      "hello syed ahmed Hello World !-This is Kuldeep-We are The Unstoppable\n"
     ]
    }
   ],
   "source": [
    "#Printing Single Data Type\n",
    "print(\"Hello World syed rizwan !\")\n",
    "#Printing Multiple Data Types\n",
    "print(\"hello world\", 1, 2.0, True, False, None)\n",
    "print(\"hello syed \" ,end=\"ahmed \")\n",
    "# #Separator \n",
    "\n",
    "# #End\n",
    "print(\"Hello World !\", end=\"-\")\n",
    "print(\"This is Kuldeep\",end=\"-\")\n",
    "print(\"We are The Unstoppable\")\n"
   ]
  },
  {
   "cell_type": "markdown",
   "metadata": {},
   "source": [
    "#### Python Data Types\n",
    "- Definition :- Data types in Python define the operations possible on the variables and the storage method. Common primary data types include integers (int), floating-point numbers (float), strings (str), and Booleans (bool). Python also supports complex data types like lists, tuples, sets, and dictionaries.\n"
   ]
  },
  {
   "cell_type": "code",
   "execution_count": 11,
   "metadata": {},
   "outputs": [
    {
     "name": "stdout",
     "output_type": "stream",
     "text": [
      "1\n",
      "<class 'int'>\n",
      "1.2\n",
      "<class 'float'>\n",
      "True\n",
      "<class 'bool'>\n",
      "100 Days of Hell with Python Algotrading\n",
      "<class 'str'>\n",
      "3.0\n",
      "<class 'complex'>\n",
      "[1, 2, 'Kuldeep', 1.2]\n",
      "<class 'list'>\n",
      "(1, 2, 'Kuldeep', 1.2)\n",
      "<class 'tuple'>\n",
      "{1, 2, 1.2, 'Kuldeep'}\n",
      "<class 'set'>\n",
      "dict_keys(['key1', 'key2', 'key3', 'key4'])\n",
      "<class 'dict'>\n"
     ]
    }
   ],
   "source": [
    "#IFBSCLTSD\n",
    "\n",
    "#Integers\n",
    "\n",
    "print(1)\n",
    "print(type(1))\n",
    "\n",
    "#Float\n",
    "print(1.2)\n",
    "print(type(1.2))\n",
    "\n",
    "#Boolean\n",
    "print(True)\n",
    "print(type(True))\n",
    "\n",
    "#Strings\n",
    "strings = \"100 Days of Hell with Python Algotrading\"\n",
    "print(strings)\n",
    "print(type(strings))\n",
    "\n",
    "#Complex\n",
    "complex = 2+3j\n",
    "print(complex.imag)\n",
    "print(type(complex))\n",
    "\n",
    "#List\n",
    "list = [1,2,\"Syed Rizwan\", 1.2]\n",
    "print(list)\n",
    "print(type(list))\n",
    "\n",
    "\n",
    "#Tuples\n",
    "Tuples = (1,2,\"Syed Rizwan\", 1.2)\n",
    "print(Tuples)\n",
    "print(type(Tuples))\n",
    "\n",
    "\n",
    "#Sets\n",
    "set = {1,2,\"Syed Rizwan\", 1.2}\n",
    "print(set)\n",
    "print(type(set))\n",
    "\n",
    "#Dictinary \n",
    "dict = {\"key1\":1,\"key2\":2,\"key3\":\"Kuldeep\", \"key4\":1.2}\n",
    "print(dict.keys())\n",
    "print(type(dict))\n",
    "\n",
    "\n",
    "\n",
    "\n",
    "#How to know the data type of any object ?"
   ]
  },
  {
   "cell_type": "markdown",
   "metadata": {},
   "source": [
    "#### Python Variables \n",
    "- Definition :- Variables in Python are names attached to particular objects or values. They are created through assignments and don’t need explicit declaration. Python is dynamically typed, which means the type of a variable is determined at runtime.\n"
   ]
  },
  {
   "cell_type": "code",
   "execution_count": 16,
   "metadata": {},
   "outputs": [
    {
     "name": "stdout",
     "output_type": "stream",
     "text": [
      "1 1 1\n"
     ]
    }
   ],
   "source": [
    "# How to decalare/create a variable ?\n",
    "a = 1\n",
    "b = \"Apple Stocks\"\n",
    "# Dynamic Typing\n",
    "a = 1\n",
    "b = \"Kuldeep\"\n",
    "# Dynamic Binding\n",
    "a = 1\n",
    "a = \"Kuldeep\"\n",
    "a = [1,2,3]\n",
    "# Stylish techniques for variable declaration\n",
    "a = 1\n",
    "b = 2\n",
    "c = 3\n",
    "\n",
    "a,b,c = 1,2,3\n",
    "\n",
    "a=b=c=1\n",
    "print(a,b,c)"
   ]
  },
  {
   "cell_type": "markdown",
   "metadata": {},
   "source": [
    "#### Python comments \n",
    "- Definition :- Comments in Python are used to explain Python code and make it more readable. They are ignored by the Python interpreter. Single-line comments start with a hash symbol (#), and multi-line comments can be enclosed in triple quotes (\"\"\" or ''')."
   ]
  },
  {
   "cell_type": "code",
   "execution_count": 18,
   "metadata": {},
   "outputs": [
    {
     "data": {
      "text/plain": [
       "'  \\nThis is Kuldeep \\nand here is the example of \\nmultiline comments\\n\\n'"
      ]
     },
     "execution_count": 18,
     "metadata": {},
     "output_type": "execute_result"
    }
   ],
   "source": [
    "# Single Line\n",
    "# This is a which equal to one\n",
    "a = 1\n",
    "# Multiple Line\n",
    "'''  \n",
    "This is Syed Rizwan \n",
    "and here is the example of \n",
    "multiline comments\n",
    "\n",
    "'''"
   ]
  },
  {
   "cell_type": "markdown",
   "metadata": {},
   "source": [
    "#### Python Keywords and Identifiers \n",
    "- Definition :- Keywords are the reserved words in Python that cannot be used as ordinary identifiers. They define the syntax and structure of the Python language. Examples include if, for, and while. Identifiers are the names given to entities like classes, functions, variables, etc., and must start with a letter or an underscore followed by letters, digits, or underscores."
   ]
  },
  {
   "cell_type": "code",
   "execution_count": 19,
   "metadata": {},
   "outputs": [
    {
     "ename": "IndentationError",
     "evalue": "expected an indented block after function definition on line 3 (1646518045.py, line 4)",
     "output_type": "error",
     "traceback": [
      "\u001b[1;36m  Cell \u001b[1;32mIn[19], line 4\u001b[1;36m\u001b[0m\n\u001b[1;33m    class Market_Analyser\"\"\u001b[0m\n\u001b[1;37m    ^\u001b[0m\n\u001b[1;31mIndentationError\u001b[0m\u001b[1;31m:\u001b[0m expected an indented block after function definition on line 3\n"
     ]
    }
   ],
   "source": [
    "#Keywords\n",
    "a = 1\n",
    "def tock_data():\n",
    "class Market_Analyser\"\"\n",
    "#Identifiers\n",
    "  # 1.Can't start with a digit\n",
    "  # 2.Can't use any special character except _\n",
    "  # 3.Identifiers can not be keywords"
   ]
  },
  {
   "cell_type": "markdown",
   "metadata": {},
   "source": [
    "#### Python User Input \n",
    "- Definition :- Python allows for user input; that is, it can take input from the user via the keyboard. The input() function reads a line from input, converts it into a string, and returns it.\n"
   ]
  },
  {
   "cell_type": "code",
   "execution_count": 21,
   "metadata": {},
   "outputs": [
    {
     "name": "stdout",
     "output_type": "stream",
     "text": [
      "<class 'int'>\n",
      "<class 'int'>\n"
     ]
    },
    {
     "data": {
      "text/plain": [
       "0"
      ]
     },
     "execution_count": 21,
     "metadata": {},
     "output_type": "execute_result"
    }
   ],
   "source": [
    "# Static Vs Dynamic\n",
    "\n",
    "# Take input from users and store them in a variable\n",
    "\n",
    "\n",
    "\n",
    "# Perform operation\n",
    "# Print the result\n",
    "# Default data type in input function \n",
    "\n",
    "current_price = int(input(\"What the current price of Bitcoin? \"))\n",
    "yday_price = int(input(\"What the Yday price of Bitcoin? \"))\n",
    "diff = int(current_price)  - int(yday_price)\n",
    "print(type(current_price))\n",
    "print(type(yday_price))\n",
    "diff\n"
   ]
  },
  {
   "cell_type": "markdown",
   "metadata": {},
   "source": [
    "#### Python Type conversion \n",
    "- Definition :- Type conversion in Python refers to the conversion of one data type into another. Python provides several built-in functions like int(), float(), and str() to perform conversions between data types explicitly.\n"
   ]
  },
  {
   "cell_type": "code",
   "execution_count": 22,
   "metadata": {},
   "outputs": [
    {
     "data": {
      "text/plain": [
       "300"
      ]
     },
     "execution_count": 22,
     "metadata": {},
     "output_type": "execute_result"
    }
   ],
   "source": [
    "# Implicit Vs Explicit\n",
    "price1 = 100\n",
    "price2 = \"200\"\n",
    "total= price1 +int(price2)\n",
    "total"
   ]
  },
  {
   "cell_type": "markdown",
   "metadata": {},
   "source": [
    "#### Python Literals \n",
    "- Definition :- Literals in Python are data items given in a variable or constant. Python supports various types of literals, including string literals ('hello'), numeric literals (e.g., 123, 10.23), boolean literals (True and False), and collection literals (e.g., [1, 2, 3], {a:1, b:2})."
   ]
  },
  {
   "cell_type": "code",
   "execution_count": 25,
   "metadata": {},
   "outputs": [],
   "source": [
    "# 1. Binary Literals\n",
    "a = 0b1001\n",
    "# 2. Decimal Literals\n",
    "b = 301\n",
    "# 3. Octal Literals\n",
    "c = 0o321\n",
    "# 4. Hexadecial Literals\n",
    "d = 0x21b\n",
    "\n",
    "# 5. Float Literals\n",
    "e = 1.2\n",
    "# 6. Complex Literals\n",
    "f  = 1+2j\n",
    "# 7. String Literals\n",
    "h =  \"it's a string1\"\n",
    "  # ' '\n",
    "  # \" \"\n",
    "  # ''' '''\n",
    "  # Unicode\n",
    "unicode_str = u\"\\U0001F923\\U0001f600\"\n",
    "  # Raw\n",
    "raw_str = r\"raw \\n string\"\n"
   ]
  },
  {
   "cell_type": "code",
   "execution_count": 32,
   "metadata": {},
   "outputs": [
    {
     "name": "stdout",
     "output_type": "stream",
     "text": [
      "it's a string1\n"
     ]
    }
   ],
   "source": [
    "print(h)"
   ]
  },
  {
   "cell_type": "code",
   "execution_count": null,
   "metadata": {},
   "outputs": [],
   "source": []
  }
 ],
 "metadata": {
  "kernelspec": {
   "display_name": "base",
   "language": "python",
   "name": "python3"
  },
  "language_info": {
   "codemirror_mode": {
    "name": "ipython",
    "version": 3
   },
   "file_extension": ".py",
   "mimetype": "text/x-python",
   "name": "python",
   "nbconvert_exporter": "python",
   "pygments_lexer": "ipython3",
   "version": "3.12.0"
  }
 },
 "nbformat": 4,
 "nbformat_minor": 2
}
