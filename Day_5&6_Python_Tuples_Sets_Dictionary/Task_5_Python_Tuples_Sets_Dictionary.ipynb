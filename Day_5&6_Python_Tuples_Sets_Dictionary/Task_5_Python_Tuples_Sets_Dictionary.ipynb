{
 "cells": [
  {
   "cell_type": "markdown",
   "metadata": {},
   "source": [
    "1. **Market Data Handling with Tuples and Dictionaries** \n",
    "\n",
    "   - **Question**: You receive real-time market data in the form of tuples `(symbol, price, volume)`. Store these tuples in a dictionary where the key is the symbol and the value is a list of tuples containing price and volume. Update the dictionary with new data and maintain only the last three entries per stock. "
   ]
  },
  {
   "cell_type": "code",
   "execution_count": 2,
   "metadata": {},
   "outputs": [],
   "source": [
    "#Write your code here"
   ]
  },
  {
   "cell_type": "markdown",
   "metadata": {},
   "source": [
    "2. **Set Operations for Unique Symbol Tracking** \n",
    "\n",
    "   - **Question**: Given a list of transactions where each transaction is a tuple `(symbol, type, amount)`, use a set to track unique symbols involved in \"sell\" transactions. "
   ]
  },
  {
   "cell_type": "code",
   "execution_count": null,
   "metadata": {},
   "outputs": [],
   "source": [
    "#Write your code here"
   ]
  },
  {
   "cell_type": "markdown",
   "metadata": {},
   "source": [
    "3. **Using Zip() with Tuples for Price Comparison** \n",
    "\n",
    "   - **Question**: You have two lists of stock prices at different times. Use `zip()` to create tuples paired by their indices and print those stocks where the price has increased. "
   ]
  },
  {
   "cell_type": "code",
   "execution_count": null,
   "metadata": {},
   "outputs": [],
   "source": [
    "#Write your code here"
   ]
  },
  {
   "cell_type": "markdown",
   "metadata": {},
   "source": [
    "4. **Nested Dictionary Comprehension for Market Analysis** \n",
    "\n",
    "   - **Question**: Create a nested dictionary from a list of tuples `(symbol, price)`, categorizing by the first letter of the symbol and storing prices in a list. "
   ]
  },
  {
   "cell_type": "code",
   "execution_count": null,
   "metadata": {},
   "outputs": [],
   "source": [
    "#Write your code here"
   ]
  },
  {
   "cell_type": "markdown",
   "metadata": {},
   "source": [
    "5. **Advanced Set and Tuple Manipulation** \n",
    "\n",
    "   - **Question**: Given historical data as a list of tuples `(symbol, price)`, filter out any duplicate entries using set operations and return a sorted list of tuples based on the price in descending order. "
   ]
  },
  {
   "cell_type": "code",
   "execution_count": null,
   "metadata": {},
   "outputs": [],
   "source": [
    "#Write your code here"
   ]
  },
  {
   "cell_type": "markdown",
   "metadata": {},
   "source": [
    "6. **Complex Data Structure for Asset Management** \n",
    "\n",
    "   - **Question**: Construct a data structure using dictionaries that maps stock symbols to another dictionary containing lists of tuples for different transaction types ('buy' or 'sell'). "
   ]
  },
  {
   "cell_type": "code",
   "execution_count": null,
   "metadata": {},
   "outputs": [],
   "source": [
    "#Write your code here"
   ]
  },
  {
   "cell_type": "markdown",
   "metadata": {},
   "source": [
    "7. **Financial Data Analysis Using Zip and List Comprehension** \n",
    "\n",
    "   - **Question**: You have separate lists of stock symbols and their respective quarterly returns. Pair them and find those with positive returns. "
   ]
  },
  {
   "cell_type": "code",
   "execution_count": null,
   "metadata": {},
   "outputs": [],
   "source": [
    "#Write your code here"
   ]
  },
  {
   "cell_type": "markdown",
   "metadata": {},
   "source": [
    "8. **Immutable Set for Tracking Unique Transactions** \n",
    "\n",
    "   - **Question**: Given a stream of transaction IDs, store these IDs in a frozen set for ensuring that you can safely use them as keys or in a set without modification. "
   ]
  },
  {
   "cell_type": "code",
   "execution_count": null,
   "metadata": {},
   "outputs": [],
   "source": [
    "#Write your code here"
   ]
  },
  {
   "cell_type": "markdown",
   "metadata": {},
   "source": [
    "9. **Tuple Unpacking in Financial Calculations** \n",
    "\n",
    "   - **Question**: You receive data in the form of a list of tuples where each tuple contains a stock symbol, its opening price, and its closing price. Calculate the daily change for each stock using tuple unpacking. "
   ]
  },
  {
   "cell_type": "code",
   "execution_count": null,
   "metadata": {},
   "outputs": [],
   "source": [
    "#Write your code here"
   ]
  },
  {
   "cell_type": "markdown",
   "metadata": {},
   "source": [
    "10. **Comprehensive Market Snapshot Using Nested Comprehensions** \n",
    "\n",
    "    - **Question**: Given a dictionary mapping stock symbols to their daily prices over a week, create a nested dictionary that maps each symbol to another dictionary of 'highest' and 'lowest' prices of the week. "
   ]
  },
  {
   "cell_type": "code",
   "execution_count": null,
   "metadata": {},
   "outputs": [],
   "source": [
    "#"
   ]
  }
 ],
 "metadata": {
  "kernelspec": {
   "display_name": "Python 3",
   "language": "python",
   "name": "python3"
  },
  "language_info": {
   "codemirror_mode": {
    "name": "ipython",
    "version": 3
   },
   "file_extension": ".py",
   "mimetype": "text/x-python",
   "name": "python",
   "nbconvert_exporter": "python",
   "pygments_lexer": "ipython3",
   "version": "3.10.12"
  }
 },
 "nbformat": 4,
 "nbformat_minor": 2
}
