{
 "cells": [
  {
   "cell_type": "markdown",
   "metadata": {},
   "source": [
    "## Unit 1 - Python Basics\n",
    "### Session 2: Operators in Python\n",
    "\n",
    "### Operators in Python\n",
    "1. Arithmatic\n",
    "2. Relational\n",
    "3. Logical\n",
    "4. Bitwise\n",
    "5. Assignment\n",
    "6. Membership"
   ]
  },
  {
   "cell_type": "markdown",
   "metadata": {},
   "source": [
    "### Scenario: Evaluating a Single Trade in Day Trading\n",
    "\n",
    "- Objective:\n",
    "Calculate potential profit, risk, and other financial metrics for a day trade based on given stock price, account balance, and predefined trading rules.\n",
    "\n",
    "\n",
    "# Constants and initial conditions\n",
    "- entry_price = 150.0  # Entry price for the stock\n",
    "- exit_price = 155.0   # Target exit price for the stock\n",
    "- stop_loss_price = 148.0  # Stop loss price\n",
    "- shares_count = 10    # Number of shares considering buying\n",
    "- account_balance = 2000.0  # Current trading account balance\n"
   ]
  },
  {
   "cell_type": "code",
   "execution_count": null,
   "metadata": {},
   "outputs": [],
   "source": []
  },
  {
   "cell_type": "code",
   "execution_count": null,
   "metadata": {},
   "outputs": [],
   "source": []
  },
  {
   "cell_type": "code",
   "execution_count": 237,
   "metadata": {},
   "outputs": [
    {
     "data": {
      "text/plain": [
       "24025.0"
      ]
     },
     "execution_count": 237,
     "metadata": {},
     "output_type": "execute_result"
    }
   ],
   "source": [
    "\n",
    "\n",
    "entry_price = 160.0  # Entry price for the stock\n",
    "exit_price = 155.0   # Target exit price for the stock\n",
    "stop_loss_price = 148.0  # Stop loss price\n",
    "shares_count = 10    # Number of shares considering buying\n",
    "account_balance = 2000.0  # Current trading account balance\n",
    "\n",
    "# 1. Arithmatic\n",
    "    # Add\n",
    "exit_price ** 2\n",
    "    # Sub\n",
    "\n",
    "    # Mul\n",
    "\n",
    "    # Div\n",
    "\n",
    "    # Int Div\n",
    "\n",
    "    # Modulo\n",
    "\n",
    "    # Power of\n",
    "\n",
    "\n"
   ]
  },
  {
   "cell_type": "code",
   "execution_count": null,
   "metadata": {},
   "outputs": [],
   "source": []
  },
  {
   "cell_type": "code",
   "execution_count": 241,
   "metadata": {},
   "outputs": [
    {
     "data": {
      "text/plain": [
       "False"
      ]
     },
     "execution_count": 241,
     "metadata": {},
     "output_type": "execute_result"
    }
   ],
   "source": [
    "entry_price = 155.0  # Entry price for the stock\n",
    "exit_price = 155.0   # Target exit price for the stock\n",
    "stop_loss_price = 148.0  # Stop loss price\n",
    "shares_count = 10    # Number of shares considering buying\n",
    "account_balance = 2000.0  # Current trading account balance\n",
    "total_cost  = entry_price * shares_count\n",
    "\n",
    "# 2. Relational\n",
    "    # >\n",
    "\n",
    "entry_price != exit_price \n",
    "\n",
    "    # <\n",
    "    # >=\n",
    "    # <=\n",
    "    # ==\n",
    "    # !=\n"
   ]
  },
  {
   "cell_type": "code",
   "execution_count": 245,
   "metadata": {},
   "outputs": [
    {
     "data": {
      "text/plain": [
       "True"
      ]
     },
     "execution_count": 245,
     "metadata": {},
     "output_type": "execute_result"
    }
   ],
   "source": [
    "entry_price = 15.0  # Entry price for the stock\n",
    "exit_price = 155.0   # Target exit price for the stock\n",
    "stop_loss_price = 148.0  # Stop loss price\n",
    "shares_count = 10    # Number of shares considering buying\n",
    "account_balance = 2000.0  # Current trading account balance\n",
    "total_cost  = entry_price * shares_count\n",
    "\n",
    "# 3. Logical\n",
    "    # and\n",
    "    # or\n",
    "    # not\n",
    "not entry_price > 100"
   ]
  },
  {
   "cell_type": "code",
   "execution_count": 255,
   "metadata": {},
   "outputs": [
    {
     "data": {
      "text/plain": [
       "10"
      ]
     },
     "execution_count": 255,
     "metadata": {},
     "output_type": "execute_result"
    }
   ],
   "source": [
    "# 4. Bitwise\n",
    "# &\n",
    "# |\n",
    "# ^\n",
    "# ~\n",
    "# >>2\n",
    "#2<<\n",
    "\n",
    "\n",
    "a = 5\n",
    "b = 20\n",
    "5 << 1\n",
    "b >> 1\n"
   ]
  },
  {
   "cell_type": "code",
   "execution_count": 256,
   "metadata": {},
   "outputs": [],
   "source": [
    "# 5. Assignment\n",
    "\n",
    "a = 2\n",
    "\n",
    "a = a+ 2\n",
    "a +=2"
   ]
  },
  {
   "cell_type": "code",
   "execution_count": 261,
   "metadata": {},
   "outputs": [
    {
     "data": {
      "text/plain": [
       "True"
      ]
     },
     "execution_count": 261,
     "metadata": {},
     "output_type": "execute_result"
    }
   ],
   "source": [
    "# 6. Membership\n",
    "\n",
    "\"A\" not in  \"India\"\n",
    "\n"
   ]
  },
  {
   "cell_type": "markdown",
   "metadata": {},
   "source": [
    "### If-else in Python"
   ]
  },
  {
   "cell_type": "code",
   "execution_count": 267,
   "metadata": {},
   "outputs": [
    {
     "name": "stdout",
     "output_type": "stream",
     "text": [
      "Enter price is greater than SL price\n",
      "Share count is greater than 5\n"
     ]
    }
   ],
   "source": [
    "#if-else\n",
    "#if-elif-else\n",
    "#nested if-else\n",
    "\n",
    "\n",
    "entry_price = 145.0  # Entry price for the stock\n",
    "exit_price = 155.0   # Target exit price for the stock\n",
    "stop_loss_price = 144.0  # Stop loss price\n",
    "shares_count = 10    # Number of shares considering buying\n",
    "account_balance = 900.0  # Current trading account balance\n",
    "total_cost  = entry_price * shares_count\n",
    "\n",
    "if entry_price > exit_price:\n",
    "    print(\"Entery price is greater than exit price\")\n",
    "elif entry_price > stop_loss_price:\n",
    "    print(\"Enter price is greater than SL price\")\n",
    "    if shares_count > 5:\n",
    "        print(\"Share count is greater than 5\")\n",
    "    else:\n",
    "        print(\"Share count is not greater than 5\")\n",
    "        \n",
    "else :\n",
    "    print(\"Both the conditions are not true\")\n"
   ]
  },
  {
   "cell_type": "markdown",
   "metadata": {},
   "source": [
    "#### Examples\n",
    "- Lowest price out of 3 price\n",
    "- Menu Driven Programme\n"
   ]
  },
  {
   "cell_type": "code",
   "execution_count": 168,
   "metadata": {},
   "outputs": [
    {
     "name": "stdout",
     "output_type": "stream",
     "text": [
      "115.0 is the lowest price\n"
     ]
    }
   ],
   "source": [
    "\n"
   ]
  },
  {
   "cell_type": "code",
   "execution_count": 171,
   "metadata": {},
   "outputs": [
    {
     "name": "stdout",
     "output_type": "stream",
     "text": [
      "This is the 148.0 \n"
     ]
    }
   ],
   "source": []
  },
  {
   "cell_type": "code",
   "execution_count": null,
   "metadata": {},
   "outputs": [],
   "source": []
  },
  {
   "cell_type": "markdown",
   "metadata": {},
   "source": [
    "### Modules in Pyton\n",
    "- math\n",
    "- keywords\n",
    "- random\n",
    "- datetime\n",
    "- List all modules"
   ]
  },
  {
   "cell_type": "code",
   "execution_count": 180,
   "metadata": {},
   "outputs": [
    {
     "data": {
      "text/plain": [
       "14.0"
      ]
     },
     "execution_count": 180,
     "metadata": {},
     "output_type": "execute_result"
    }
   ],
   "source": [
    "#math.factorial()\n",
    "#math.floor()\n",
    "#math.sqrt()\n",
    "import math\n",
    "math.factorial(5)\n",
    "math.ceil(6.1)\n",
    "math.sqrt(196)\n",
    "\n"
   ]
  },
  {
   "cell_type": "code",
   "execution_count": 1,
   "metadata": {},
   "outputs": [
    {
     "name": "stdout",
     "output_type": "stream",
     "text": [
      "['False', 'None', 'True', 'and', 'as', 'assert', 'async', 'await', 'break', 'class', 'continue', 'def', 'del', 'elif', 'else', 'except', 'finally', 'for', 'from', 'global', 'if', 'import', 'in', 'is', 'lambda', 'nonlocal', 'not', 'or', 'pass', 'raise', 'return', 'try', 'while', 'with', 'yield']\n"
     ]
    }
   ],
   "source": [
    "\n",
    "#keyword.kwlist\n",
    "import keyword\n",
    "print(keyword.kwlist)"
   ]
  },
  {
   "cell_type": "code",
   "execution_count": 2,
   "metadata": {},
   "outputs": [
    {
     "data": {
      "text/plain": [
       "48"
      ]
     },
     "execution_count": 2,
     "metadata": {},
     "output_type": "execute_result"
    }
   ],
   "source": [
    "#random.randint(1,100)\n",
    "import random\n",
    "random.randint(1,100)\n"
   ]
  },
  {
   "cell_type": "code",
   "execution_count": 3,
   "metadata": {},
   "outputs": [
    {
     "name": "stdout",
     "output_type": "stream",
     "text": [
      "2024-05-26 19:55:25.218290\n"
     ]
    }
   ],
   "source": [
    "#datetime.datetime.now()\n",
    "import datetime\n",
    "print(datetime.datetime.now())\n",
    "#Initial Stock Price and Volatility\n",
    "\n"
   ]
  },
  {
   "cell_type": "code",
   "execution_count": 4,
   "metadata": {},
   "outputs": [
    {
     "name": "stdout",
     "output_type": "stream",
     "text": [
      "Today's Date  2024-05-26 19:55:36.723619\n",
      "Initial price  150\n",
      "New  price  157.5\n"
     ]
    }
   ],
   "source": [
    "#Initial Stock Price and Volatility\n",
    "import random\n",
    "import datetime\n",
    "\n",
    "initial_price = 150\n",
    "volatility = 0.05\n",
    "\n",
    "volatility_change = random.choice([-volatility,volatility])\n",
    "\n",
    "daily_price_change = initial_price + (initial_price*volatility_change)\n",
    "\n",
    "today = datetime.datetime.today()\n",
    "\n",
    "print(\"Today's Date \"  , today)\n",
    "print(\"Initial price \"  , initial_price)\n",
    "print(\"New  price \"  , daily_price_change)\n",
    "\n",
    "\n",
    "\n"
   ]
  },
  {
   "cell_type": "code",
   "execution_count": 214,
   "metadata": {},
   "outputs": [
    {
     "name": "stdout",
     "output_type": "stream",
     "text": [
      "\n",
      "Please wait a moment while I gather a list of all available modules...\n",
      "\n",
      "6c7190bc8b55ffe67f57__mypyc bz2                 jupyterlab_pygments requests\n",
      "AppKit              cProfile            jupyterlab_server   requests_file\n",
      "BybitAuthenticator  cachetools          jupyterlab_widgets  requests_oauthlib\n",
      "Cocoa               calendar            jwt                 requests_toolbelt\n",
      "CoreFoundation      certifi             keyring             resource\n",
      "CoreServices        cffi                keyword             rfc3339_validator\n",
      "DateTime            cgi                 kiwisolver          rfc3986_validator\n",
      "FSEvents            cgitb               lazy_loader         rich\n",
      "Foundation          chardet             lazy_object_proxy   rlcompleter\n",
      "IPython             charset_normalizer  lckr_jupyterlab_variableinspector rope\n",
      "OpenSSL             chunk               lib2to3             rpds\n",
      "PIL                 click               libarchive          rsa\n",
      "PyQt5               cloudpickle         libfuturize         rtree\n",
      "__future__          clyent              libmambapy          ruamel_yaml\n",
      "__hello__           cmake               libpasteurize       runpy\n",
      "__phello__          cmath               lief                s3fs\n",
      "_abc                cmd                 linecache           sched\n",
      "_aix_support        code                linkify_it          scipy\n",
      "_argon2_cffi_bindings codecs              llvmlite            scrapy\n",
      "_ast                codeop              lmdb                scs\n",
      "_asyncio            collections         locale              seaborn\n",
      "_bisect             colorama            locket              secrets\n",
      "_black_version      colorcet            logging             select\n",
      "_blake2             colorsys            lxml                selectors\n",
      "_bootsubprocess     comm                lz4                 semver\n",
      "_brotli             compileall          lzma                send2trash\n",
      "_bz2                concurrent          mactypes            service_identity\n",
      "_cffi_backend       conda               mailbox             setup\n",
      "_codecs             conda_build         mailcap             setuptools\n",
      "_codecs_cn          conda_content_trust markdown            shelve\n",
      "_codecs_hk          conda_env           markdown_it         shlex\n",
      "_codecs_iso2022     conda_index         markupsafe          shutil\n",
      "_codecs_jp          conda_libmamba_solver marshal             signal\n",
      "_codecs_kr          conda_pack          math                simplejson\n",
      "_codecs_tw          conda_package_handling matplotlib          sipbuild\n",
      "_collections        conda_package_streaming matplotlib_inline   site\n",
      "_collections_abc    conda_token         mccabe              six\n",
      "_compat_pickle      conda_verify        mdit_py_plugins     skimage\n",
      "_compression        conf                mdurl               sklearn\n",
      "_contextvars        configparser        menuinst            slack\n",
      "_crypt              constantly          mimetypes           slack_sdk\n",
      "_csv                contextlib          mistune             slugify\n",
      "_ctypes             contextvars         mmap                smart_open\n",
      "_ctypes_test        contourpy           modulefinder        smmap\n",
      "_curses             cookiecutter        monotonic           smtpd\n",
      "_curses_panel       copy                more_itertools      smtplib\n",
      "_cvxcore            copyreg             mplfinance          snappy\n",
      "_cvxpy_sparsecholesky cpuinfo             mpmath              sndhdr\n",
      "_datetime           crypt               msgpack             sniffio\n",
      "_dbm                cryptography        multidict           snowballstemmer\n",
      "_decimal            cssselect           multipledispatch    socket\n",
      "_distutils_hack     csv                 multiprocessing     socketserver\n",
      "_ecos               ctypes              multitasking        socks\n",
      "_elementtree        curl                munkres             sockshandler\n",
      "_functools          curses              mypy                sortedcontainers\n",
      "_hashlib            cvxpy               mypy_extensions     soupsieve\n",
      "_heapq              cycler              mypyc               sphinx\n",
      "_imp                cytoolz             navigator_updater   sphinxify\n",
      "_io                 dask                nbclient            sphinxthread\n",
      "_json               dataclasses         nbconvert           spyder\n",
      "_locale             datashader          nbformat            spyder_kernels\n",
      "_lsprof             datetime            nest_asyncio        sqlalchemy\n",
      "_lzma               dateutil            netrc               sqlite3\n",
      "_markupbase         dbm                 networkx            sre_compile\n",
      "_md5                debugpy             nis                 sre_constants\n",
      "_multibytecodec     decimal             nltk                sre_parse\n",
      "_multiprocessing    decorator           nntplib             ssl\n",
      "_opcode             defusedxml          notebook            stack_data\n",
      "_operator           diff_match_patch    notebook_shim       stat\n",
      "_osx_support        difflib             ntpath              statistics\n",
      "_pickle             dill                nturl2path          statsmodels\n",
      "_plotly_future_     dis                 numba               streamlit\n",
      "_plotly_utils       distributed         numbergen           strenum\n",
      "_posixshmem         distro              numbers             string\n",
      "_posixsubprocess    distutils           numexpr             stringprep\n",
      "_py_abc             docstring_to_markdown numpy               struct\n",
      "_pydecimal          doctest             numpydoc            subprocess\n",
      "_pyio               docutils            oauth2client        sunau\n",
      "_pytest             dotenv              oauthlib            swagger_spec_validator\n",
      "_queue              ecos                objc                sympy\n",
      "_random             email               opcode              symtable\n",
      "_scproxy            encodings           openpyxl            sys\n",
      "_scs_direct         ensurepip           operator            sysconfig\n",
      "_scs_indirect       entrypoints         optparse            syslog\n",
      "_sha1               enum                os                  tables\n",
      "_sha256             erfa                osax                tabnanny\n",
      "_sha3               errno               overrides           tabulate\n",
      "_sha512             et_xmlfile          packaging           talib\n",
      "_signal             executing           pandas              tarfile\n",
      "_sitebuiltins       fastjsonschema      pandas_datareader   tblib\n",
      "_socket             faulthandler        pandas_ta           telnetlib\n",
      "_sqlite3            fcntl               pandocfilters       tempfile\n",
      "_sre                filecmp             panel               tenacity\n",
      "_ssl                fileinput           param               terminado\n",
      "_stat               filelock            parsel              termios\n",
      "_statistics         flake8              parso               test\n",
      "_string             flask               partd               test_pycosat\n",
      "_strptime           fnmatch             past                text_unidecode\n",
      "_struct             fontTools           pathlib             textdistance\n",
      "_symtable           fqdn                pathspec            textwrap\n",
      "_sysconfigdata__darwin_darwin fractions           patsy               this\n",
      "_sysconfigdata_arm64_apple_darwin20_0_0 frozendict          pdb                 threading\n",
      "_testbuffer         frozenlist          peewee              threadpoolctl\n",
      "_testcapi           fsspec              pexpect             three_merge\n",
      "_testclinic         ftplib              pickle              tifffile\n",
      "_testimportmultiple functools           pickleshare         time\n",
      "_testinternalcapi   future              pickletools         timeit\n",
      "_testmultiphase     gc                  pip                 tinycss2\n",
      "_thread             genericpath         pipes               tkinter\n",
      "_threading_local    gensim              pkce                tldextract\n",
      "_tkinter            getopt              pkg_resources       tlz\n",
      "_tokenize           getpass             pkginfo             token\n",
      "_tracemalloc        gettext             pkgutil             tokenize\n",
      "_typing             git                 platform            toml\n",
      "_uuid               gitdb               platformdirs        tomlkit\n",
      "_warnings           glob                playhouse           tomllib\n",
      "_watchdog_fsevents  gmpy2               plistlib            toolz\n",
      "_weakref            google_auth_oauthlib plotly              tornado\n",
      "_weakrefset         graphlib            pluggy              tqdm\n",
      "_xxsubinterpreters  greenlet            ply                 trace\n",
      "_xxtestfuzz         grp                 poplib              traceback\n",
      "_yaml               gspread             posix               tracemalloc\n",
      "_zoneinfo           gzip                posixpath           traitlets\n",
      "abc                 h5py                pprint              truststore\n",
      "aem                 hashlib             profile             tty\n",
      "aifc                heapdict            prometheus_client   turtle\n",
      "aiobotocore         heapq               prompt_toolkit      turtledemo\n",
      "aiohttp             hmac                protego             twisted\n",
      "aioitertools        holoviews           proxytypes          types\n",
      "aiosignal           html                pstats              typing\n",
      "alabaster           html5lib            psutil              typing_extensions\n",
      "altair              http                pty                 tzdata\n",
      "anaconda_anon_usage httplib2            ptyprocess          tzlocal\n",
      "anaconda_catalogs   hvplot              pure_eval           uc_micro\n",
      "anaconda_cloud_auth hyperlink           pwd                 ujson\n",
      "anaconda_navigator  idlelib             pwiz                unicodedata\n",
      "anaconda_project    idna                py                  unidecode\n",
      "antigravity         imagecodecs         py_compile          unittest\n",
      "anyio               imageio             pyarrow             uri_template\n",
      "appdirs             imagesize           pyasn1              urllib\n",
      "applaunchservices   imaplib             pyasn1_modules      urllib3\n",
      "appnope             imblearn            pybind11            uu\n",
      "appscript           imghdr              pyclbr              uuid\n",
      "archspec            imp                 pycodestyle         validators\n",
      "argon2              importlib           pycosat             venv\n",
      "argparse            importlib_metadata  pycparser           w3lib\n",
      "array               incremental         pyct                warnings\n",
      "arrow               inflection          pycurl              watchdog\n",
      "ast                 iniconfig           pydantic            wave\n",
      "astroid             inspect             pydeck              wcwidth\n",
      "astropy             intake              pydispatch          weakref\n",
      "asttokens           intervaltree        pydoc               webbrowser\n",
      "async_lru           io                  pydoc_data          webcolors\n",
      "asynchat            ipaddress           pydocstyle          webencodings\n",
      "asyncio             ipykernel           pyexpat             websocket\n",
      "asyncore            ipykernel_launcher  pyflakes            werkzeug\n",
      "atexit              ipython_genutils    pygments            whatthepatch\n",
      "atomicwrites        ipywidgets          pylab               wheel\n",
      "attr                isoduration         pylint              widgetsnbextension\n",
      "attrs               isort               pylint_venv         wrapt\n",
      "audioop             isympy              pyls_spyder         wsgiref\n",
      "automat             itemadapter         pylsp               wurlitzer\n",
      "autopep8            itemloaders         pylsp_black         xarray\n",
      "babel               itertools           pylsp_jsonrpc       xdrlib\n",
      "backports           itsdangerous        pyodbc              xlwings\n",
      "base64              jedi                pyparsing           xml\n",
      "bcrypt              jellyfish           pytest              xmlrpc\n",
      "bdb                 jinja2              pythonjsonlogger    xxlimited\n",
      "binaryornot         jmespath            pytoolconfig        xxlimited_35\n",
      "binascii            joblib              pytz                xxsubtype\n",
      "binstar_client      json                pyviz_comms         xyzservices\n",
      "bisect              json5               pywt                yaml\n",
      "black               jsonpatch           qdarkstyle          yapf\n",
      "blackd              jsonpointer         qstylizer           yapftests\n",
      "bleach              jsonref             qtawesome           yarl\n",
      "blib2to3            jsonschema          qtconsole           yfinance\n",
      "blinker             jsonschema_specifications qtpy                zict\n",
      "bokeh               jupyter             queue               zipapp\n",
      "boltons             jupyter_client      queuelib            zipfile\n",
      "botocore            jupyter_console     quopri              zipimport\n",
      "bottleneck          jupyter_core        random              zipp\n",
      "bravado             jupyter_events      re                  zlib\n",
      "bravado_core        jupyter_lsp         readline            zmq\n",
      "brotli              jupyter_server      referencing         zoneinfo\n",
      "bs4                 jupyter_server_terminals regex               zope\n",
      "builtins            jupyterlab          repo_cli            zstandard\n",
      "bybit               jupyterlab_plotly   reprlib             \n",
      "\n",
      "Enter any module name to get more help.  Or, type \"modules spam\" to search\n",
      "for modules whose name or summary contain the string \"spam\".\n",
      "\n"
     ]
    }
   ],
   "source": [
    "#help('modules')\n",
    "help('modules')"
   ]
  },
  {
   "cell_type": "markdown",
   "metadata": {},
   "source": [
    "# Loops in Python\n",
    "- Need for loops\n",
    "- While loop\n",
    " \n",
    "    - Used when the number of iterations is not known beforehand.\n",
    "    - The loop continues as long as the condition is true.\n",
    "- For loop\n",
    "    - Used when the number of iterations is known or when iterating over a sequence.\n",
    "    - The loop continues for each item in the sequence."
   ]
  },
  {
   "cell_type": "markdown",
   "metadata": {},
   "source": [
    "#### Examples"
   ]
  },
  {
   "cell_type": "markdown",
   "metadata": {},
   "source": []
  },
  {
   "cell_type": "code",
   "execution_count": null,
   "metadata": {},
   "outputs": [],
   "source": [
    "#Need for loop\n",
    "#Example -  Cumulative Returns\n"
   ]
  },
  {
   "cell_type": "code",
   "execution_count": 217,
   "metadata": {},
   "outputs": [
    {
     "name": "stdout",
     "output_type": "stream",
     "text": [
      "Price is still below the target price\n",
      "Price is still below the target price\n",
      "Price is still below the target price\n",
      "Price is still below the target price\n",
      "Price is still below the target price\n",
      "Now the Price is above the target price and you can sell the stock\n"
     ]
    }
   ],
   "source": [
    "# While Loop\n",
    "#Example - Target Price\n",
    "\n",
    "current_price = 150 \n",
    "target_price  = 155\n",
    "\n",
    "while current_price < target_price:\n",
    "    print(\"Price is still below the target price\")\n",
    "    current_price += 1\n",
    "\n",
    "print(\"Now the Price is above the target price and you can sell the stock\")\n",
    "\n",
    "\n"
   ]
  },
  {
   "cell_type": "code",
   "execution_count": 220,
   "metadata": {},
   "outputs": [
    {
     "name": "stdout",
     "output_type": "stream",
     "text": [
      "The price  120 breaches the thresold price 115 at 0  \n",
      "Search is completed\n"
     ]
    }
   ],
   "source": [
    "# While Else with Example\n",
    "\n",
    "price = [120,112,114,111,112]\n",
    "thresold_price = 115\n",
    "index = 0 \n",
    "\n",
    "while index < len(price):\n",
    "    if price[index] > thresold_price:\n",
    "        print(f\"The price  {price[index]} breaches the thresold price {thresold_price} at {index}  \")\n",
    "        break\n",
    "    index += 1\n",
    "else:\n",
    "    print(\"There is no price breach\")\n",
    "\n",
    "print(\"Search is completed\")\n",
    "\n",
    "\n",
    "\n"
   ]
  },
  {
   "cell_type": "code",
   "execution_count": 221,
   "metadata": {},
   "outputs": [
    {
     "name": "stdout",
     "output_type": "stream",
     "text": [
      "The average closing price of 5 days is  113.8\n"
     ]
    }
   ],
   "source": [
    "# For Loop\n",
    "# Example - Average Closing Price over a 5-day period\n",
    "closing_price = [120,112,114,111,112]\n",
    "\n",
    "total_price = 0 \n",
    "\n",
    "for i in closing_price:\n",
    "    total_price += i\n",
    "avg_closing_price = total_price / len(closing_price)\n",
    "print(\"The average closing price of 5 days is \" , avg_closing_price)"
   ]
  },
  {
   "cell_type": "code",
   "execution_count": null,
   "metadata": {},
   "outputs": [],
   "source": []
  }
 ],
 "metadata": {
  "kernelspec": {
   "display_name": "base",
   "language": "python",
   "name": "python3"
  },
  "language_info": {
   "codemirror_mode": {
    "name": "ipython",
    "version": 3
   },
   "file_extension": ".py",
   "mimetype": "text/x-python",
   "name": "python",
   "nbconvert_exporter": "python",
   "pygments_lexer": "ipython3",
   "version": "3.12.0"
  }
 },
 "nbformat": 4,
 "nbformat_minor": 2
}
