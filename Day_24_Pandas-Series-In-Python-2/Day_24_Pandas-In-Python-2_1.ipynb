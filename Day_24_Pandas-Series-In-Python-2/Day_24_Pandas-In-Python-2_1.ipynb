{
  "cells": [
    {
      "cell_type": "markdown",
      "metadata": {},
      "source": [
        "\n",
        "### Pandas in Algorithmic Trading\n",
        "\n",
        "**Pandas** is a powerful data manipulation and analysis library for Python. \n",
        "- It provides data structures like Series and DataFrame, \n",
        "- which are essential for handling and analyzing time series data, such as stock prices, in algorithmic trading.\n",
        "\n",
        "#### Key Features of Pandas\n",
        "\n",
        "1. **Data Structures**: Provides Series (1D) and DataFrame (2D) for structured data.\n",
        "2. **Time Series Analysis**: In-built support for handling and manipulating time series data.\n",
        "3. **Data Cleaning**: Tools for handling missing data, filtering, and aggregating data.\n",
        "4. **Data Alignment**: Automatically aligns data based on labels, making operations intuitive.\n",
        "5. **Integration**: Easily integrates with other libraries like NumPy, Matplotlib, and SciPy.\n",
        "6. **IO Tools**: Functions for reading and writing data from various formats (CSV, Excel, SQL, etc.).\n",
        "\n",
        "#### Use Cases in Algorithmic Trading\n",
        "\n",
        "1. **Loading and Cleaning Data**: Importing historical price data from CSV, cleaning missing values, and normalizing data.\n",
        "2. **Time Series Analysis**: Calculating moving averages, returns, and other indicators.\n",
        "3. **Data Aggregation**: Grouping data by time intervals (e.g., daily, weekly) to perform aggregate calculations.\n",
        "4. **Feature Engineering**: Creating new features for machine learning models, such as technical indicators.\n",
        "5. **Backtesting**: Simulating trading strategies on historical data to evaluate performance.\n",
        "6. **Visualization**: Plotting price trends, indicators, and performance metrics using integrated plotting functions.\n",
        "\n",
        "### Comparison: Pandas vs. NumPy\n",
        "\n",
        "| Feature/Aspect          | Pandas                                    | NumPy                                      |\n",
        "|-------------------------|-------------------------------------------|--------------------------------------------|\n",
        "| **Primary Data Structures** | Series (1D), DataFrame (2D)              | ndarray (n-dimensional array)               |\n",
        "| **Use Case Focus**      | Data manipulation and analysis            | Numerical computation and operations       |\n",
        "| **Time Series Handling**| Excellent support for time series         | Basic support (requires additional libraries)| \n",
        "| **Data Cleaning**       | Built-in functions for handling missing data | Requires custom handling                    |\n",
        "| **Data Alignment**      | Automatic alignment based on labels       | No alignment, purely positional             |\n",
        "| **Data Types**          | Can handle heterogeneous data types       | Homogeneous data types only                 |\n",
        "| **Performance**         | Slower due to additional features         | Faster for numerical operations             |\n",
        "| **Aggregation & Grouping**| Robust groupby and aggregation methods    | Limited grouping capabilities               |\n",
        "| **Integration**         | Integrates well with other data tools     | Often serves as the computational backbone  |\n",
        "| **Visualization**       | Integrated plotting (via Matplotlib)      | Requires external plotting libraries        |\n",
        "| **Memory Efficiency**   | Higher memory usage due to metadata       | More memory-efficient for raw numerical data|\n",
        "\n",
        "### Example in Algorithmic Trading\n",
        "\n",
        "#### Using Pandas\n",
        "\n",
        "```python\n",
        "import pandas as pd\n",
        "\n",
        "# Load historical price data from CSV\n",
        "data = pd.read_csv('historical_prices.csv', parse_dates=['Date'], index_col='Date')\n",
        "\n",
        "# Calculate moving averages\n",
        "data['MA50'] = data['Close'].rolling(window=50).mean()\n",
        "data['MA200'] = data['Close'].rolling(window=200).mean()\n",
        "\n",
        "# Calculate daily returns\n",
        "data['Daily_Return'] = data['Close'].pct_change()\n",
        "\n",
        "# Plot closing prices and moving averages\n",
        "data[['Close', 'MA50', 'MA200']].plot()\n",
        "```\n",
        "\n",
        "#### Using NumPy\n",
        "\n",
        "```python\n",
        "import numpy as np\n",
        "\n",
        "# Assume `prices` is a NumPy array of closing prices\n",
        "prices = np.array([100, 101, 102, 103, 104])\n",
        "\n",
        "# Calculate moving averages using NumPy\n",
        "MA50 = np.convolve(prices, np.ones(50)/50, mode='valid')\n",
        "MA200 = np.convolve(prices, np.ones(200)/200, mode='valid')\n",
        "\n",
        "# Calculate daily returns\n",
        "daily_returns = np.diff(prices) / prices[:-1]\n",
        "```\n",
        "\n",
        "### Summary\n",
        "\n",
        "- **Pandas**: Ideal for data manipulation, time series analysis, and handling heterogeneous data. It's especially useful in algorithmic trading for loading, cleaning, and analyzing large datasets of historical price data. Pandas is slower but offers a wide range of high-level data manipulation tools.\n",
        "- **NumPy**: Best for efficient numerical computations with homogeneous data. It is faster and more memory-efficient but requires more manual handling for data manipulation tasks.\n",
        "\n",
        "In algorithmic trading, both libraries are often used together: NumPy for efficient numerical operations and Pandas for data manipulation and analysis tasks."
      ]
    },
    {
      "cell_type": "markdown",
      "metadata": {
        "id": "Nkgl3LZGP0XZ"
      },
      "source": [
        "### What is Pandas\n",
        "\n",
        "Pandas is a fast, powerful, flexible and easy to use open source data analysis and manipulation tool,\n",
        "built on top of the Python programming language.\n",
        "\n",
        "https://pandas.pydata.org/about/index.html"
      ]
    },
    {
      "cell_type": "markdown",
      "metadata": {
        "id": "3QmWVpYGRw59"
      },
      "source": [
        "### Pandas Series\n",
        "\n",
        "A Pandas Series is like a column in a table. It is a 1-D array holding data of any type."
      ]
    },
    {
      "cell_type": "markdown",
      "metadata": {
        "id": "3hwTOkrbPMjE"
      },
      "source": [
        "### Importing Pandas"
      ]
    },
    {
      "cell_type": "code",
      "execution_count": 1,
      "metadata": {},
      "outputs": [],
      "source": [
        "import numpy as np\n",
        "import pandas as pd\n",
        "import matplotlib.pyplot as plt"
      ]
    },
    {
      "cell_type": "code",
      "execution_count": 2,
      "metadata": {
        "id": "QWWCrofyPM7J"
      },
      "outputs": [],
      "source": [
        "df = pd.read_csv('coin_Bitcoin.csv')"
      ]
    },
    {
      "cell_type": "code",
      "execution_count": 3,
      "metadata": {},
      "outputs": [
        {
          "data": {
            "text/plain": [
              "[<matplotlib.lines.Line2D at 0x17fd3195fa0>]"
            ]
          },
          "execution_count": 3,
          "metadata": {},
          "output_type": "execute_result"
        },
        {
          "data": {
            "image/png": "[encoded data removed]",
            "text/plain": [
              "<Figure size 640x480 with 1 Axes>"
            ]
          },
          "metadata": {},
          "output_type": "display_data"
        }
      ],
      "source": [
        "plt.plot(df['High'], label='High', color='blue')\n",
        "plt.plot(df['Low'], label='Low', color='red')"
      ]
    },
    {
      "cell_type": "markdown",
      "metadata": {
        "id": "uU-Ms_To_FG1"
      },
      "source": [
        "### Series from lists"
      ]
    },
    {
      "cell_type": "code",
      "execution_count": null,
      "metadata": {
        "colab": {
          "base_uri": "https://localhost:8080/"
        },
        "id": "KYk9Gta7_G38",
        "outputId": "45f1b6c8-44ec-4081-d59e-d7139682da3e"
      },
      "outputs": [],
      "source": [
        "# string\n",
        "list_str = [\"Apple\",\"Microsoft\",\"Bitcoin\",'Ethereum']\n",
        "pd.Series(list_str)\n"
      ]
    },
    {
      "cell_type": "code",
      "execution_count": null,
      "metadata": {
        "id": "h_Wgimpg_Idl"
      },
      "outputs": [],
      "source": [
        "# integers\n",
        "\n",
        "list_int = [100,101,102,103]\n",
        "pd.Series(list_int)\n"
      ]
    },
    {
      "cell_type": "code",
      "execution_count": null,
      "metadata": {
        "colab": {
          "base_uri": "https://localhost:8080/"
        },
        "id": "CJgHbnepH_EX",
        "outputId": "b1de62df-903c-4e66-d67b-976425039f17"
      },
      "outputs": [],
      "source": [
        "# custom index\n",
        "list_str = [\"Apple\",\"Microsoft\",\"Bitcoin\",'Ethereum']\n",
        "list_int = [100,101,102,103]\n",
        "ser_cust  = pd.Series(list_int,index=list_str)\n",
        "(ser_cust)"
      ]
    },
    {
      "cell_type": "code",
      "execution_count": null,
      "metadata": {},
      "outputs": [],
      "source": [
        "ser_cust[0]"
      ]
    },
    {
      "cell_type": "code",
      "execution_count": null,
      "metadata": {
        "colab": {
          "base_uri": "https://localhost:8080/"
        },
        "id": "zcjykyJVKgWs",
        "outputId": "26c2aee7-42c8-4aa2-a854-e436cfbb24b9"
      },
      "outputs": [],
      "source": [
        "# setting a name\n",
        "\n",
        "\n",
        "list_str = [\"Apple\",\"Microsoft\",\"Bitcoin\",'Ethereum']\n",
        "list_int = [100,101,102,103]\n",
        "pd.Series(list_int,index=list_str,name=\"The Stock Prices of Kuldeep\")"
      ]
    },
    {
      "cell_type": "markdown",
      "metadata": {
        "id": "gw4NHrWf_Km3"
      },
      "source": [
        "### Series from dict"
      ]
    },
    {
      "cell_type": "code",
      "execution_count": null,
      "metadata": {
        "colab": {
          "base_uri": "https://localhost:8080/"
        },
        "id": "Sz9B_oPy_RMX",
        "outputId": "d03fa978-2e6b-4098-af75-a7471deaf464"
      },
      "outputs": [],
      "source": [
        "dict_str = {\"Apple\":100,\"Microsoft\":200,\"Bitcoin\":3000000,'Ethereum':400,'Etrhereum':400}\n",
        "dict_ser = pd.Series(dict_str,name=\"The Stock Prices of Kuldeep\")\n",
        "dict_ser"
      ]
    },
    {
      "cell_type": "markdown",
      "metadata": {
        "id": "MDSIDfei_Szi"
      },
      "source": [
        "### Series Attributes"
      ]
    },
    {
      "cell_type": "code",
      "execution_count": null,
      "metadata": {
        "colab": {
          "base_uri": "https://localhost:8080/"
        },
        "id": "0_eqjw1u_lG_",
        "outputId": "5d0a82ad-78c1-4d70-cca3-55f0324362ea"
      },
      "outputs": [],
      "source": [
        "# size\n",
        "dict_ser.size"
      ]
    },
    {
      "cell_type": "code",
      "execution_count": null,
      "metadata": {
        "colab": {
          "base_uri": "https://localhost:8080/"
        },
        "id": "nYpNWJhWGyqa",
        "outputId": "36ce60d5-efc7-4ca5-80e6-f4cbc723e46f"
      },
      "outputs": [],
      "source": [
        "# dtype\n",
        "dict_ser.dtype"
      ]
    },
    {
      "cell_type": "code",
      "execution_count": null,
      "metadata": {
        "colab": {
          "base_uri": "https://localhost:8080/",
          "height": 36
        },
        "id": "ImBy24CkKkZP",
        "outputId": "c78dbc63-c3c0-48a5-b516-b84bf619fe82"
      },
      "outputs": [],
      "source": [
        "# name\n",
        "dict_ser.name"
      ]
    },
    {
      "cell_type": "code",
      "execution_count": null,
      "metadata": {
        "colab": {
          "base_uri": "https://localhost:8080/"
        },
        "id": "UsNGB2rCF9V-",
        "outputId": "a9dcd91d-fc74-4947-a536-ad99af92ac02"
      },
      "outputs": [],
      "source": [
        "# is_unique\n",
        "dict_ser.is_unique"
      ]
    },
    {
      "cell_type": "code",
      "execution_count": null,
      "metadata": {
        "colab": {
          "base_uri": "https://localhost:8080/"
        },
        "id": "VLB00Z-vGBHL",
        "outputId": "f49ea31d-92d4-453a-c649-990f6b630420"
      },
      "outputs": [],
      "source": [
        "# index\n",
        "(dict_ser.index)"
      ]
    },
    {
      "cell_type": "code",
      "execution_count": null,
      "metadata": {
        "colab": {
          "base_uri": "https://localhost:8080/"
        },
        "id": "MJ1HXX2H_Mhu",
        "outputId": "88818e3c-8a1a-4d7e-b5e3-50d7bd411fa0"
      },
      "outputs": [],
      "source": []
    },
    {
      "cell_type": "code",
      "execution_count": null,
      "metadata": {
        "colab": {
          "base_uri": "https://localhost:8080/"
        },
        "id": "PmE8l3SKGDbl",
        "outputId": "90d0daf7-580a-4def-9c42-f34a8ee9ca6a"
      },
      "outputs": [],
      "source": [
        "# values\n",
        "(dict_ser.values)"
      ]
    },
    {
      "cell_type": "markdown",
      "metadata": {
        "id": "UCP7I0t_KMID"
      },
      "source": [
        "### Series using read_csv"
      ]
    },
    {
      "cell_type": "code",
      "execution_count": 4,
      "metadata": {
        "colab": {
          "base_uri": "https://localhost:8080/"
        },
        "id": "r2FWTRoBGEk5",
        "outputId": "8a160aa3-095c-4602-b4ca-2edcfaf3d13b"
      },
      "outputs": [
        {
          "name": "stdout",
          "output_type": "stream",
          "text": [
            "            id symbol      name  \\\n",
            "0      bitcoin    btc   Bitcoin   \n",
            "1     ethereum    eth  Ethereum   \n",
            "2       tether   usdt    Tether   \n",
            "3  binancecoin    bnb       BNB   \n",
            "4       solana    sol    Solana   \n",
            "\n",
            "                                               image  current_price  \\\n",
            "0  https://coin-images.coingecko.com/coins/images...   64770.000000   \n",
            "1  https://coin-images.coingecko.com/coins/images...    3517.770000   \n",
            "2  https://coin-images.coingecko.com/coins/images...       0.999553   \n",
            "3  https://coin-images.coingecko.com/coins/images...     596.020000   \n",
            "4  https://coin-images.coingecko.com/coins/images...     134.330000   \n",
            "\n",
            "      market_cap  market_cap_rank  fully_diluted_valuation  total_volume  \\\n",
            "0  1280196047190                1             1.363660e+12  2.263356e+10   \n",
            "1   430389441518                2             4.303894e+11  1.594333e+10   \n",
            "2   112594133745                3             1.125941e+11  3.997854e+10   \n",
            "3    91721527076                4             9.172153e+10  7.466779e+08   \n",
            "4    62169822325                5             7.785935e+10  2.880508e+09   \n",
            "\n",
            "    high_24h  ...  total_supply   max_supply       ath  ath_change_percentage  \\\n",
            "0  66437.000  ...  2.100000e+07   21000000.0  73738.00              -11.97452   \n",
            "1   3620.960  ...  1.222752e+08          NaN   4878.26              -27.84815   \n",
            "2      1.003  ...  1.126061e+11          NaN      1.32              -24.45740   \n",
            "3    607.520  ...  1.538562e+08  200000000.0    717.48              -16.94847   \n",
            "4    140.800  ...  5.784627e+08          NaN    259.96              -48.21327   \n",
            "\n",
            "                   ath_date        atl  atl_change_percentage  \\\n",
            "0  2024-03-14T07:10:36.635Z  67.810000           9.562206e+04   \n",
            "1  2021-11-10T14:24:19.604Z   0.432979           8.128162e+05   \n",
            "2  2018-07-24T00:00:00.000Z   0.572521           7.457886e+01   \n",
            "3  2024-06-06T14:10:59.816Z   0.039818           1.496406e+06   \n",
            "4  2021-11-06T21:54:35.825Z   0.500801           2.678181e+04   \n",
            "\n",
            "                   atl_date  \\\n",
            "0  2013-07-06T00:00:00.000Z   \n",
            "1  2015-10-20T00:00:00.000Z   \n",
            "2  2015-03-02T00:00:00.000Z   \n",
            "3  2017-10-19T00:00:00.000Z   \n",
            "4  2020-05-11T19:35:23.449Z   \n",
            "\n",
            "                                                 roi              last_updated  \n",
            "0                                               None  2024-06-20T15:06:08.548Z  \n",
            "1  {'times': 71.42040505340533, 'currency': 'btc'...  2024-06-20T15:06:00.195Z  \n",
            "2                                               None  2024-06-20T15:05:42.629Z  \n",
            "3                                               None  2024-06-20T15:05:47.774Z  \n",
            "4                                               None  2024-06-20T15:05:44.805Z  \n",
            "\n",
            "[5 rows x 26 columns]\n"
          ]
        }
      ],
      "source": [
        "# with one col\n",
        "\n",
        "import requests\n",
        "import pandas as pd\n",
        "\n",
        "# Define the API endpoint\n",
        "url = \"https://api.coingecko.com/api/v3/coins/markets\"\n",
        "\n",
        "# Define the parameters for the API request\n",
        "params = {\n",
        "    \"vs_currency\": \"usd\",\n",
        "    \"order\": \"market_cap_desc\",\n",
        "    \"per_page\": 100,\n",
        "    \"page\": 1,\n",
        "    \"sparkline\": False\n",
        "}\n",
        "\n",
        "# Make the API request\n",
        "response = requests.get(url, params=params)\n",
        "\n",
        "# Check if the request was successful\n",
        "if response.status_code == 200:\n",
        "    # Parse the JSON data\n",
        "    data = response.json()\n",
        "    \n",
        "    # Create a DataFrame from the data\n",
        "    df = pd.DataFrame(data)\n",
        "    \n",
        "    # Display the DataFrame\n",
        "    print(df.head())\n",
        "else:\n",
        "    print(f\"Failed to fetch data: {response.status_code}\")\n"
      ]
    },
    {
      "cell_type": "code",
      "execution_count": 3,
      "metadata": {},
      "outputs": [],
      "source": [
        "df.to_csv(\"/Users/fraqetrade/GitHub/100-Days-G-Branch/100-Days-Of-Hell-With-Python-Algotrading/Day_24_Pandas-In-Python copy/Day_23_Algotrading.csv\",index=False)"
      ]
    },
    {
      "cell_type": "code",
      "execution_count": 4,
      "metadata": {},
      "outputs": [],
      "source": [
        "df = pd.read_csv(\"/Users/fraqetrade/GitHub/100-Days-G-Branch/100-Days-Of-Hell-With-Python-Algotrading/Day_24_Pandas-In-Python copy/Day_23_Algotrading.csv\")"
      ]
    },
    {
      "cell_type": "code",
      "execution_count": null,
      "metadata": {},
      "outputs": [],
      "source": [
        "#df = ((df[[\"name\",\"current_price\"]]))\n",
        "#df = df.set_index(\"name\")\n",
        "df"
      ]
    },
    {
      "cell_type": "code",
      "execution_count": null,
      "metadata": {},
      "outputs": [],
      "source": [
        "ser = df.squeeze()"
      ]
    },
    {
      "cell_type": "code",
      "execution_count": null,
      "metadata": {},
      "outputs": [],
      "source": [
        "aser = ser.astype(np.int8)"
      ]
    },
    {
      "cell_type": "code",
      "execution_count": null,
      "metadata": {},
      "outputs": [],
      "source": [
        "import sys\n",
        "print(sys.getsizeof(aser))"
      ]
    },
    {
      "cell_type": "code",
      "execution_count": null,
      "metadata": {
        "colab": {
          "base_uri": "https://localhost:8080/"
        },
        "id": "a6Y3bq4TOniT",
        "outputId": "f919b599-9e23-423b-c42c-a468999ad3f6"
      },
      "outputs": [],
      "source": [
        "# with 2 cols\n",
        "\n",
        "\n",
        "ser = df.squeeze()\n",
        "type(ser)"
      ]
    },
    {
      "cell_type": "code",
      "execution_count": null,
      "metadata": {
        "colab": {
          "base_uri": "https://localhost:8080/"
        },
        "id": "v34r_I_82dwZ",
        "outputId": "ab5f9a30-d9f1-4532-fbc8-a8b792107b80"
      },
      "outputs": [],
      "source": [
        "ser"
      ]
    },
    {
      "cell_type": "markdown",
      "metadata": {
        "id": "taKAApMTLJkG"
      },
      "source": [
        "### Series methods"
      ]
    },
    {
      "cell_type": "code",
      "execution_count": null,
      "metadata": {
        "colab": {
          "base_uri": "https://localhost:8080/"
        },
        "id": "Lt-l4sM_LLsH",
        "outputId": "ce63f92e-7d0c-46b1-f64c-92afa28cd1c3"
      },
      "outputs": [],
      "source": [
        "# head & tail \n",
        "\n",
        "df.head(20)"
      ]
    },
    {
      "cell_type": "code",
      "execution_count": null,
      "metadata": {
        "colab": {
          "base_uri": "https://localhost:8080/"
        },
        "id": "COKh4XYBLqT3",
        "outputId": "7294bf7c-0f1d-46c6-885a-7b993f2a9551"
      },
      "outputs": [],
      "source": [
        "# sample\n",
        "df.sample(5)\n"
      ]
    },
    {
      "cell_type": "code",
      "execution_count": null,
      "metadata": {
        "colab": {
          "base_uri": "https://localhost:8080/"
        },
        "id": "t3m4wTw6N-v0",
        "outputId": "cdae4a99-143d-487d-836c-948ffd6dd67a"
      },
      "outputs": [],
      "source": [
        "# value_counts -> prices\n",
        "df.value_counts(ascending=True)\n",
        "df"
      ]
    },
    {
      "cell_type": "code",
      "execution_count": null,
      "metadata": {
        "colab": {
          "base_uri": "https://localhost:8080/"
        },
        "id": "vzMt0ZOPMgpO",
        "outputId": "17bd1ba3-ad6b-46cb-b6f8-1fac73474e74"
      },
      "outputs": [],
      "source": [
        "# sort_values -> inplace\n",
        "df.sort_values(ascending=False)"
      ]
    },
    {
      "cell_type": "code",
      "execution_count": null,
      "metadata": {
        "id": "Z0t20LmCNZVi"
      },
      "outputs": [],
      "source": [
        "# sort_index -> inplace -> movies\n",
        "\n",
        "df.sort_index(ascending=False)"
      ]
    },
    {
      "cell_type": "markdown",
      "metadata": {
        "id": "58RZWU44Tj_U"
      },
      "source": [
        "### Series Maths Methods"
      ]
    },
    {
      "cell_type": "code",
      "execution_count": null,
      "metadata": {
        "colab": {
          "base_uri": "https://localhost:8080/"
        },
        "id": "6GzHd8BPToFa",
        "outputId": "c2aa9e18-2ec0-49c5-ab62-61928d1068e3"
      },
      "outputs": [],
      "source": [
        "import numpy as np\n",
        "# count\n",
        "\n",
        "math_Ser = pd.Series([1,2,3,np.nan,4,5])\n",
        "print(math_Ser.count())\n",
        "print(math_Ser.size)"
      ]
    },
    {
      "cell_type": "code",
      "execution_count": null,
      "metadata": {
        "colab": {
          "base_uri": "https://localhost:8080/"
        },
        "id": "QAUr7vxtTrAU",
        "outputId": "b63afaa2-bf2f-409b-bd54-db2865c9d4fa"
      },
      "outputs": [],
      "source": [
        "# sum -> product\n",
        "df.product()"
      ]
    },
    {
      "cell_type": "code",
      "execution_count": null,
      "metadata": {
        "colab": {
          "base_uri": "https://localhost:8080/"
        },
        "id": "q1pRRhmdTrM0",
        "outputId": "7b4c758a-12b6-452a-bc22-d2c1a9a8ce46"
      },
      "outputs": [],
      "source": [
        "# mean -> median -> mode -> std -> var\n",
        "df.var()"
      ]
    },
    {
      "cell_type": "code",
      "execution_count": null,
      "metadata": {
        "colab": {
          "base_uri": "https://localhost:8080/"
        },
        "id": "L64dQIXJTrXF",
        "outputId": "54e6f3fa-e75f-4382-8c02-d9ba8466285a"
      },
      "outputs": [],
      "source": [
        "# min/max\n",
        "df.max()"
      ]
    },
    {
      "cell_type": "code",
      "execution_count": null,
      "metadata": {
        "colab": {
          "base_uri": "https://localhost:8080/"
        },
        "id": "SAvniKCuUB_J",
        "outputId": "c7f46902-52e5-4c1e-d0ac-bbe31850d37e"
      },
      "outputs": [],
      "source": [
        "# describe\n",
        "df.describe()"
      ]
    },
    {
      "cell_type": "markdown",
      "metadata": {
        "id": "Cz12N8YKP-h8"
      },
      "source": [
        "### Series Indexing"
      ]
    },
    {
      "cell_type": "code",
      "execution_count": null,
      "metadata": {
        "colab": {
          "base_uri": "https://localhost:8080/"
        },
        "id": "VXMiwNgAQA4V",
        "outputId": "2dc567ed-8548-4a68-df9e-91a0842bced4"
      },
      "outputs": [],
      "source": [
        "# integer indexing\n",
        "list_int = [100,101,102,103]\n",
        "int_ser  = pd.Series(list_int)\n",
        "int_ser"
      ]
    },
    {
      "cell_type": "code",
      "execution_count": null,
      "metadata": {},
      "outputs": [],
      "source": [
        "int_ser[2]"
      ]
    },
    {
      "cell_type": "code",
      "execution_count": null,
      "metadata": {
        "colab": {
          "base_uri": "https://localhost:8080/",
          "height": 444
        },
        "id": "uL2i-qNuQ6t8",
        "outputId": "1a52fb86-819d-4470-fc88-dd67ce00c577"
      },
      "outputs": [],
      "source": [
        "# negative indexing\n",
        "df[-1]"
      ]
    },
    {
      "cell_type": "code",
      "execution_count": null,
      "metadata": {
        "colab": {
          "base_uri": "https://localhost:8080/"
        },
        "id": "0Aok361MQA8J",
        "outputId": "a31e2b7e-53a5-499f-ccb2-f9276a0b3139"
      },
      "outputs": [],
      "source": [
        "# slicing\n",
        "print(int_ser[1:3])\n",
        "print(df[\"BitTorrent\":\"Shiba Inu\"])"
      ]
    },
    {
      "cell_type": "code",
      "execution_count": 189,
      "metadata": {},
      "outputs": [
        {
          "data": {
            "text/plain": [
              "name\n",
              "BitTorrent               1.000000\n",
              "Pepe                     2.000000\n",
              "Shiba Inu                0.000022\n",
              "Bonk                     0.000026\n",
              "FLOKI                    0.000214\n",
              "Zebec Protocol           0.018961\n",
              "Notcoin                  0.019491\n",
              "Beam                     0.020878\n",
              "Flare                    0.027377\n",
              "VeChain                  0.029574\n",
              "GALA                     0.034787\n",
              "JasmyCoin                0.035934\n",
              "Hedera                   0.089644\n",
              "Stellar                  0.098062\n",
              "Cronos                   0.101956\n",
              "TRON                     0.115847\n",
              "Chiliz                   0.117766\n",
              "Dogecoin                 0.142438\n",
              "Brett                    0.144714\n",
              "Algorand             10001.000000\n",
              "Kaspa                    0.167656\n",
              "The Graph                0.248493\n",
              "Pyth Network             0.376772\n",
              "The Sandbox              0.395701\n",
              "Cardano                  0.422733\n",
              "Sei                      0.444675\n",
              "XRP                      0.477722\n",
              "Polygon                  0.608912\n",
              "Fantom                   0.644750\n",
              "EOS                      0.681961\n",
              "Ethena                   0.720688\n",
              "Flow                     0.742369\n",
              "Mantle                   0.894045\n",
              "Jupiter                  0.913249\n",
              "Arbitrum                 0.946625\n",
              "Sui                      0.991253\n",
              "First Digital USD        0.997030\n",
              "Tether                   0.998899\n",
              "USDC                     0.999620\n",
              "Dai                      1.000000\n",
              "Ethena USDe              1.000000\n",
              "Starknet                 1.000000\n",
              "Bitget Token             1.160000\n",
              "Ondo                     1.270000\n",
              "Core                     1.580000\n",
              "Fetch.ai                 1.620000\n",
              "dYdX                     1.640000\n",
              "Theta Network            1.760000\n",
              "Immutable                1.810000\n",
              "Lido DAO                 1.950000\n",
              "Name: current_price, dtype: float64"
            ]
          },
          "execution_count": 189,
          "metadata": {},
          "output_type": "execute_result"
        }
      ],
      "source": [
        "df"
      ]
    },
    {
      "cell_type": "code",
      "execution_count": null,
      "metadata": {
        "colab": {
          "base_uri": "https://localhost:8080/"
        },
        "id": "Liu7rQJbQ9GW",
        "outputId": "c205b3f2-e431-4e2c-8a52-57b701b806e7"
      },
      "outputs": [],
      "source": [
        "# negative slicing\n",
        "int_ser[-3:-1]"
      ]
    },
    {
      "cell_type": "code",
      "execution_count": null,
      "metadata": {
        "colab": {
          "base_uri": "https://localhost:8080/"
        },
        "id": "BE4kLq1vMSes",
        "outputId": "ff5de4e4-5b80-484c-9241-72de04792aa8"
      },
      "outputs": [],
      "source": []
    },
    {
      "cell_type": "code",
      "execution_count": null,
      "metadata": {
        "colab": {
          "base_uri": "https://localhost:8080/"
        },
        "id": "QjB-8CydQA_W",
        "outputId": "9bcace4d-f461-4a12-83f4-ebc6d620d943"
      },
      "outputs": [],
      "source": [
        "# fancy indexing\n",
        "int_ser[[0,2]]"
      ]
    },
    {
      "cell_type": "code",
      "execution_count": null,
      "metadata": {
        "colab": {
          "base_uri": "https://localhost:8080/",
          "height": 36
        },
        "id": "m4y-6vjTQBCP",
        "outputId": "0da130b4-7e28-457e-884c-9be1ca736d26"
      },
      "outputs": [],
      "source": [
        "# indexing with labels -> fancy indexing\n",
        "df[[\"BitTorrent\",\"Pepe\",\"Bonk\"]]"
      ]
    },
    {
      "cell_type": "markdown",
      "metadata": {
        "id": "NFElpr-tR5en"
      },
      "source": [
        "### Editing Series"
      ]
    },
    {
      "cell_type": "code",
      "execution_count": null,
      "metadata": {
        "colab": {
          "base_uri": "https://localhost:8080/"
        },
        "id": "bMaxSAmfR8JQ",
        "outputId": "15df7b1b-d1f4-42dd-c6ac-d155afd18b0e"
      },
      "outputs": [],
      "source": [
        "# using indexing\n",
        "int_ser[2] = 122\n",
        "int_ser"
      ]
    },
    {
      "cell_type": "code",
      "execution_count": null,
      "metadata": {
        "id": "p2sikMnPR8MU"
      },
      "outputs": [],
      "source": [
        "# what if an index does not exist\n",
        "int_ser[4] = 122\n",
        "int_ser"
      ]
    },
    {
      "cell_type": "code",
      "execution_count": null,
      "metadata": {
        "colab": {
          "base_uri": "https://localhost:8080/"
        },
        "id": "bsvV3kz0R8Ps",
        "outputId": "2b6e97f9-2374-4f6e-f832-146eb3339f99"
      },
      "outputs": [],
      "source": [
        "# slicing\n",
        "int_ser[[1,4]] = [1000,1222]\n",
        "int_ser"
      ]
    },
    {
      "cell_type": "code",
      "execution_count": null,
      "metadata": {
        "colab": {
          "base_uri": "https://localhost:8080/"
        },
        "id": "UbXMK59FSJp7",
        "outputId": "75f69728-d376-468f-8843-604f4454ea6c"
      },
      "outputs": [],
      "source": [
        "# fancy indexing\n",
        "df[[\"BitTorrent\",\"Pepe\"]] = [1,2]\n",
        "df"
      ]
    },
    {
      "cell_type": "code",
      "execution_count": null,
      "metadata": {
        "colab": {
          "base_uri": "https://localhost:8080/"
        },
        "id": "D1gyqD5bSa_1",
        "outputId": "56b096fb-686b-4240-8b0f-c07de0e34e53"
      },
      "outputs": [],
      "source": [
        "# using index label\n",
        "df[\"Algorand\"] = 10001\n",
        "df[\"Algorand\"]"
      ]
    },
    {
      "cell_type": "code",
      "execution_count": null,
      "metadata": {
        "id": "pVND-BTBgVlN"
      },
      "outputs": [],
      "source": []
    },
    {
      "cell_type": "markdown",
      "metadata": {
        "id": "6OVEN5eFUWA-"
      },
      "source": [
        "### Series with Python Functionalities"
      ]
    },
    {
      "cell_type": "code",
      "execution_count": 162,
      "metadata": {
        "colab": {
          "base_uri": "https://localhost:8080/"
        },
        "id": "zebKLTsNt12p",
        "outputId": "1fc18462-7d27-4029-fe3d-cea42f00013d"
      },
      "outputs": [
        {
          "name": "stdout",
          "output_type": "stream",
          "text": [
            "50\n",
            "5\n"
          ]
        }
      ],
      "source": [
        "# len/type/dir/sorted/max/min\n",
        "print(len(df))\n",
        "print(len(int_ser))\n",
        "\n",
        "df.count() # Method Series class\n",
        "df.size   # Attriubute Series Class\n",
        "df[\"Algorand\"] #Series or Dataframe indexing\n",
        "len(df) #Fuction \n"
      ]
    },
    {
      "cell_type": "code",
      "execution_count": 164,
      "metadata": {
        "colab": {
          "base_uri": "https://localhost:8080/"
        },
        "id": "ZJmwrkkgt2x4",
        "outputId": "f0f07972-6f03-4a1f-fe81-311a4ca84926"
      },
      "outputs": [
        {
          "data": {
            "text/plain": [
              "pandas.core.series.Series"
            ]
          },
          "execution_count": 164,
          "metadata": {},
          "output_type": "execute_result"
        }
      ],
      "source": [
        "# type conversion\n",
        "type(int_ser)"
      ]
    },
    {
      "cell_type": "code",
      "execution_count": 170,
      "metadata": {
        "colab": {
          "base_uri": "https://localhost:8080/"
        },
        "id": "ScG8OTsIt3yS",
        "outputId": "8f002760-75d0-44be-d43f-a21b3b5ee84f"
      },
      "outputs": [
        {
          "data": {
            "text/plain": [
              "True"
            ]
          },
          "execution_count": 170,
          "metadata": {},
          "output_type": "execute_result"
        }
      ],
      "source": [
        "# membership operator\n",
        "1.0 in df.values"
      ]
    },
    {
      "cell_type": "code",
      "execution_count": null,
      "metadata": {
        "colab": {
          "base_uri": "https://localhost:8080/"
        },
        "id": "IGjHY4OAQLCC",
        "outputId": "a1394b4a-a632-48a5-c73c-633a20956da3"
      },
      "outputs": [],
      "source": []
    },
    {
      "cell_type": "code",
      "execution_count": 172,
      "metadata": {
        "colab": {
          "base_uri": "https://localhost:8080/"
        },
        "id": "IXnzfjhxt41A",
        "outputId": "fdd25164-e07d-4c86-fdb5-28b2c74ab4c3"
      },
      "outputs": [
        {
          "name": "stdout",
          "output_type": "stream",
          "text": [
            "BitTorrent\n",
            "Pepe\n",
            "Shiba Inu\n",
            "Bonk\n",
            "FLOKI\n",
            "Zebec Protocol\n",
            "Notcoin\n",
            "Beam\n",
            "Flare\n",
            "VeChain\n",
            "GALA\n",
            "JasmyCoin\n",
            "Hedera\n",
            "Stellar\n",
            "Cronos\n",
            "TRON\n",
            "Chiliz\n",
            "Dogecoin\n",
            "Brett\n",
            "Algorand\n",
            "Kaspa\n",
            "The Graph\n",
            "Pyth Network\n",
            "The Sandbox\n",
            "Cardano\n",
            "Sei\n",
            "XRP\n",
            "Polygon\n",
            "Fantom\n",
            "EOS\n",
            "Ethena\n",
            "Flow\n",
            "Mantle\n",
            "Jupiter\n",
            "Arbitrum\n",
            "Sui\n",
            "First Digital USD\n",
            "Tether\n",
            "USDC\n",
            "Dai\n",
            "Ethena USDe\n",
            "Starknet\n",
            "Bitget Token\n",
            "Ondo\n",
            "Core\n",
            "Fetch.ai\n",
            "dYdX\n",
            "Theta Network\n",
            "Immutable\n",
            "Lido DAO\n"
          ]
        }
      ],
      "source": [
        "# looping\n",
        "for i in df.index:\n",
        "    print(i)"
      ]
    },
    {
      "cell_type": "code",
      "execution_count": 188,
      "metadata": {
        "colab": {
          "base_uri": "https://localhost:8080/"
        },
        "id": "XPYoq68WuBZ_",
        "outputId": "37e4b69d-1071-4735-a5cc-1db0c1b096a6"
      },
      "outputs": [
        {
          "data": {
            "text/plain": [
              "name\n",
              "BitTorrent               1.000000\n",
              "Pepe                     2.000000\n",
              "Shiba Inu                0.000022\n",
              "Bonk                     0.000026\n",
              "FLOKI                    0.000214\n",
              "Zebec Protocol           0.018961\n",
              "Notcoin                  0.019491\n",
              "Beam                     0.020878\n",
              "Flare                    0.027377\n",
              "VeChain                  0.029574\n",
              "GALA                     0.034787\n",
              "JasmyCoin                0.035934\n",
              "Hedera                   0.089644\n",
              "Stellar                  0.098062\n",
              "Cronos                   0.101956\n",
              "TRON                     0.115847\n",
              "Chiliz                   0.117766\n",
              "Dogecoin                 0.142438\n",
              "Brett                    0.144714\n",
              "Algorand             10001.000000\n",
              "Kaspa                    0.167656\n",
              "The Graph                0.248493\n",
              "Pyth Network             0.376772\n",
              "The Sandbox              0.395701\n",
              "Cardano                  0.422733\n",
              "Sei                      0.444675\n",
              "XRP                      0.477722\n",
              "Polygon                  0.608912\n",
              "Fantom                   0.644750\n",
              "EOS                      0.681961\n",
              "Ethena                   0.720688\n",
              "Flow                     0.742369\n",
              "Mantle                   0.894045\n",
              "Jupiter                  0.913249\n",
              "Arbitrum                 0.946625\n",
              "Sui                      0.991253\n",
              "First Digital USD        0.997030\n",
              "Tether                   0.998899\n",
              "USDC                     0.999620\n",
              "Dai                      1.000000\n",
              "Ethena USDe              1.000000\n",
              "Starknet                 1.000000\n",
              "Bitget Token             1.160000\n",
              "Ondo                     1.270000\n",
              "Core                     1.580000\n",
              "Fetch.ai                 1.620000\n",
              "dYdX                     1.640000\n",
              "Theta Network            1.760000\n",
              "Immutable                1.810000\n",
              "Lido DAO                 1.950000\n",
              "Name: current_price, dtype: float64"
            ]
          },
          "execution_count": 188,
          "metadata": {},
          "output_type": "execute_result"
        }
      ],
      "source": [
        "# Arithmetic Operators(Broadcasting)\n",
        "df"
      ]
    },
    {
      "cell_type": "code",
      "execution_count": 179,
      "metadata": {
        "colab": {
          "base_uri": "https://localhost:8080/"
        },
        "id": "L3uIP0BJuEKf",
        "outputId": "5071a9e3-ef90-4e09-d880-785518914f78"
      },
      "outputs": [
        {
          "data": {
            "text/plain": [
              "name\n",
              "BitTorrent               1.000000\n",
              "Pepe                     2.000000\n",
              "Cronos                   0.101956\n",
              "TRON                     0.115847\n",
              "Chiliz                   0.117766\n",
              "Dogecoin                 0.142438\n",
              "Brett                    0.144714\n",
              "Algorand             10001.000000\n",
              "Kaspa                    0.167656\n",
              "The Graph                0.248493\n",
              "Pyth Network             0.376772\n",
              "The Sandbox              0.395701\n",
              "Cardano                  0.422733\n",
              "Sei                      0.444675\n",
              "XRP                      0.477722\n",
              "Polygon                  0.608912\n",
              "Fantom                   0.644750\n",
              "EOS                      0.681961\n",
              "Ethena                   0.720688\n",
              "Flow                     0.742369\n",
              "Mantle                   0.894045\n",
              "Jupiter                  0.913249\n",
              "Arbitrum                 0.946625\n",
              "Sui                      0.991253\n",
              "First Digital USD        0.997030\n",
              "Tether                   0.998899\n",
              "USDC                     0.999620\n",
              "Dai                      1.000000\n",
              "Ethena USDe              1.000000\n",
              "Starknet                 1.000000\n",
              "Bitget Token             1.160000\n",
              "Ondo                     1.270000\n",
              "Core                     1.580000\n",
              "Fetch.ai                 1.620000\n",
              "dYdX                     1.640000\n",
              "Theta Network            1.760000\n",
              "Immutable                1.810000\n",
              "Lido DAO                 1.950000\n",
              "Name: current_price, dtype: float64"
            ]
          },
          "execution_count": 179,
          "metadata": {},
          "output_type": "execute_result"
        }
      ],
      "source": [
        "# Relational Operators\n",
        "\n",
        "df[df > 0.1]"
      ]
    },
    {
      "cell_type": "markdown",
      "metadata": {
        "id": "nrtnwvD0O515"
      },
      "source": [
        "### Boolean Indexing on Series"
      ]
    },
    {
      "cell_type": "code",
      "execution_count": 183,
      "metadata": {
        "colab": {
          "base_uri": "https://localhost:8080/"
        },
        "id": "XcyU25jLO9ft",
        "outputId": "a239891b-0493-4eb0-85b5-301f599fa2f0"
      },
      "outputs": [
        {
          "data": {
            "text/plain": [
              "name\n",
              "Cronos          0.101956\n",
              "TRON            0.115847\n",
              "Chiliz          0.117766\n",
              "Dogecoin        0.142438\n",
              "Brett           0.144714\n",
              "Kaspa           0.167656\n",
              "The Graph       0.248493\n",
              "Pyth Network    0.376772\n",
              "The Sandbox     0.395701\n",
              "Name: current_price, dtype: float64"
            ]
          },
          "execution_count": 183,
          "metadata": {},
          "output_type": "execute_result"
        }
      ],
      "source": [
        "# Find values which are greater than 0.1 but less than 0.4\n",
        "df[(df > 0.1) & (df < 0.4)]"
      ]
    },
    {
      "cell_type": "code",
      "execution_count": 185,
      "metadata": {
        "colab": {
          "base_uri": "https://localhost:8080/"
        },
        "id": "37QxNConO904",
        "outputId": "82600c80-6242-41cd-b904-1831912b41da"
      },
      "outputs": [
        {
          "data": {
            "text/plain": [
              "name\n",
              "BitTorrent     1.0\n",
              "Dai            1.0\n",
              "Ethena USDe    1.0\n",
              "Starknet       1.0\n",
              "Name: current_price, dtype: float64"
            ]
          },
          "execution_count": 185,
          "metadata": {},
          "output_type": "execute_result"
        }
      ],
      "source": [
        "# find number of values 1\n",
        "df[df == 1]"
      ]
    },
    {
      "cell_type": "markdown",
      "metadata": {
        "id": "PQjv9hm-42Jr"
      },
      "source": [
        "### Plotting Graphs on Series"
      ]
    },
    {
      "cell_type": "code",
      "execution_count": 28,
      "metadata": {
        "colab": {
          "base_uri": "https://localhost:8080/",
          "height": 283
        },
        "id": "WVEQvPTw40KE",
        "outputId": "8e7a69f1-792a-4a0e-ad83-4875ecde1108"
      },
      "outputs": [
        {
          "data": {
            "text/plain": [
              "<Axes: xlabel='name'>"
            ]
          },
          "execution_count": 28,
          "metadata": {},
          "output_type": "execute_result"
        },
        {
          "data": {
            "image/png": "[encoded data removed]",
            "text/plain": [
              "<Figure size 640x480 with 1 Axes>"
            ]
          },
          "metadata": {},
          "output_type": "display_data"
        }
      ],
      "source": [
        "# df = df[[\"name\",\"current_price\"]]\n",
        "# df.set_index(\"name\",inplace=True)\n",
        "# df = df.squeeze()\n",
        "df = df.sort_values(ascending=False)\n",
        "df = df.tail(20)\n",
        "df.plot(kind=\"bar\")"
      ]
    },
    {
      "cell_type": "code",
      "execution_count": null,
      "metadata": {
        "colab": {
          "base_uri": "https://localhost:8080/",
          "height": 266
        },
        "id": "lGhMdpmkTm-z",
        "outputId": "e21c52dc-b3cb-4a40-c2cf-2a09b7cd61f1"
      },
      "outputs": [],
      "source": []
    },
    {
      "cell_type": "markdown",
      "metadata": {
        "id": "3fl2mDQgPsz_"
      },
      "source": [
        "### Some Important Series Methods"
      ]
    },
    {
      "cell_type": "code",
      "execution_count": 36,
      "metadata": {
        "id": "HRw5A2lhKn97"
      },
      "outputs": [
        {
          "name": "stdout",
          "output_type": "stream",
          "text": [
            "96\n",
            "1901\n"
          ]
        }
      ],
      "source": [
        "# astype\n",
        "# between\n",
        "# clip\n",
        "# drop_duplicates\n",
        "# isnull\n",
        "# dropna\n",
        "# fillna\n",
        "# isin\n",
        "# apply\n",
        "# copy\n",
        "import sys\n",
        "import numpy as np\n",
        "print(sys.getsizeof(df.dtype))\n",
        "\n"
      ]
    },
    {
      "cell_type": "code",
      "execution_count": 38,
      "metadata": {},
      "outputs": [
        {
          "data": {
            "text/plain": [
              "28"
            ]
          },
          "execution_count": 38,
          "metadata": {},
          "output_type": "execute_result"
        }
      ],
      "source": [
        "dff = (sys.getsizeof(df.astype(dtype=np.int16)))\n",
        "sys.getsizeof(dff)"
      ]
    },
    {
      "cell_type": "code",
      "execution_count": 45,
      "metadata": {},
      "outputs": [
        {
          "name": "stdout",
          "output_type": "stream",
          "text": [
            "name\n",
            "Sei             0.445201\n",
            "The Sandbox     0.396677\n",
            "Pyth Network    0.379491\n",
            "Name: current_price, dtype: float64\n",
            "name\n",
            "Sei             0.445201\n",
            "The Sandbox     0.396677\n",
            "Pyth Network    0.379491\n",
            "Name: current_price, dtype: float64\n"
          ]
        }
      ],
      "source": [
        "print(df[df.between(0.3,0.5)])\n",
        "\n",
        "print(df[(df > 0.3) & (df < 0.5)])"
      ]
    },
    {
      "cell_type": "code",
      "execution_count": 49,
      "metadata": {},
      "outputs": [],
      "source": [
        "dfdf = df.clip(0.4,0.7)"
      ]
    },
    {
      "cell_type": "code",
      "execution_count": 51,
      "metadata": {},
      "outputs": [
        {
          "data": {
            "text/plain": [
              "name\n",
              "Flow           0.700000\n",
              "EOS            0.682105\n",
              "Fantom         0.648614\n",
              "Sei            0.445201\n",
              "The Sandbox    0.400000\n",
              "Name: current_price, dtype: float64"
            ]
          },
          "execution_count": 51,
          "metadata": {},
          "output_type": "execute_result"
        }
      ],
      "source": [
        "dfdf.drop_duplicates()"
      ]
    },
    {
      "cell_type": "code",
      "execution_count": 57,
      "metadata": {},
      "outputs": [],
      "source": [
        "int_ser = pd.Series([1,np.nan,3,np.nan,4,5,np.nan])"
      ]
    },
    {
      "cell_type": "code",
      "execution_count": 60,
      "metadata": {},
      "outputs": [
        {
          "data": {
            "text/plain": [
              "3"
            ]
          },
          "execution_count": 60,
          "metadata": {},
          "output_type": "execute_result"
        }
      ],
      "source": [
        "int_ser.isnull().sum()"
      ]
    },
    {
      "cell_type": "code",
      "execution_count": 61,
      "metadata": {},
      "outputs": [
        {
          "data": {
            "text/plain": [
              "0    1.0\n",
              "2    3.0\n",
              "4    4.0\n",
              "5    5.0\n",
              "dtype: float64"
            ]
          },
          "execution_count": 61,
          "metadata": {},
          "output_type": "execute_result"
        }
      ],
      "source": [
        "int_ser.dropna()"
      ]
    },
    {
      "cell_type": "code",
      "execution_count": 63,
      "metadata": {},
      "outputs": [
        {
          "data": {
            "text/plain": [
              "0               1.0\n",
              "1    Missing Values\n",
              "2               3.0\n",
              "3    Missing Values\n",
              "4               4.0\n",
              "5               5.0\n",
              "6    Missing Values\n",
              "dtype: object"
            ]
          },
          "execution_count": 63,
          "metadata": {},
          "output_type": "execute_result"
        }
      ],
      "source": [
        "int_ser.fillna(\"Missing Values\")"
      ]
    },
    {
      "cell_type": "code",
      "execution_count": 64,
      "metadata": {},
      "outputs": [
        {
          "data": {
            "text/plain": [
              "0    1.00\n",
              "1    3.25\n",
              "2    3.00\n",
              "3    3.25\n",
              "4    4.00\n",
              "5    5.00\n",
              "6    3.25\n",
              "dtype: float64"
            ]
          },
          "execution_count": 64,
          "metadata": {},
          "output_type": "execute_result"
        }
      ],
      "source": [
        "int_ser.fillna(int_ser.mean())"
      ]
    },
    {
      "cell_type": "code",
      "execution_count": 77,
      "metadata": {},
      "outputs": [
        {
          "data": {
            "text/plain": [
              "name\n",
              "Flow      0.744800\n",
              "Chiliz    0.117397\n",
              "Name: current_price, dtype: float64"
            ]
          },
          "execution_count": 77,
          "metadata": {},
          "output_type": "execute_result"
        }
      ],
      "source": [
        "df[df.isin([0.744800,0.117397])]\n"
      ]
    },
    {
      "cell_type": "code",
      "execution_count": 89,
      "metadata": {},
      "outputs": [
        {
          "data": {
            "text/plain": [
              "name\n",
              "Flow              0.744800\n",
              "Ethena            0.729866\n",
              "EOS               0.682105\n",
              "Fantom            0.648614\n",
              "Sei               0.445201\n",
              "The Sandbox       0.396677\n",
              "Pyth Network      0.379491\n",
              "Algorand          0.158419\n",
              "Brett             0.145963\n",
              "Chiliz            0.117397\n",
              "JasmyCoin         0.035404\n",
              "GALA              0.034898\n",
              "VeChain           0.029708\n",
              "Flare             0.027432\n",
              "Beam              0.020892\n",
              "Notcoin           0.020656\n",
              "Zebec Protocol    0.018781\n",
              "FLOKI             0.000214\n",
              "Bonk              0.000026\n",
              "BitTorrent        0.000001\n",
              "Name: current_price, dtype: float64"
            ]
          },
          "execution_count": 89,
          "metadata": {},
          "output_type": "execute_result"
        }
      ],
      "source": [
        "df"
      ]
    },
    {
      "cell_type": "code",
      "execution_count": 97,
      "metadata": {},
      "outputs": [
        {
          "data": {
            "text/plain": [
              "name\n",
              "Flow              1\n",
              "Ethena            1\n",
              "EOS               1\n",
              "Fantom            1\n",
              "Sei               0\n",
              "The Sandbox       0\n",
              "Pyth Network      0\n",
              "Algorand          0\n",
              "Brett             0\n",
              "Chiliz            0\n",
              "JasmyCoin         0\n",
              "GALA              0\n",
              "VeChain           0\n",
              "Flare             0\n",
              "Beam              0\n",
              "Notcoin           0\n",
              "Zebec Protocol    0\n",
              "FLOKI             0\n",
              "Bonk              0\n",
              "BitTorrent        0\n",
              "Name: current_price, dtype: int64"
            ]
          },
          "execution_count": 97,
          "metadata": {},
          "output_type": "execute_result"
        }
      ],
      "source": [
        "df.apply(lambda x :round(x))"
      ]
    },
    {
      "cell_type": "code",
      "execution_count": 111,
      "metadata": {},
      "outputs": [
        {
          "data": {
            "text/plain": [
              "name\n",
              "Flow              100.000000\n",
              "Ethena              0.729866\n",
              "EOS                 0.682105\n",
              "Fantom              0.648614\n",
              "Sei                 0.445201\n",
              "The Sandbox         0.396677\n",
              "Pyth Network        0.379491\n",
              "Algorand            0.158419\n",
              "Brett               0.145963\n",
              "Chiliz              0.117397\n",
              "JasmyCoin           0.035404\n",
              "GALA                0.034898\n",
              "VeChain             0.029708\n",
              "Flare               0.027432\n",
              "Beam                0.020892\n",
              "Notcoin             0.020656\n",
              "Zebec Protocol      0.018781\n",
              "FLOKI               0.000214\n",
              "Bonk                0.000026\n",
              "BitTorrent          0.000001\n",
              "Name: current_price, dtype: float64"
            ]
          },
          "execution_count": 111,
          "metadata": {},
          "output_type": "execute_result"
        }
      ],
      "source": [
        "df"
      ]
    },
    {
      "cell_type": "code",
      "execution_count": 101,
      "metadata": {},
      "outputs": [
        {
          "data": {
            "text/plain": [
              "name\n",
              "Flow      100.000000\n",
              "Ethena      0.729866\n",
              "EOS         0.682105\n",
              "Fantom      0.648614\n",
              "Sei         0.445201\n",
              "Name: current_price, dtype: float64"
            ]
          },
          "execution_count": 101,
          "metadata": {},
          "output_type": "execute_result"
        }
      ],
      "source": [
        "dff = df.head()\n",
        "dff[\"Flow\"] = 100\n",
        "dff"
      ]
    },
    {
      "cell_type": "code",
      "execution_count": 103,
      "metadata": {},
      "outputs": [],
      "source": [
        "dfg = df.copy()"
      ]
    },
    {
      "cell_type": "code",
      "execution_count": 109,
      "metadata": {},
      "outputs": [],
      "source": [
        "dfg[\"Ethena\"] = 200"
      ]
    },
    {
      "cell_type": "code",
      "execution_count": 110,
      "metadata": {},
      "outputs": [
        {
          "data": {
            "text/plain": [
              "name\n",
              "Flow              100.000000\n",
              "Ethena            200.000000\n",
              "EOS                 0.682105\n",
              "Fantom              0.648614\n",
              "Sei                 0.445201\n",
              "The Sandbox         0.396677\n",
              "Pyth Network        0.379491\n",
              "Algorand            0.158419\n",
              "Brett               0.145963\n",
              "Chiliz              0.117397\n",
              "JasmyCoin           0.035404\n",
              "GALA                0.034898\n",
              "VeChain             0.029708\n",
              "Flare               0.027432\n",
              "Beam                0.020892\n",
              "Notcoin             0.020656\n",
              "Zebec Protocol      0.018781\n",
              "FLOKI               0.000214\n",
              "Bonk                0.000026\n",
              "BitTorrent          0.000001\n",
              "Etherna           200.000000\n",
              "Name: current_price, dtype: float64"
            ]
          },
          "execution_count": 110,
          "metadata": {},
          "output_type": "execute_result"
        }
      ],
      "source": [
        "dfg"
      ]
    },
    {
      "cell_type": "code",
      "execution_count": null,
      "metadata": {},
      "outputs": [],
      "source": []
    },
    {
      "cell_type": "code",
      "execution_count": null,
      "metadata": {},
      "outputs": [],
      "source": []
    },
    {
      "cell_type": "code",
      "execution_count": null,
      "metadata": {},
      "outputs": [],
      "source": []
    },
    {
      "cell_type": "code",
      "execution_count": null,
      "metadata": {},
      "outputs": [],
      "source": []
    },
    {
      "cell_type": "code",
      "execution_count": null,
      "metadata": {},
      "outputs": [],
      "source": []
    },
    {
      "cell_type": "code",
      "execution_count": null,
      "metadata": {
        "id": "AWCxMcdt6tN2"
      },
      "outputs": [],
      "source": [
        "import numpy as np\n",
        "import pandas as pd"
      ]
    },
    {
      "cell_type": "code",
      "execution_count": null,
      "metadata": {
        "colab": {
          "base_uri": "https://localhost:8080/"
        },
        "id": "7ziyhORZ0Oy1",
        "outputId": "a480585f-3edd-4497-8f48-1f6a718cdbd3"
      },
      "outputs": [],
      "source": [
        "import requests\n",
        "import pandas as pd\n",
        "\n",
        "# Define the API endpoint\n",
        "url = \"https://api.coingecko.com/api/v3/coins/markets\"\n",
        "\n",
        "# Define the parameters for the API request\n",
        "params = {\n",
        "    \"vs_currency\": \"usd\",\n",
        "    \"order\": \"market_cap_desc\",\n",
        "    \"per_page\": 100,\n",
        "    \"page\": 1,\n",
        "    \"sparkline\": False\n",
        "}\n",
        "\n",
        "# Make the API request\n",
        "response = requests.get(url, params=params)\n",
        "\n",
        "# Check if the request was successful\n",
        "if response.status_code == 200:\n",
        "    # Parse the JSON data\n",
        "    data = response.json()\n",
        "    \n",
        "    # Create a DataFrame from the data\n",
        "    df = pd.DataFrame(data)\n",
        "    \n",
        "    # Display the DataFrame\n",
        "    print(df.head())\n",
        "else:\n",
        "    print(f\"Failed to fetch data: {response.status_code}\")\n",
        "\n"
      ]
    },
    {
      "cell_type": "code",
      "execution_count": null,
      "metadata": {
        "colab": {
          "base_uri": "https://localhost:8080/"
        },
        "id": "sXzsoZBIzXgQ",
        "outputId": "fdfa4a42-cab0-4f2a-84d8-7b0ffb3a3a0b"
      },
      "outputs": [],
      "source": [
        "df.info()"
      ]
    },
    {
      "cell_type": "code",
      "execution_count": null,
      "metadata": {
        "colab": {
          "base_uri": "https://localhost:8080/"
        },
        "id": "YIG8ViibzbaA",
        "outputId": "e3db35aa-e98a-425a-ca61-df44efa191c8"
      },
      "outputs": [],
      "source": [
        "df.plot.hexbin(x='current_price', y='market_cap', gridsize=30, cmap='viridis')\n"
      ]
    },
    {
      "cell_type": "code",
      "execution_count": null,
      "metadata": {},
      "outputs": [],
      "source": [
        "from wordcloud import WordCloud\n",
        "import matplotlib.pyplot as plt\n",
        "\n",
        "text = \"Pandas is a powerful data analysis and manipulation library for Python. It is widely used for data science, data analysis, and machine learning.\"\n",
        "\n",
        "wordcloud = WordCloud(width=800, height=400, background_color='white').generate(text)\n",
        "\n",
        "plt.figure(figsize=(10, 5))\n",
        "plt.imshow(wordcloud, interpolation='bilinear')\n",
        "plt.axis('off')\n",
        "plt.show()\n"
      ]
    },
    {
      "cell_type": "code",
      "execution_count": null,
      "metadata": {},
      "outputs": [],
      "source": [
        "import plotly.express as px\n",
        "\n",
        "# Sample data\n",
        "df = px.data.gapminder().query(\"year == 2007\")\n",
        "\n",
        "fig = px.scatter(df, x='gdpPercap', y='lifeExp',\n",
        "                 size='pop', color='continent',\n",
        "                 hover_name='country', log_x=True, size_max=60)\n",
        "\n",
        "fig.show()\n"
      ]
    },
    {
      "cell_type": "code",
      "execution_count": null,
      "metadata": {},
      "outputs": [],
      "source": [
        "import folium\n",
        "from folium.plugins import HeatMap\n",
        "\n",
        "# Sample data\n",
        "data = [\n",
        "    [37.7749, -122.4194, 10],\n",
        "    [34.0522, -118.2437, 20],\n",
        "    [40.7128, -74.0060, 30]\n",
        "]\n",
        "\n",
        "# Create a map\n",
        "m = folium.Map(location=[37.7749, -122.4194], zoom_start=5)\n",
        "\n",
        "# Add a heatmap\n",
        "HeatMap(data).add_to(m)\n",
        "\n",
        "# Save the map to an HTML file\n",
        "m.save('heatmap.html')\n"
      ]
    },
    {
      "cell_type": "code",
      "execution_count": null,
      "metadata": {},
      "outputs": [],
      "source": []
    },
    {
      "cell_type": "code",
      "execution_count": null,
      "metadata": {},
      "outputs": [],
      "source": []
    },
    {
      "cell_type": "code",
      "execution_count": null,
      "metadata": {},
      "outputs": [],
      "source": []
    },
    {
      "cell_type": "code",
      "execution_count": null,
      "metadata": {},
      "outputs": [],
      "source": []
    },
    {
      "cell_type": "code",
      "execution_count": null,
      "metadata": {},
      "outputs": [],
      "source": []
    },
    {
      "cell_type": "code",
      "execution_count": null,
      "metadata": {},
      "outputs": [],
      "source": []
    },
    {
      "cell_type": "code",
      "execution_count": null,
      "metadata": {},
      "outputs": [],
      "source": [
        "pd.plotting.scatter_matrix(df[['current_price', 'market_cap', 'total_volume']], figsize=(12, 12), diagonal='kde')\n"
      ]
    },
    {
      "cell_type": "code",
      "execution_count": null,
      "metadata": {},
      "outputs": [],
      "source": [
        "import seaborn as sns\n",
        "crosstab = pd.crosstab(df['market_cap_rank'], df['price_change_percentage_24h'])\n",
        "sns.heatmap(crosstab, cmap='coolwarm')\n"
      ]
    },
    {
      "cell_type": "code",
      "execution_count": null,
      "metadata": {},
      "outputs": [],
      "source": [
        "import pandas as pd\n",
        "import matplotlib.pyplot as plt\n",
        "import mplfinance as mpf\n",
        "\n",
        "# Sample stock price data\n",
        "data = {\n",
        "    'Date': pd.date_range(start='2023-01-01', periods=100, freq='D'),\n",
        "    'Open': pd.Series(range(100)) + pd.Series(range(100)).apply(lambda x: x*0.5),\n",
        "    'High': pd.Series(range(100)) + pd.Series(range(100)).apply(lambda x: x*0.75),\n",
        "    'Low': pd.Series(range(100)) + pd.Series(range(100)).apply(lambda x: x*0.25),\n",
        "    'Close': pd.Series(range(100)) + pd.Series(range(100)).apply(lambda x: x*0.5),\n",
        "    'Volume': pd.Series(range(100)) * 1000\n",
        "}\n",
        "\n",
        "df = pd.DataFrame(data)\n",
        "df.set_index('Date', inplace=True)\n",
        "\n",
        "# Calculate moving averages\n",
        "df['MA20'] = df['Close'].rolling(window=20).mean()\n",
        "df['MA50'] = df['Close'].rolling(window=50).mean()\n",
        "\n",
        "# Create the candlestick chart\n",
        "mc = mpf.make_marketcolors(up='g', down='r', inherit=True)\n",
        "s = mpf.make_mpf_style(marketcolors=mc)\n",
        "\n",
        "add_plot = [\n",
        "    mpf.make_addplot(df['MA20'], color='blue'),\n",
        "    mpf.make_addplot(df['MA50'], color='orange')\n",
        "]\n",
        "\n",
        "mpf.plot(df, type='candle', style=s, addplot=add_plot, volume=True, title='Candlestick Chart with Moving Averages')\n"
      ]
    },
    {
      "cell_type": "code",
      "execution_count": null,
      "metadata": {},
      "outputs": [],
      "source": [
        "import seaborn as sns\n",
        "import numpy as np\n",
        "\n",
        "# Sample stock price data for multiple stocks\n",
        "data = {\n",
        "    'Stock_A': np.random.normal(loc=100, scale=10, size=100),\n",
        "    'Stock_B': np.random.normal(loc=200, scale=15, size=100),\n",
        "    'Stock_C': np.random.normal(loc=150, scale=20, size=100),\n",
        "    'Stock_D': np.random.normal(loc=50, scale=5, size=100)\n",
        "}\n",
        "\n",
        "df = pd.DataFrame(data)\n",
        "\n",
        "# Calculate the correlation matrix\n",
        "correlation_matrix = df.corr()\n",
        "\n",
        "# Create a heatmap\n",
        "plt.figure(figsize=(10, 8))\n",
        "sns.heatmap(correlation_matrix, annot=True, cmap='coolwarm', center=0)\n",
        "plt.title('Stock Correlation Heatmap')\n",
        "plt.show()\n"
      ]
    },
    {
      "cell_type": "code",
      "execution_count": null,
      "metadata": {},
      "outputs": [],
      "source": [
        "import pandas as pd\n",
        "import matplotlib.pyplot as plt\n",
        "import numpy as np\n",
        "\n",
        "# Generate sample stock price data\n",
        "np.random.seed(42)\n",
        "dates = pd.date_range(start='2023-01-01', periods=100, freq='D')\n",
        "data = {\n",
        "    'Date': dates,\n",
        "    'Open': np.random.uniform(low=100, high=200, size=len(dates)),\n",
        "    'High': np.random.uniform(low=100, high=200, size=len(dates)),\n",
        "    'Low': np.random.uniform(low=100, high=200, size=len(dates)),\n",
        "    'Close': np.random.uniform(low=100, high=200, size=len(dates)),\n",
        "    'Volume': np.random.uniform(low=1000, high=10000, size=len(dates))\n",
        "}\n",
        "\n",
        "df = pd.DataFrame(data)\n",
        "df.set_index('Date', inplace=True)\n",
        "\n",
        "# Calculate Bollinger Bands\n",
        "df['MA20'] = df['Close'].rolling(window=20).mean()\n",
        "df['20 Day STD'] = df['Close'].rolling(window=20).std()\n",
        "df['Upper Band'] = df['MA20'] + (df['20 Day STD'] * 2)\n",
        "df['Lower Band'] = df['MA20'] - (df['20 Day STD'] * 2)\n",
        "\n",
        "# Plot Bollinger Bands\n",
        "plt.figure(figsize=(14, 7))\n",
        "plt.plot(df['Close'], label='Close Price', color='black')\n",
        "plt.plot(df['MA20'], label='20-Day Moving Average', color='blue')\n",
        "plt.plot(df['Upper Band'], label='Upper Bollinger Band', color='orange')\n",
        "plt.plot(df['Lower Band'], label='Lower Bollinger Band', color='orange')\n",
        "plt.fill_between(df.index, df['Upper Band'], df['Lower Band'], color='orange', alpha=0.1)\n",
        "plt.title('Bollinger Bands')\n",
        "plt.legend()\n",
        "plt.show()\n"
      ]
    },
    {
      "cell_type": "code",
      "execution_count": null,
      "metadata": {},
      "outputs": [],
      "source": [
        "# Calculate RSI\n",
        "delta = df['Close'].diff(1)\n",
        "gain = delta.mask(delta < 0, 0)\n",
        "loss = -delta.mask(delta > 0, 0)\n",
        "avg_gain = gain.rolling(window=14).mean()\n",
        "avg_loss = loss.rolling(window=14).mean()\n",
        "rs = avg_gain / avg_loss\n",
        "df['RSI'] = 100 - (100 / (1 + rs))\n",
        "\n",
        "# Plot RSI\n",
        "plt.figure(figsize=(14, 7))\n",
        "plt.plot(df['RSI'], label='RSI', color='purple')\n",
        "plt.axhline(70, linestyle='--', alpha=0.5, color='red')\n",
        "plt.axhline(30, linestyle='--', alpha=0.5, color='green')\n",
        "plt.title('Relative Strength Index (RSI)')\n",
        "plt.legend()\n",
        "plt.show()\n"
      ]
    },
    {
      "cell_type": "code",
      "execution_count": null,
      "metadata": {},
      "outputs": [],
      "source": [
        "import pandas as pd\n",
        "import matplotlib.pyplot as plt\n",
        "import numpy as np\n",
        "import plotly.graph_objects as go\n",
        "import yfinance as yf\n",
        "\n",
        "# Fetch stock data\n",
        "ticker = 'AAPL'\n",
        "df = yf.download(ticker, start='2023-01-01', end='2023-04-10')\n",
        "\n",
        "# Reset index to ensure 'Date' is a column\n",
        "df.reset_index(inplace=True)\n",
        "\n",
        "# Create the interactive candlestick chart\n",
        "fig = go.Figure(data=[go.Candlestick(x=df['Date'],\n",
        "                                     open=df['Open'],\n",
        "                                     high=df['High'],\n",
        "                                     low=df['Low'],\n",
        "                                     close=df['Close'])])\n",
        "\n",
        "fig.update_layout(title='Interactive Candlestick Chart', xaxis_title='Date', yaxis_title='Price')\n",
        "fig.show()\n"
      ]
    },
    {
      "cell_type": "code",
      "execution_count": 5,
      "metadata": {},
      "outputs": [
        {
          "name": "stderr",
          "output_type": "stream",
          "text": [
            "[*********************100%%**********************]  1 of 1 completed\n"
          ]
        },
        {
          "data": {
            "image/png": "[encoded data removed]",
            "text/plain": [
              "<Figure size 1400x700 with 1 Axes>"
            ]
          },
          "metadata": {},
          "output_type": "display_data"
        }
      ],
      "source": [
        "import pandas as pd\n",
        "import matplotlib.pyplot as plt\n",
        "import numpy as np\n",
        "import yfinance as yf\n",
        "\n",
        "# Fetch stock data\n",
        "ticker = 'AAPL'\n",
        "df = yf.download(ticker, start='2023-01-01', end='2023-04-10')\n",
        "\n",
        "# Calculate Bollinger Bands\n",
        "df['MA20'] = df['Close'].rolling(window=20).mean()\n",
        "df['20 Day STD'] = df['Close'].rolling(window=20).std()\n",
        "df['Upper Band'] = df['MA20'] + (df['20 Day STD'] * 2)\n",
        "df['Lower Band'] = df['MA20'] - (df['20 Day STD'] * 2)\n",
        "\n",
        "# Plot Bollinger Bands\n",
        "plt.figure(figsize=(14, 7))\n",
        "plt.plot(df['Close'], label='Close Price', color='black')\n",
        "plt.plot(df['MA20'], label='20-Day Moving Average', color='blue')\n",
        "plt.plot(df['Upper Band'], label='Upper Bollinger Band', color='orange')\n",
        "plt.plot(df['Lower Band'], label='Lower Bollinger Band', color='orange')\n",
        "plt.fill_between(df.index, df['Upper Band'], df['Lower Band'], color='orange', alpha=0.1)\n",
        "plt.title('Bollinger Bands')\n",
        "plt.legend()\n",
        "plt.show()\n"
      ]
    },
    {
      "cell_type": "code",
      "execution_count": null,
      "metadata": {},
      "outputs": [],
      "source": [
        "import pandas as pd\n",
        "import matplotlib.pyplot as plt\n",
        "import mplfinance as mpf\n",
        "import yfinance as yf\n",
        "\n",
        "# Fetch stock data\n",
        "ticker = 'AAPL'\n",
        "df = yf.download(ticker, start='2023-01-01', end='2023-04-10')\n",
        "\n",
        "# Calculate moving averages\n",
        "df['MA20'] = df['Close'].rolling(window=20).mean()\n",
        "df['MA50'] = df['Close'].rolling(window=50).mean()\n",
        "\n",
        "# Create the candlestick chart with moving averages\n",
        "add_plot = [\n",
        "    mpf.make_addplot(df['MA20'], color='blue'),\n",
        "    mpf.make_addplot(df['MA50'], color='orange')\n",
        "]\n",
        "\n",
        "apdict = mpf.make_addplot(df['Volume'], panel=1, color='lightgray', secondary_y=False)\n",
        "\n",
        "mpf.plot(df, type='candle', addplot=add_plot + [apdict], volume=True, title='Apple Inc. (AAPL) with Moving Averages and Volume', style='yahoo')\n"
      ]
    },
    {
      "cell_type": "code",
      "execution_count": null,
      "metadata": {},
      "outputs": [],
      "source": [
        "import pandas as pd\n",
        "import numpy as np\n",
        "import plotly.express as px\n",
        "import yfinance as yf\n",
        "\n",
        "# Fetch stock data for multiple tickers\n",
        "tickers = ['AAPL', 'MSFT', 'GOOGL', 'AMZN', 'TSLA']\n",
        "df = yf.download(tickers, start='2023-01-01', end='2023-04-10')['Adj Close']\n",
        "\n",
        "# Calculate daily returns\n",
        "returns = df.pct_change().dropna()\n",
        "\n",
        "# Calculate correlation matrix\n",
        "correlation_matrix = returns.corr()\n",
        "\n",
        "# Create an interactive heatmap\n",
        "fig = px.imshow(correlation_matrix, text_auto=True, aspect='auto', color_continuous_scale='Viridis')\n",
        "fig.update_layout(title='Correlation of Stock Returns', xaxis_title='Stocks', yaxis_title='Stocks')\n",
        "fig.show()\n"
      ]
    },
    {
      "cell_type": "code",
      "execution_count": null,
      "metadata": {},
      "outputs": [],
      "source": [
        "import pandas as pd\n",
        "import matplotlib.pyplot as plt\n",
        "import mplfinance as mpf\n",
        "import yfinance as yf\n",
        "\n",
        "# Fetch stock data\n",
        "ticker = 'AAPL'\n",
        "df = yf.download(ticker, start='2023-01-01', end='2023-04-10')\n",
        "\n",
        "# Calculate Bollinger Bands\n",
        "df['MA20'] = df['Close'].rolling(window=20).mean()\n",
        "df['20 Day STD'] = df['Close'].rolling(window=20).std()\n",
        "df['Upper Band'] = df['MA20'] + (df['20 Day STD'] * 2)\n",
        "df['Lower Band'] = df['MA20'] - (df['20 Day STD'] * 2)\n",
        "\n",
        "# Calculate RSI\n",
        "delta = df['Close'].diff(1)\n",
        "gain = delta.mask(delta < 0, 0)\n",
        "loss = -delta.mask(delta > 0, 0)\n",
        "avg_gain = gain.rolling(window=14).mean()\n",
        "avg_loss = loss.rolling(window=14).mean()\n",
        "rs = avg_gain / avg_loss\n",
        "df['RSI'] = 100 - (100 / (1 + rs))\n",
        "\n",
        "# Plot Bollinger Bands and RSI\n",
        "add_plot = [\n",
        "    mpf.make_addplot(df['Upper Band'], color='orange'),\n",
        "    mpf.make_addplot(df['Lower Band'], color='orange'),\n",
        "    mpf.make_addplot(df['MA20'], color='blue'),\n",
        "    mpf.make_addplot(df['RSI'], panel=1, color='purple', ylabel='RSI')\n",
        "]\n",
        "\n",
        "mpf.plot(df, type='candle', addplot=add_plot, volume=True, title='Apple Inc. (AAPL) with Bollinger Bands and RSI', style='charles')\n"
      ]
    },
    {
      "cell_type": "code",
      "execution_count": null,
      "metadata": {},
      "outputs": [],
      "source": [
        "import pandas as pd\n",
        "import matplotlib.pyplot as plt\n",
        "import yfinance as yf\n",
        "\n",
        "# Fetch stock data\n",
        "ticker = 'AAPL'\n",
        "df = yf.download(ticker, start='2023-01-01', end='2023-04-10')\n",
        "\n",
        "# Plot closing price\n",
        "plt.figure(figsize=(14, 7))\n",
        "plt.plot(df['Close'], label='Close Price', color='black')\n",
        "\n",
        "# Annotate significant events\n",
        "events = {\n",
        "    '2023-02-01': 'Earnings Report',\n",
        "    '2023-03-15': 'Product Launch',\n",
        "    '2023-04-01': 'Stock Split'\n",
        "}\n",
        "\n",
        "# Convert event dates to datetime objects\n",
        "event_dates = pd.to_datetime(list(events.keys()))\n",
        "\n",
        "# Annotate only if the date exists in the DataFrame\n",
        "for date, event in zip(event_dates, events.values()):\n",
        "    if date in df.index:\n",
        "        plt.annotate(event, xy=(date, df.loc[date, 'Close']), xytext=(date, df.loc[date, 'Close']+5),\n",
        "                     arrowprops=dict(facecolor='red', shrink=0.05),\n",
        "                     horizontalalignment='left', verticalalignment='top')\n",
        "\n",
        "plt.title('Apple Inc. (AAPL) Price Movements with Annotations')\n",
        "plt.legend()\n",
        "plt.show()\n"
      ]
    },
    {
      "cell_type": "code",
      "execution_count": null,
      "metadata": {},
      "outputs": [],
      "source": [
        "import pandas as pd\n",
        "import matplotlib.pyplot as plt\n",
        "import yfinance as yf\n",
        "from matplotlib.dates import DateFormatter\n",
        "\n",
        "# Fetch stock data\n",
        "ticker = 'AAPL'\n",
        "df = yf.download(ticker, start='2023-01-01', end='2023-04-10')\n",
        "\n",
        "# Check available styles\n",
        "print(plt.style.available)\n",
        "\n",
        "# Plot closing price with a professional style\n",
        "plt.style.use('ggplot')  # Using a valid matplotlib style\n",
        "fig, ax = plt.subplots(figsize=(14, 7))\n",
        "ax.plot(df['Close'], label='Close Price', color='black')\n",
        "\n",
        "# Annotate significant events\n",
        "events = {\n",
        "    '2023-02-01': 'Earnings Report',\n",
        "    '2023-03-15': 'Product Launch',\n",
        "    '2023-04-01': 'Stock Split'\n",
        "}\n",
        "\n",
        "# Convert event dates to datetime objects\n",
        "event_dates = pd.to_datetime(list(events.keys()))\n",
        "\n",
        "# Annotate only if the date exists in the DataFrame\n",
        "for date, event in zip(event_dates, events.values()):\n",
        "    if date in df.index:\n",
        "        ax.annotate(event, xy=(date, df.loc[date, 'Close']), xytext=(date, df.loc[date, 'Close']+5),\n",
        "                    arrowprops=dict(facecolor='red', shrink=0.05),\n",
        "                    horizontalalignment='left', verticalalignment='top')\n",
        "\n",
        "# Format the x-axis for better readability\n",
        "date_form = DateFormatter(\"%b-%d\")\n",
        "ax.xaxis.set_major_formatter(date_form)\n",
        "fig.autofmt_xdate()\n",
        "\n",
        "plt.title('Apple Inc. (AAPL) Price Movements with Annotations')\n",
        "plt.legend()\n",
        "plt.show()\n"
      ]
    },
    {
      "cell_type": "code",
      "execution_count": 6,
      "metadata": {},
      "outputs": [
        {
          "ename": "ModuleNotFoundError",
          "evalue": "No module named 'plotly'",
          "output_type": "error",
          "traceback": [
            "\u001b[1;31m---------------------------------------------------------------------------\u001b[0m",
            "\u001b[1;31mModuleNotFoundError\u001b[0m                       Traceback (most recent call last)",
            "Cell \u001b[1;32mIn[6], line 3\u001b[0m\n\u001b[0;32m      1\u001b[0m \u001b[38;5;28;01mimport\u001b[39;00m \u001b[38;5;21;01mpandas\u001b[39;00m \u001b[38;5;28;01mas\u001b[39;00m \u001b[38;5;21;01mpd\u001b[39;00m\n\u001b[0;32m      2\u001b[0m \u001b[38;5;28;01mimport\u001b[39;00m \u001b[38;5;21;01mnumpy\u001b[39;00m \u001b[38;5;28;01mas\u001b[39;00m \u001b[38;5;21;01mnp\u001b[39;00m\n\u001b[1;32m----> 3\u001b[0m \u001b[38;5;28;01mimport\u001b[39;00m \u001b[38;5;21;01mplotly\u001b[39;00m\u001b[38;5;21;01m.\u001b[39;00m\u001b[38;5;21;01mgraph_objects\u001b[39;00m \u001b[38;5;28;01mas\u001b[39;00m \u001b[38;5;21;01mgo\u001b[39;00m\n\u001b[0;32m      4\u001b[0m \u001b[38;5;28;01mimport\u001b[39;00m \u001b[38;5;21;01myfinance\u001b[39;00m \u001b[38;5;28;01mas\u001b[39;00m \u001b[38;5;21;01myf\u001b[39;00m\n\u001b[0;32m      6\u001b[0m \u001b[38;5;66;03m# Fetch stock data for multiple tickers\u001b[39;00m\n",
            "\u001b[1;31mModuleNotFoundError\u001b[0m: No module named 'plotly'"
          ]
        }
      ],
      "source": [
        "import pandas as pd\n",
        "import numpy as np\n",
        "import plotly.graph_objects as go\n",
        "import yfinance as yf\n",
        "\n",
        "# Fetch stock data for multiple tickers\n",
        "tickers = ['AAPL', 'MSFT', 'GOOGL']\n",
        "df = yf.download(tickers, start='2023-01-01', end='2023-04-10')['Adj Close']\n",
        "\n",
        "# Prepare data for 3D surface plot\n",
        "dates = df.index\n",
        "stock_data = [df[ticker].values for ticker in tickers]\n",
        "\n",
        "# Create the 3D surface plot\n",
        "fig = go.Figure()\n",
        "\n",
        "for i, ticker in enumerate(tickers):\n",
        "    fig.add_trace(go.Surface(z=[stock_data[i]], x=dates, y=[ticker] * len(dates), name=ticker))\n",
        "\n",
        "fig.update_layout(title='3D Surface Plot of Stock Prices', scene=dict(\n",
        "                    xaxis_title='Date',\n",
        "                    yaxis_title='Stock',\n",
        "                    zaxis_title='Price'),\n",
        "                  autosize=False, width=800, height=800)\n",
        "fig.show()\n"
      ]
    },
    {
      "cell_type": "code",
      "execution_count": null,
      "metadata": {},
      "outputs": [],
      "source": [
        "import pandas as pd\n",
        "import plotly.express as px\n",
        "import yfinance as yf\n",
        "\n",
        "# Fetch stock data\n",
        "ticker = 'AAPL'\n",
        "df = yf.download(ticker, start='2023-01-01', end='2023-04-10')\n",
        "\n",
        "# Create an interactive 3D scatter plot\n",
        "fig = px.scatter_3d(df, x=df.index, y='Close', z='Volume', color='Close', size='Volume',\n",
        "                    title='3D Scatter Plot of Stock Prices and Volume', labels={'Close': 'Close Price', 'Volume': 'Volume', 'index': 'Date'})\n",
        "\n",
        "fig.update_layout(scene=dict(xaxis_title='Date', yaxis_title='Close Price', zaxis_title='Volume'))\n",
        "fig.show()\n"
      ]
    },
    {
      "cell_type": "code",
      "execution_count": null,
      "metadata": {},
      "outputs": [],
      "source": [
        "import pandas as pd\n",
        "import plotly.graph_objects as go\n",
        "import yfinance as yf\n",
        "\n",
        "# Fetch stock data\n",
        "ticker = 'AAPL'\n",
        "df = yf.download(ticker, start='2023-01-01', end='2023-04-10')\n",
        "\n",
        "# Create a 3D candlestick chart with volume bars\n",
        "fig = go.Figure(data=[go.Candlestick(x=df.index, open=df['Open'], high=df['High'], low=df['Low'], close=df['Close'], name='Candlestick')])\n",
        "\n",
        "fig.add_trace(go.Bar(x=df.index, y=df['Volume'], name='Volume', marker=dict(color='rgba(50, 171, 96, 0.6)'), yaxis='y2'))\n",
        "\n",
        "fig.update_layout(title='3D Candlestick Chart with Volume Bars', yaxis=dict(title='Price'), yaxis2=dict(title='Volume', overlaying='y', side='right'))\n",
        "\n",
        "fig.show()\n"
      ]
    },
    {
      "cell_type": "code",
      "execution_count": null,
      "metadata": {},
      "outputs": [],
      "source": [
        "import pandas as pd\n",
        "import plotly.graph_objects as go\n",
        "import yfinance as yf\n",
        "\n",
        "# Fetch stock data\n",
        "ticker = 'AAPL'\n",
        "df = yf.download(ticker, start='2023-01-01', end='2023-04-10')\n",
        "\n",
        "# Calculate moving averages\n",
        "df['MA20'] = df['Close'].rolling(window=20).mean()\n",
        "df['MA50'] = df['Close'].rolling(window=50).mean()\n",
        "\n",
        "# Create a 3D line plot for moving averages\n",
        "fig = go.Figure()\n",
        "\n",
        "fig.add_trace(go.Scatter3d(x=df.index, y=df['MA20'], z=df['Close'], mode='lines', name='MA20', line=dict(color='blue')))\n",
        "fig.add_trace(go.Scatter3d(x=df.index, y=df['MA50'], z=df['Close'], mode='lines', name='MA50', line=dict(color='orange')))\n",
        "fig.add_trace(go.Scatter3d(x=df.index, y=df['Close'], z=df['Volume'], mode='lines', name='Close Price', line=dict(color='green')))\n",
        "\n",
        "fig.update_layout(title='3D Line Plot for Moving Averages', scene=dict(xaxis_title='Date', yaxis_title='Moving Average', zaxis_title='Close Price'))\n",
        "fig.show()\n"
      ]
    },
    {
      "cell_type": "code",
      "execution_count": null,
      "metadata": {},
      "outputs": [],
      "source": [
        "import pandas as pd\n",
        "import plotly.express as px\n",
        "import yfinance as yf\n",
        "\n",
        "# Fetch stock data\n",
        "tickers = ['AAPL', 'MSFT', 'GOOGL']\n",
        "df = yf.download(tickers, start='2023-01-01', end='2023-04-10')['Adj Close']\n",
        "\n",
        "# Calculate market cap for visualization (using arbitrary values for example)\n",
        "market_cap = {\n",
        "    'AAPL': 2.5e12,\n",
        "    'MSFT': 2.0e12,\n",
        "    'GOOGL': 1.5e12\n",
        "}\n",
        "\n",
        "# Prepare data for 3D bubble chart\n",
        "df = df.reset_index()\n",
        "df_melted = df.melt(id_vars='Date', var_name='Stock', value_name='Price')\n",
        "df_melted['Volume'] = df_melted['Price'] * 1000  # Example volume data\n",
        "df_melted['Market Cap'] = df_melted['Stock'].map(market_cap)\n",
        "\n",
        "# Create an interactive 3D bubble chart\n",
        "fig = px.scatter_3d(df_melted, x='Date', y='Price', z='Volume', color='Stock', size='Market Cap',\n",
        "                    title='3D Bubble Chart for Stock Data', labels={'Price': 'Price', 'Volume': 'Volume', 'Date': 'Date'})\n",
        "\n",
        "fig.update_layout(scene=dict(xaxis_title='Date', yaxis_title='Price', zaxis_title='Volume'))\n",
        "fig.show()\n"
      ]
    },
    {
      "cell_type": "code",
      "execution_count": null,
      "metadata": {},
      "outputs": [],
      "source": []
    },
    {
      "cell_type": "code",
      "execution_count": null,
      "metadata": {},
      "outputs": [],
      "source": []
    },
    {
      "cell_type": "code",
      "execution_count": null,
      "metadata": {},
      "outputs": [],
      "source": []
    },
    {
      "cell_type": "code",
      "execution_count": null,
      "metadata": {
        "colab": {
          "base_uri": "https://localhost:8080/"
        },
        "id": "W_Savtg2zf7z",
        "outputId": "67e51723-1a0f-41ae-c1b7-1a4dd3c2e2a2"
      },
      "outputs": [],
      "source": [
        "# astype\n"
      ]
    },
    {
      "cell_type": "code",
      "execution_count": null,
      "metadata": {
        "colab": {
          "base_uri": "https://localhost:8080/"
        },
        "id": "LColuUHt62ho",
        "outputId": "7ed7fdbe-ef05-4367-af75-b94ba28abcf5"
      },
      "outputs": [],
      "source": []
    },
    {
      "cell_type": "code",
      "execution_count": null,
      "metadata": {
        "colab": {
          "base_uri": "https://localhost:8080/"
        },
        "id": "9TGRR7Mi63Rl",
        "outputId": "9b255cc8-bc45-4889-cc41-0a466f023e8e"
      },
      "outputs": [],
      "source": [
        "# between\n"
      ]
    },
    {
      "cell_type": "code",
      "execution_count": null,
      "metadata": {
        "id": "uBCn5ryN68y8"
      },
      "outputs": [],
      "source": []
    },
    {
      "cell_type": "code",
      "execution_count": null,
      "metadata": {
        "colab": {
          "base_uri": "https://localhost:8080/"
        },
        "id": "n7FUL-St69Dk",
        "outputId": "2f39b3ef-1505-48ff-9515-5118cbb6566e"
      },
      "outputs": [],
      "source": [
        "# clip\n"
      ]
    },
    {
      "cell_type": "code",
      "execution_count": null,
      "metadata": {
        "colab": {
          "base_uri": "https://localhost:8080/"
        },
        "id": "kUkcI7Q86-Ik",
        "outputId": "ded69a90-7ed3-4c1d-c6d1-8cf1f7a4c621"
      },
      "outputs": [],
      "source": []
    },
    {
      "cell_type": "code",
      "execution_count": null,
      "metadata": {
        "colab": {
          "base_uri": "https://localhost:8080/"
        },
        "id": "1pxfXsU2z13B",
        "outputId": "18a6951c-06b6-48ea-d3c2-22a27f737ed5"
      },
      "outputs": [],
      "source": [
        "# drop_duplicates\n"
      ]
    },
    {
      "cell_type": "code",
      "execution_count": null,
      "metadata": {
        "colab": {
          "base_uri": "https://localhost:8080/"
        },
        "id": "CuhblaOA6eLa",
        "outputId": "132438ce-dfa3-43e7-9574-27e573ebaa3b"
      },
      "outputs": [],
      "source": []
    },
    {
      "cell_type": "code",
      "execution_count": null,
      "metadata": {
        "colab": {
          "base_uri": "https://localhost:8080/"
        },
        "id": "JP2eHcJQ9wUT",
        "outputId": "7e4323f5-24f1-42ad-85f7-d8ce51999716"
      },
      "outputs": [],
      "source": []
    },
    {
      "cell_type": "code",
      "execution_count": null,
      "metadata": {
        "colab": {
          "base_uri": "https://localhost:8080/"
        },
        "id": "CNOErsJI992F",
        "outputId": "f775f7de-3bfb-41f1-b602-bd3b49d3c5bf"
      },
      "outputs": [],
      "source": []
    },
    {
      "cell_type": "code",
      "execution_count": null,
      "metadata": {
        "colab": {
          "base_uri": "https://localhost:8080/"
        },
        "id": "HJrGhllP9mUy",
        "outputId": "ad772a71-57fb-4d1a-bdc3-dc5ff28dfbca"
      },
      "outputs": [],
      "source": []
    },
    {
      "cell_type": "code",
      "execution_count": null,
      "metadata": {
        "colab": {
          "base_uri": "https://localhost:8080/"
        },
        "id": "QrrlnPu46ene",
        "outputId": "9e396114-42da-49b6-b850-710f52e89c6c"
      },
      "outputs": [],
      "source": []
    },
    {
      "cell_type": "code",
      "execution_count": null,
      "metadata": {
        "colab": {
          "base_uri": "https://localhost:8080/"
        },
        "id": "yH3URjKb-PTJ",
        "outputId": "90e1a0f4-53e4-44dd-ae5f-7e5cccb60f13"
      },
      "outputs": [],
      "source": []
    },
    {
      "cell_type": "code",
      "execution_count": null,
      "metadata": {
        "colab": {
          "base_uri": "https://localhost:8080/"
        },
        "id": "alUtB-HD-WNQ",
        "outputId": "9cbc07c4-d8bf-4455-d9a0-150189d719cd"
      },
      "outputs": [],
      "source": []
    },
    {
      "cell_type": "code",
      "execution_count": null,
      "metadata": {
        "colab": {
          "base_uri": "https://localhost:8080/"
        },
        "id": "6FRiAkec6mib",
        "outputId": "db5c5c03-218b-43b0-bcdf-07df161e66de"
      },
      "outputs": [],
      "source": [
        "# isnull\n"
      ]
    },
    {
      "cell_type": "code",
      "execution_count": null,
      "metadata": {
        "id": "_98OInJX7GhO"
      },
      "outputs": [],
      "source": []
    },
    {
      "cell_type": "code",
      "execution_count": null,
      "metadata": {
        "colab": {
          "base_uri": "https://localhost:8080/"
        },
        "id": "STkbZIDn7HBa",
        "outputId": "e128100c-4f4e-46b3-80b5-bb9390f2d53c"
      },
      "outputs": [],
      "source": [
        "# dropna\n"
      ]
    },
    {
      "cell_type": "code",
      "execution_count": null,
      "metadata": {
        "id": "0vp6l6kO7INt"
      },
      "outputs": [],
      "source": []
    },
    {
      "cell_type": "code",
      "execution_count": null,
      "metadata": {
        "colab": {
          "base_uri": "https://localhost:8080/"
        },
        "id": "cXIb28DN7Ihc",
        "outputId": "946fad61-56ad-412a-8e53-76ee45835d64"
      },
      "outputs": [],
      "source": [
        "# fillna\n"
      ]
    },
    {
      "cell_type": "code",
      "execution_count": null,
      "metadata": {
        "id": "c0YUEwGY7J0g"
      },
      "outputs": [],
      "source": []
    },
    {
      "cell_type": "code",
      "execution_count": null,
      "metadata": {
        "colab": {
          "base_uri": "https://localhost:8080/"
        },
        "id": "PHKT_uv-7MBm",
        "outputId": "25426a86-3608-4380-f970-03084bbbe02b"
      },
      "outputs": [],
      "source": [
        "# isin\n"
      ]
    },
    {
      "cell_type": "code",
      "execution_count": null,
      "metadata": {
        "colab": {
          "base_uri": "https://localhost:8080/"
        },
        "id": "E1pFXMVc_evI",
        "outputId": "c037601a-f416-4ea1-e4cf-970e1f77f9fe"
      },
      "outputs": [],
      "source": []
    },
    {
      "cell_type": "markdown",
      "metadata": {},
      "source": []
    },
    {
      "cell_type": "code",
      "execution_count": null,
      "metadata": {
        "id": "Z0G9VSBs7N-K"
      },
      "outputs": [],
      "source": []
    },
    {
      "cell_type": "code",
      "execution_count": null,
      "metadata": {
        "colab": {
          "base_uri": "https://localhost:8080/"
        },
        "id": "v7lsdckT7OOk",
        "outputId": "addf5280-e024-443b-988c-d1dd6f722dc2"
      },
      "outputs": [],
      "source": [
        "# apply\n"
      ]
    },
    {
      "cell_type": "code",
      "execution_count": null,
      "metadata": {
        "colab": {
          "base_uri": "https://localhost:8080/"
        },
        "id": "ftFnrqOv7PDx",
        "outputId": "742036c3-de60-4c81-bd69-98d2e097a7a4"
      },
      "outputs": [],
      "source": []
    },
    {
      "cell_type": "code",
      "execution_count": null,
      "metadata": {
        "colab": {
          "base_uri": "https://localhost:8080/"
        },
        "id": "a3_r2it57Pjw",
        "outputId": "775f2ab2-b5a6-46eb-f48a-22f7b044a604"
      },
      "outputs": [],
      "source": []
    },
    {
      "cell_type": "code",
      "execution_count": null,
      "metadata": {
        "colab": {
          "base_uri": "https://localhost:8080/"
        },
        "id": "evUNfB0bAQBk",
        "outputId": "eb6d4c04-381c-4715-97ec-03030458af44"
      },
      "outputs": [],
      "source": []
    },
    {
      "cell_type": "code",
      "execution_count": null,
      "metadata": {
        "colab": {
          "base_uri": "https://localhost:8080/"
        },
        "id": "vvE_nzCFAKRv",
        "outputId": "7a36986e-5b4d-4d69-b6e0-756ff4c296c5"
      },
      "outputs": [],
      "source": []
    },
    {
      "cell_type": "code",
      "execution_count": null,
      "metadata": {
        "id": "91NkdlOi7QAi"
      },
      "outputs": [],
      "source": [
        "# copy"
      ]
    },
    {
      "cell_type": "code",
      "execution_count": null,
      "metadata": {
        "colab": {
          "base_uri": "https://localhost:8080/"
        },
        "id": "ZAsauZPA7RMY",
        "outputId": "74f05c82-86d4-4049-b4e1-69824bf7ed0e"
      },
      "outputs": [],
      "source": []
    },
    {
      "cell_type": "code",
      "execution_count": null,
      "metadata": {
        "id": "92Amef7tBROO"
      },
      "outputs": [],
      "source": []
    }
  ],
  "metadata": {
    "colab": {
      "provenance": []
    },
    "kernelspec": {
      "display_name": "Python 3",
      "name": "python3"
    },
    "language_info": {
      "codemirror_mode": {
        "name": "ipython",
        "version": 3
      },
      "file_extension": ".py",
      "mimetype": "text/x-python",
      "name": "python",
      "nbconvert_exporter": "python",
      "pygments_lexer": "ipython3",
      "version": "3.12.0"
    }
  },
  "nbformat": 4,
  "nbformat_minor": 0
}
