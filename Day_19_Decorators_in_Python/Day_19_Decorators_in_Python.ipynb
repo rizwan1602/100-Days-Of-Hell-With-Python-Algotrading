{
  "cells": [
    {
      "cell_type": "markdown",
      "metadata": {
        "id": "v2I4_MetLUYb"
      },
      "source": [
        "### Decorators\n",
        "\n",
        "A decorator in python is a function that receives another function as input and adds some functionality(decoration) to and it and returns it.\n",
        "\n",
        "This can happen only because python functions are 1st class citizens.\n",
        "\n",
        "There are 2 types of decorators available in python\n",
        "- `Built in decorators` like `@staticmethod`, `@classmethod`, `@abstractmethod` and `@property` etc\n",
        "- `User defined decorators` that we programmers can create according to our needs"
      ]
    },
    {
      "cell_type": "markdown",
      "metadata": {},
      "source": []
    },
    {
      "cell_type": "markdown",
      "metadata": {},
      "source": [
        "###  Decorators in Python Algorithmic Trading:\n",
        "\n",
        "1. **Logging:**\n",
        "   - Automatically log function calls and their results.\n",
        "   - Useful for monitoring and debugging trading operations.\n",
        "\n",
        "2. **Timing:**\n",
        "   - Measure the execution time of functions.\n",
        "   - Important for ensuring the performance of trading algorithms.\n",
        "\n",
        "3. **Retry Mechanism:**\n",
        "   - Automatically retry a function if it raises specific exceptions.\n",
        "   - Useful for handling intermittent network requests or database operations.\n",
        "\n",
        "4. **Access Control:**\n",
        "   - Enforce access controls based on user roles or permissions.\n",
        "   - Ensures that only authorized users can perform certain actions.\n",
        "\n",
        "5. **Resource Management:**\n",
        "   - Ensure proper acquisition and release of resources like database connections or files.\n",
        "   - Helps manage resources efficiently and avoid leaks.\n",
        "\n",
        "These decorators help improve code maintainability, readability, and functionality in algorithmic trading systems."
      ]
    },
    {
      "cell_type": "code",
      "execution_count": 11,
      "metadata": {
        "colab": {
          "base_uri": "https://localhost:8080/"
        },
        "id": "PLEnpaeHUvAk",
        "outputId": "86fe9ab7-3533-4ed2-cd65-f96e8941df74"
      },
      "outputs": [
        {
          "data": {
            "text/plain": [
              "55.0"
            ]
          },
          "execution_count": 11,
          "metadata": {},
          "output_type": "execute_result"
        }
      ],
      "source": [
        "def smastrategy(trade_data):\n",
        "    price = trade_data['price']\n",
        "    return sum(price)/len(price)\n",
        "\n",
        "\n",
        "trade_data = {'price': [10,20,30,40,50,60,70,80,90,100]}\n",
        "\n",
        "smastrategy(trade_data)"
      ]
    },
    {
      "cell_type": "code",
      "execution_count": null,
      "metadata": {
        "colab": {
          "base_uri": "https://localhost:8080/"
        },
        "id": "fsyP9F9z5OSe",
        "outputId": "ec17ff47-2eaa-46e4-a6c7-0eb131ff488c"
      },
      "outputs": [],
      "source": [
        "# simple example\n",
        "\n"
      ]
    },
    {
      "cell_type": "code",
      "execution_count": null,
      "metadata": {
        "id": "2JD6mQ7TNqRR"
      },
      "outputs": [],
      "source": [
        "# python tutor"
      ]
    },
    {
      "cell_type": "code",
      "execution_count": null,
      "metadata": {
        "colab": {
          "base_uri": "https://localhost:8080/"
        },
        "id": "6xenz10AVfTp",
        "outputId": "cb2e3d25-d951-49d5-ae36-62fff01bae68"
      },
      "outputs": [],
      "source": [
        "# Better syntax?\n",
        "# simple example\n",
        "\n"
      ]
    },
    {
      "cell_type": "code",
      "execution_count": null,
      "metadata": {
        "colab": {
          "base_uri": "https://localhost:8080/"
        },
        "id": "JGXuT9XSP3ue",
        "outputId": "0d9ce629-0d1e-4198-b9b4-95e21486adc8"
      },
      "outputs": [],
      "source": [
        "# anything meaningful?\n",
        "\n",
        "\n"
      ]
    },
    {
      "cell_type": "code",
      "execution_count": null,
      "metadata": {
        "id": "tF12z0_-VG8y"
      },
      "outputs": [],
      "source": [
        "# A big problem"
      ]
    },
    {
      "cell_type": "code",
      "execution_count": null,
      "metadata": {
        "id": "WDb2Cn_PQAA9"
      },
      "outputs": [],
      "source": [
        "# One last example -> decorators with arguments\n"
      ]
    },
    {
      "cell_type": "code",
      "execution_count": null,
      "metadata": {
        "id": "Xn-HNkj0TXcx"
      },
      "outputs": [],
      "source": []
    },
    {
      "cell_type": "code",
      "execution_count": null,
      "metadata": {
        "id": "FB3Uky2BStKg"
      },
      "outputs": [],
      "source": []
    }
  ],
  "metadata": {
    "colab": {
      "provenance": []
    },
    "kernelspec": {
      "display_name": "Python 3",
      "name": "python3"
    },
    "language_info": {
      "codemirror_mode": {
        "name": "ipython",
        "version": 3
      },
      "file_extension": ".py",
      "mimetype": "text/x-python",
      "name": "python",
      "nbconvert_exporter": "python",
      "pygments_lexer": "ipython3",
      "version": "3.12.0"
    }
  },
  "nbformat": 4,
  "nbformat_minor": 0
}
