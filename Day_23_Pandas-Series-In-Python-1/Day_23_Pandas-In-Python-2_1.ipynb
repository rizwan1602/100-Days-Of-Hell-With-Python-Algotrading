{
  "cells": [
    {
      "cell_type": "markdown",
      "metadata": {},
      "source": [
        "\n",
        "### Pandas . in Algorithmic Trading\n",
        "\n",
        "**Pandas** is a powerful data manipulation and analysis library for Python. \n",
        "- It provides data structures like Series and DataFrame, \n",
        "- which are essential for handling and analyzing time series data, such as stock prices, in algorithmic trading.\n",
        "\n",
        "#### Key Features of Pandas\n",
        "\n",
        "1. **Data Structures**: Provides Series (1D) and DataFrame (2D) for structured data.\n",
        "2. **Time Series Analysis**: In-built support for handling and manipulating time series data.\n",
        "3. **Data Cleaning**: Tools for handling missing data, filtering, and aggregating data.\n",
        "4. **Data Alignment**: Automatically aligns data based on labels, making operations intuitive.\n",
        "5. **Integration**: Easily integrates with other libraries like NumPy, Matplotlib, and SciPy.\n",
        "6. **IO Tools**: Functions for reading and writing data from various formats (CSV, Excel, SQL, etc.).\n",
        "\n",
        "#### Use Cases in Algorithmic Trading\n",
        "\n",
        "1. **Loading and Cleaning Data**: Importing historical price data from CSV, cleaning missing values, and normalizing data.\n",
        "2. **Time Series Analysis**: Calculating moving averages, returns, and other indicators.\n",
        "3. **Data Aggregation**: Grouping data by time intervals (e.g., daily, weekly) to perform aggregate calculations.\n",
        "4. **Feature Engineering**: Creating new features for machine learning models, such as technical indicators.\n",
        "5. **Backtesting**: Simulating trading strategies on historical data to evaluate performance.\n",
        "6. **Visualization**: Plotting price trends, indicators, and performance metrics using integrated plotting functions.\n",
        "\n",
        "### Comparison: Pandas vs. NumPy\n",
        "\n",
        "| Feature/Aspect          | Pandas                                    | NumPy                                      |\n",
        "|-------------------------|-------------------------------------------|--------------------------------------------|\n",
        "| **Primary Data Structures** | Series (1D), DataFrame (2D)              | ndarray (n-dimensional array)               |\n",
        "| **Use Case Focus**      | Data manipulation and analysis            | Numerical computation and operations       |\n",
        "| **Time Series Handling**| Excellent support for time series         | Basic support (requires additional libraries)| \n",
        "| **Data Cleaning**       | Built-in functions for handling missing data | Requires custom handling                    |\n",
        "| **Data Alignment**      | Automatic alignment based on labels       | No alignment, purely positional             |\n",
        "| **Data Types**          | Can handle heterogeneous data types       | Homogeneous data types only                 |\n",
        "| **Performance**         | Slower due to additional features         | Faster for numerical operations             |\n",
        "| **Aggregation & Grouping**| Robust groupby and aggregation methods    | Limited grouping capabilities               |\n",
        "| **Integration**         | Integrates well with other data tools     | Often serves as the computational backbone  |\n",
        "| **Visualization**       | Integrated plotting (via Matplotlib)      | Requires external plotting libraries        |\n",
        "| **Memory Efficiency**   | Higher memory usage due to metadata       | More memory-efficient for raw numerical data|\n",
        "\n",
        "### Example in Algorithmic Trading\n",
        "\n",
        "#### Using Pandas\n",
        "\n",
        "```python\n",
        "import pandas as pd\n",
        "\n",
        "# Load historical price data from CSV\n",
        "data = pd.read_csv('historical_prices.csv', parse_dates=['Date'], index_col='Date')\n",
        "\n",
        "# Calculate moving averages\n",
        "data['MA50'] = data['Close'].rolling(window=50).mean()\n",
        "data['MA200'] = data['Close'].rolling(window=200).mean()\n",
        "\n",
        "# Calculate daily returns\n",
        "data['Daily_Return'] = data['Close'].pct_change()\n",
        "\n",
        "# Plot closing prices and moving averages\n",
        "data[['Close', 'MA50', 'MA200']].plot()\n",
        "```\n",
        "\n",
        "#### Using NumPy\n",
        "\n",
        "```python\n",
        "import numpy as np\n",
        "\n",
        "# Assume `prices` is a NumPy array of closing prices\n",
        "prices = np.array([100, 101, 102, 103, 104])\n",
        "\n",
        "# Calculate moving averages using NumPy\n",
        "MA50 = np.convolve(prices, np.ones(50)/50, mode='valid')\n",
        "MA200 = np.convolve(prices, np.ones(200)/200, mode='valid')\n",
        "\n",
        "# Calculate daily returns\n",
        "daily_returns = np.diff(prices) / prices[:-1]\n",
        "```\n",
        "\n",
        "### Summary\n",
        "\n",
        "- **Pandas**: Ideal for data manipulation, time series analysis, and handling heterogeneous data. It's especially useful in algorithmic trading for loading, cleaning, and analyzing large datasets of historical price data. Pandas is slower but offers a wide range of high-level data manipulation tools.\n",
        "- **NumPy**: Best for efficient numerical computations with homogeneous data. It is faster and more memory-efficient but requires more manual handling for data manipulation tasks.\n",
        "\n",
        "In algorithmic trading, both libraries are often used together: NumPy for efficient numerical operations and Pandas for data manipulation and analysis tasks."
      ]
    },
    {
      "cell_type": "markdown",
      "metadata": {
        "id": "Nkgl3LZGP0XZ"
      },
      "source": [
        "### What is Pandas\n",
        "\n",
        "Pandas is a fast, powerful, flexible and easy to use open source data analysis and manipulation tool,\n",
        "built on top of the Python programming language.\n",
        "\n",
        "https://pandas.pydata.org/about/index.html"
      ]
    },
    {
      "cell_type": "markdown",
      "metadata": {
        "id": "3QmWVpYGRw59"
      },
      "source": [
        "### Pandas Series\n",
        "\n",
        "A Pandas Series is like a column in a table. It is a 1-D array holding data of any type."
      ]
    },
    {
      "cell_type": "markdown",
      "metadata": {
        "id": "3hwTOkrbPMjE"
      },
      "source": [
        "### Importing Pandas"
      ]
    },
    {
      "cell_type": "code",
      "execution_count": 1,
      "metadata": {
        "id": "QWWCrofyPM7J"
      },
      "outputs": [],
      "source": [
        "import numpy as np\n",
        "import pandas as pd"
      ]
    },
    {
      "cell_type": "markdown",
      "metadata": {
        "id": "uU-Ms_To_FG1"
      },
      "source": [
        "### Series from lists"
      ]
    },
    {
      "cell_type": "code",
      "execution_count": 4,
      "metadata": {
        "colab": {
          "base_uri": "https://localhost:8080/"
        },
        "id": "KYk9Gta7_G38",
        "outputId": "45f1b6c8-44ec-4081-d59e-d7139682da3e"
      },
      "outputs": [
        {
          "name": "stdout",
          "output_type": "stream",
          "text": [
            "0        Apple\n",
            "1    Microsoft\n",
            "2      Bitcoin\n",
            "3     Ethereum\n",
            "4        Apple\n",
            "dtype: object\n"
          ]
        }
      ],
      "source": [
        "# string\n",
        "stocks = [\"Apple\", \"Microsoft\", \"Bitcoin\",\"Ethereum\",\"Apple\"]\n",
        "stock_obj  = pd.Series(stocks)\n",
        "print(stock_obj)"
      ]
    },
    {
      "cell_type": "code",
      "execution_count": 5,
      "metadata": {
        "id": "h_Wgimpg_Idl"
      },
      "outputs": [
        {
          "data": {
            "text/plain": [
              "0    111\n",
              "1    222\n",
              "2    333\n",
              "3    444\n",
              "4    555\n",
              "dtype: int64"
            ]
          },
          "execution_count": 5,
          "metadata": {},
          "output_type": "execute_result"
        }
      ],
      "source": [
        "# integers\n",
        "prices =[111,222,333,444,555]\n",
        "pd.Series(prices)"
      ]
    },
    {
      "cell_type": "code",
      "execution_count": 8,
      "metadata": {
        "colab": {
          "base_uri": "https://localhost:8080/"
        },
        "id": "CJgHbnepH_EX",
        "outputId": "b1de62df-903c-4e66-d67b-976425039f17"
      },
      "outputs": [
        {
          "data": {
            "text/plain": [
              "Apple        111\n",
              "Microsoft    222\n",
              "Bitcoin      333\n",
              "Ethereum     444\n",
              "Ripple       555\n",
              "Litecoin       1\n",
              "dtype: int64"
            ]
          },
          "execution_count": 8,
          "metadata": {},
          "output_type": "execute_result"
        }
      ],
      "source": [
        "# custom index\n",
        "stocks = [\"Apple\", \"Microsoft\", \"Bitcoin\",\"Ethereum\",\"Ripple\", \"Litecoin\"]\n",
        "prices =[111,222,333,444,555,1 ]\n",
        "\n",
        "data  = pd.Series(prices,index=stocks)\n",
        "data"
      ]
    },
    {
      "cell_type": "code",
      "execution_count": 9,
      "metadata": {
        "colab": {
          "base_uri": "https://localhost:8080/"
        },
        "id": "zcjykyJVKgWs",
        "outputId": "26c2aee7-42c8-4aa2-a854-e436cfbb24b9"
      },
      "outputs": [
        {
          "data": {
            "text/plain": [
              "Apple        111\n",
              "Microsoft    222\n",
              "Bitcoin      333\n",
              "Ethereum     444\n",
              "Ripple       555\n",
              "Litecoin       1\n",
              "Name: Kuldeep's Portfolio, dtype: int64"
            ]
          },
          "execution_count": 9,
          "metadata": {},
          "output_type": "execute_result"
        }
      ],
      "source": [
        "# setting a name\n",
        "data  = pd.Series(prices,index=stocks,name=\"Kuldeep's Portfolio\")\n",
        "data"
      ]
    },
    {
      "cell_type": "markdown",
      "metadata": {
        "id": "gw4NHrWf_Km3"
      },
      "source": [
        "### Series from dict"
      ]
    },
    {
      "cell_type": "code",
      "execution_count": 10,
      "metadata": {
        "colab": {
          "base_uri": "https://localhost:8080/"
        },
        "id": "Sz9B_oPy_RMX",
        "outputId": "d03fa978-2e6b-4098-af75-a7471deaf464"
      },
      "outputs": [
        {
          "data": {
            "text/plain": [
              "Apple        1111\n",
              "Microsoft     222\n",
              "Bitcoin       333\n",
              "Ethereum      444\n",
              "Ripple        555\n",
              "Name: Kuldeep's Price, dtype: int64"
            ]
          },
          "execution_count": 10,
          "metadata": {},
          "output_type": "execute_result"
        }
      ],
      "source": [
        "price_dict = {\"Apple\":111, \"Microsoft\":222, \"Bitcoin\":333,\"Ethereum\":444,\"Ripple\":555,\"Apple\":1111}\n",
        "data_prices = pd.Series(price_dict,name=\"Kuldeep's Price\")\n",
        "data_prices"
      ]
    },
    {
      "cell_type": "markdown",
      "metadata": {
        "id": "MDSIDfei_Szi"
      },
      "source": [
        "### Series Attributes"
      ]
    },
    {
      "cell_type": "code",
      "execution_count": 11,
      "metadata": {
        "colab": {
          "base_uri": "https://localhost:8080/"
        },
        "id": "0_eqjw1u_lG_",
        "outputId": "5d0a82ad-78c1-4d70-cca3-55f0324362ea"
      },
      "outputs": [
        {
          "data": {
            "text/plain": [
              "5"
            ]
          },
          "execution_count": 11,
          "metadata": {},
          "output_type": "execute_result"
        }
      ],
      "source": [
        "# size\n",
        "data_prices.size"
      ]
    },
    {
      "cell_type": "code",
      "execution_count": 12,
      "metadata": {
        "colab": {
          "base_uri": "https://localhost:8080/"
        },
        "id": "nYpNWJhWGyqa",
        "outputId": "36ce60d5-efc7-4ca5-80e6-f4cbc723e46f"
      },
      "outputs": [
        {
          "data": {
            "text/plain": [
              "dtype('int64')"
            ]
          },
          "execution_count": 12,
          "metadata": {},
          "output_type": "execute_result"
        }
      ],
      "source": [
        "# dtype\n",
        "data_prices.dtype"
      ]
    },
    {
      "cell_type": "code",
      "execution_count": 13,
      "metadata": {
        "colab": {
          "base_uri": "https://localhost:8080/",
          "height": 36
        },
        "id": "ImBy24CkKkZP",
        "outputId": "c78dbc63-c3c0-48a5-b516-b84bf619fe82"
      },
      "outputs": [
        {
          "data": {
            "text/plain": [
              "\"Kuldeep's Price\""
            ]
          },
          "execution_count": 13,
          "metadata": {},
          "output_type": "execute_result"
        }
      ],
      "source": [
        "# name\n",
        "data_prices.name"
      ]
    },
    {
      "cell_type": "code",
      "execution_count": 14,
      "metadata": {
        "colab": {
          "base_uri": "https://localhost:8080/"
        },
        "id": "UsNGB2rCF9V-",
        "outputId": "a9dcd91d-fc74-4947-a536-ad99af92ac02"
      },
      "outputs": [
        {
          "data": {
            "text/plain": [
              "False"
            ]
          },
          "execution_count": 14,
          "metadata": {},
          "output_type": "execute_result"
        }
      ],
      "source": [
        "# is_unique\n",
        "stock_obj.is_unique"
      ]
    },
    {
      "cell_type": "code",
      "execution_count": 15,
      "metadata": {
        "colab": {
          "base_uri": "https://localhost:8080/"
        },
        "id": "VLB00Z-vGBHL",
        "outputId": "f49ea31d-92d4-453a-c649-990f6b630420"
      },
      "outputs": [
        {
          "data": {
            "text/plain": [
              "Index(['Apple', 'Microsoft', 'Bitcoin', 'Ethereum', 'Ripple'], dtype='object')"
            ]
          },
          "execution_count": 15,
          "metadata": {},
          "output_type": "execute_result"
        }
      ],
      "source": [
        "# index\n",
        "data_prices.index"
      ]
    },
    {
      "cell_type": "code",
      "execution_count": null,
      "metadata": {
        "colab": {
          "base_uri": "https://localhost:8080/"
        },
        "id": "MJ1HXX2H_Mhu",
        "outputId": "88818e3c-8a1a-4d7e-b5e3-50d7bd411fa0"
      },
      "outputs": [],
      "source": []
    },
    {
      "cell_type": "code",
      "execution_count": 16,
      "metadata": {
        "colab": {
          "base_uri": "https://localhost:8080/"
        },
        "id": "PmE8l3SKGDbl",
        "outputId": "90d0daf7-580a-4def-9c42-f34a8ee9ca6a"
      },
      "outputs": [
        {
          "data": {
            "text/plain": [
              "array([1111,  222,  333,  444,  555], dtype=int64)"
            ]
          },
          "execution_count": 16,
          "metadata": {},
          "output_type": "execute_result"
        }
      ],
      "source": [
        "# values\n",
        "data_prices.values"
      ]
    },
    {
      "cell_type": "markdown",
      "metadata": {
        "id": "UCP7I0t_KMID"
      },
      "source": [
        "### Series using read_csv"
      ]
    },
    {
      "cell_type": "code",
      "execution_count": 27,
      "metadata": {
        "colab": {
          "base_uri": "https://localhost:8080/"
        },
        "id": "r2FWTRoBGEk5",
        "outputId": "8a160aa3-095c-4602-b4ca-2edcfaf3d13b"
      },
      "outputs": [
        {
          "data": {
            "text/plain": [
              "0       Bitcoin\n",
              "1       Bitcoin\n",
              "2       Bitcoin\n",
              "3       Bitcoin\n",
              "4       Bitcoin\n",
              "         ...   \n",
              "2986    Bitcoin\n",
              "2987    Bitcoin\n",
              "2988    Bitcoin\n",
              "2989    Bitcoin\n",
              "2990    Bitcoin\n",
              "Name: Name, Length: 2991, dtype: object"
            ]
          },
          "execution_count": 27,
          "metadata": {},
          "output_type": "execute_result"
        }
      ],
      "source": [
        "# with one col\n",
        "df = pd.read_csv( \"coin_Bitcoin.csv\")\n",
        "df[\"Name\"]"
      ]
    },
    {
      "cell_type": "code",
      "execution_count": null,
      "metadata": {
        "colab": {
          "base_uri": "https://localhost:8080/"
        },
        "id": "a6Y3bq4TOniT",
        "outputId": "f919b599-9e23-423b-c42c-a468999ad3f6"
      },
      "outputs": [],
      "source": [
        "# with 2 cols\n"
      ]
    },
    {
      "cell_type": "code",
      "execution_count": null,
      "metadata": {
        "colab": {
          "base_uri": "https://localhost:8080/"
        },
        "id": "v34r_I_82dwZ",
        "outputId": "ab5f9a30-d9f1-4532-fbc8-a8b792107b80"
      },
      "outputs": [],
      "source": []
    },
    {
      "cell_type": "markdown",
      "metadata": {
        "id": "taKAApMTLJkG"
      },
      "source": [
        "### Series methods"
      ]
    },
    {
      "cell_type": "code",
      "execution_count": null,
      "metadata": {
        "colab": {
          "base_uri": "https://localhost:8080/"
        },
        "id": "Lt-l4sM_LLsH",
        "outputId": "ce63f92e-7d0c-46b1-f64c-92afa28cd1c3"
      },
      "outputs": [],
      "source": [
        "# head and tail\n"
      ]
    },
    {
      "cell_type": "code",
      "execution_count": null,
      "metadata": {
        "colab": {
          "base_uri": "https://localhost:8080/"
        },
        "id": "dvZrPaR-DiKT",
        "outputId": "88925c9f-a86a-4fd7-aec8-fcb8dfc9ad45"
      },
      "outputs": [],
      "source": []
    },
    {
      "cell_type": "code",
      "execution_count": null,
      "metadata": {
        "colab": {
          "base_uri": "https://localhost:8080/"
        },
        "id": "S5St_OwODto7",
        "outputId": "1748a142-3854-4f8f-c7ec-54c0268859e8"
      },
      "outputs": [],
      "source": []
    },
    {
      "cell_type": "code",
      "execution_count": null,
      "metadata": {
        "colab": {
          "base_uri": "https://localhost:8080/"
        },
        "id": "COKh4XYBLqT3",
        "outputId": "7294bf7c-0f1d-46c6-885a-7b993f2a9551"
      },
      "outputs": [],
      "source": [
        "# sample\n"
      ]
    },
    {
      "cell_type": "code",
      "execution_count": null,
      "metadata": {
        "colab": {
          "base_uri": "https://localhost:8080/"
        },
        "id": "t3m4wTw6N-v0",
        "outputId": "cdae4a99-143d-487d-836c-948ffd6dd67a"
      },
      "outputs": [],
      "source": [
        "# value_counts -> prices\n"
      ]
    },
    {
      "cell_type": "code",
      "execution_count": null,
      "metadata": {
        "colab": {
          "base_uri": "https://localhost:8080/"
        },
        "id": "vzMt0ZOPMgpO",
        "outputId": "17bd1ba3-ad6b-46cb-b6f8-1fac73474e74"
      },
      "outputs": [],
      "source": [
        "# sort_values -> inplace\n"
      ]
    },
    {
      "cell_type": "code",
      "execution_count": null,
      "metadata": {
        "colab": {
          "base_uri": "https://localhost:8080/"
        },
        "id": "5Psr0lEwGE2i",
        "outputId": "537ab14a-c922-4eeb-a8c7-ee7c057e1e11"
      },
      "outputs": [],
      "source": []
    },
    {
      "cell_type": "code",
      "execution_count": null,
      "metadata": {
        "id": "Z0t20LmCNZVi"
      },
      "outputs": [],
      "source": [
        "# sort_index -> inplace -> movies\n"
      ]
    },
    {
      "cell_type": "code",
      "execution_count": null,
      "metadata": {
        "colab": {
          "base_uri": "https://localhost:8080/"
        },
        "id": "pyFYColfG3LP",
        "outputId": "47ee4f49-d3c1-4936-e23c-483a5b2544de"
      },
      "outputs": [],
      "source": []
    },
    {
      "cell_type": "code",
      "execution_count": null,
      "metadata": {
        "id": "XwHA77x2GJtb"
      },
      "outputs": [],
      "source": []
    },
    {
      "cell_type": "code",
      "execution_count": null,
      "metadata": {
        "colab": {
          "base_uri": "https://localhost:8080/"
        },
        "id": "44qVilrDGWCK",
        "outputId": "98dc5995-4849-4450-c089-06558ac4f48d"
      },
      "outputs": [],
      "source": []
    },
    {
      "cell_type": "markdown",
      "metadata": {
        "id": "58RZWU44Tj_U"
      },
      "source": [
        "### Series Maths Methods"
      ]
    },
    {
      "cell_type": "code",
      "execution_count": null,
      "metadata": {
        "colab": {
          "base_uri": "https://localhost:8080/"
        },
        "id": "6GzHd8BPToFa",
        "outputId": "c2aa9e18-2ec0-49c5-ab62-61928d1068e3"
      },
      "outputs": [],
      "source": [
        "# count\n"
      ]
    },
    {
      "cell_type": "code",
      "execution_count": null,
      "metadata": {
        "colab": {
          "base_uri": "https://localhost:8080/"
        },
        "id": "QAUr7vxtTrAU",
        "outputId": "b63afaa2-bf2f-409b-bd54-db2865c9d4fa"
      },
      "outputs": [],
      "source": [
        "# sum -> product\n"
      ]
    },
    {
      "cell_type": "code",
      "execution_count": null,
      "metadata": {
        "colab": {
          "base_uri": "https://localhost:8080/"
        },
        "id": "q1pRRhmdTrM0",
        "outputId": "7b4c758a-12b6-452a-bc22-d2c1a9a8ce46"
      },
      "outputs": [],
      "source": [
        "# mean -> median -> mode -> std -> var\n"
      ]
    },
    {
      "cell_type": "code",
      "execution_count": null,
      "metadata": {
        "colab": {
          "base_uri": "https://localhost:8080/"
        },
        "id": "L64dQIXJTrXF",
        "outputId": "54e6f3fa-e75f-4382-8c02-d9ba8466285a"
      },
      "outputs": [],
      "source": [
        "# min/max\n"
      ]
    },
    {
      "cell_type": "code",
      "execution_count": null,
      "metadata": {
        "colab": {
          "base_uri": "https://localhost:8080/"
        },
        "id": "SAvniKCuUB_J",
        "outputId": "c7f46902-52e5-4c1e-d0ac-bbe31850d37e"
      },
      "outputs": [],
      "source": [
        "# describe\n"
      ]
    },
    {
      "cell_type": "markdown",
      "metadata": {
        "id": "Cz12N8YKP-h8"
      },
      "source": [
        "### Series Indexing"
      ]
    },
    {
      "cell_type": "code",
      "execution_count": null,
      "metadata": {
        "colab": {
          "base_uri": "https://localhost:8080/"
        },
        "id": "VXMiwNgAQA4V",
        "outputId": "2dc567ed-8548-4a68-df9e-91a0842bced4"
      },
      "outputs": [],
      "source": [
        "# integer indexing\n"
      ]
    },
    {
      "cell_type": "code",
      "execution_count": null,
      "metadata": {
        "colab": {
          "base_uri": "https://localhost:8080/",
          "height": 444
        },
        "id": "uL2i-qNuQ6t8",
        "outputId": "1a52fb86-819d-4470-fc88-dd67ce00c577"
      },
      "outputs": [],
      "source": [
        "# negative indexing\n"
      ]
    },
    {
      "cell_type": "code",
      "execution_count": null,
      "metadata": {
        "colab": {
          "base_uri": "https://localhost:8080/"
        },
        "id": "9BKWa4-fKugd",
        "outputId": "3d9fbab1-9295-4307-be08-e9574d3d267d"
      },
      "outputs": [],
      "source": []
    },
    {
      "cell_type": "code",
      "execution_count": null,
      "metadata": {
        "colab": {
          "base_uri": "https://localhost:8080/",
          "height": 515
        },
        "id": "UdfXS16jLVIo",
        "outputId": "7adcf453-a4a2-4984-a2a3-de2090e035f4"
      },
      "outputs": [],
      "source": []
    },
    {
      "cell_type": "code",
      "execution_count": null,
      "metadata": {
        "colab": {
          "base_uri": "https://localhost:8080/"
        },
        "id": "-7Gr3pwlLgx8",
        "outputId": "c1cf02c2-9857-49f5-f49e-8019789fff6c"
      },
      "outputs": [],
      "source": []
    },
    {
      "cell_type": "code",
      "execution_count": null,
      "metadata": {
        "colab": {
          "base_uri": "https://localhost:8080/"
        },
        "id": "0Aok361MQA8J",
        "outputId": "a31e2b7e-53a5-499f-ccb2-f9276a0b3139"
      },
      "outputs": [],
      "source": [
        "# slicing\n"
      ]
    },
    {
      "cell_type": "code",
      "execution_count": null,
      "metadata": {
        "colab": {
          "base_uri": "https://localhost:8080/"
        },
        "id": "Liu7rQJbQ9GW",
        "outputId": "c205b3f2-e431-4e2c-8a52-57b701b806e7"
      },
      "outputs": [],
      "source": [
        "# negative slicing\n"
      ]
    },
    {
      "cell_type": "code",
      "execution_count": null,
      "metadata": {
        "colab": {
          "base_uri": "https://localhost:8080/"
        },
        "id": "BE4kLq1vMSes",
        "outputId": "ff5de4e4-5b80-484c-9241-72de04792aa8"
      },
      "outputs": [],
      "source": []
    },
    {
      "cell_type": "code",
      "execution_count": null,
      "metadata": {
        "colab": {
          "base_uri": "https://localhost:8080/"
        },
        "id": "QjB-8CydQA_W",
        "outputId": "9bcace4d-f461-4a12-83f4-ebc6d620d943"
      },
      "outputs": [],
      "source": [
        "# fancy indexing\n"
      ]
    },
    {
      "cell_type": "code",
      "execution_count": null,
      "metadata": {
        "colab": {
          "base_uri": "https://localhost:8080/",
          "height": 36
        },
        "id": "m4y-6vjTQBCP",
        "outputId": "0da130b4-7e28-457e-884c-9be1ca736d26"
      },
      "outputs": [],
      "source": [
        "# indexing with labels -> fancy indexing\n"
      ]
    },
    {
      "cell_type": "markdown",
      "metadata": {
        "id": "NFElpr-tR5en"
      },
      "source": [
        "### Editing Series"
      ]
    },
    {
      "cell_type": "code",
      "execution_count": null,
      "metadata": {
        "colab": {
          "base_uri": "https://localhost:8080/"
        },
        "id": "bMaxSAmfR8JQ",
        "outputId": "15df7b1b-d1f4-42dd-c6ac-d155afd18b0e"
      },
      "outputs": [],
      "source": [
        "# using indexing\n"
      ]
    },
    {
      "cell_type": "code",
      "execution_count": null,
      "metadata": {
        "id": "p2sikMnPR8MU"
      },
      "outputs": [],
      "source": [
        "# what if an index does not exist\n"
      ]
    },
    {
      "cell_type": "code",
      "execution_count": null,
      "metadata": {
        "colab": {
          "base_uri": "https://localhost:8080/"
        },
        "id": "rmwOXl0yNjA6",
        "outputId": "66228db5-7b15-46b0-e5d8-8fc97ecee7dd"
      },
      "outputs": [],
      "source": []
    },
    {
      "cell_type": "code",
      "execution_count": null,
      "metadata": {
        "colab": {
          "base_uri": "https://localhost:8080/"
        },
        "id": "bsvV3kz0R8Ps",
        "outputId": "2b6e97f9-2374-4f6e-f832-146eb3339f99"
      },
      "outputs": [],
      "source": [
        "# slicing\n"
      ]
    },
    {
      "cell_type": "code",
      "execution_count": null,
      "metadata": {
        "colab": {
          "base_uri": "https://localhost:8080/"
        },
        "id": "UbXMK59FSJp7",
        "outputId": "75f69728-d376-468f-8843-604f4454ea6c"
      },
      "outputs": [],
      "source": [
        "# fancy indexing\n"
      ]
    },
    {
      "cell_type": "code",
      "execution_count": null,
      "metadata": {
        "colab": {
          "base_uri": "https://localhost:8080/"
        },
        "id": "D1gyqD5bSa_1",
        "outputId": "56b096fb-686b-4240-8b0f-c07de0e34e53"
      },
      "outputs": [],
      "source": [
        "# using index label\n"
      ]
    },
    {
      "cell_type": "markdown",
      "metadata": {
        "id": "DR5SayWPSv1D"
      },
      "source": [
        "### Copy and Views"
      ]
    },
    {
      "cell_type": "code",
      "execution_count": null,
      "metadata": {
        "id": "pVND-BTBgVlN"
      },
      "outputs": [],
      "source": []
    },
    {
      "cell_type": "markdown",
      "metadata": {
        "id": "6OVEN5eFUWA-"
      },
      "source": [
        "### Series with Python Functionalities"
      ]
    },
    {
      "cell_type": "code",
      "execution_count": null,
      "metadata": {
        "colab": {
          "base_uri": "https://localhost:8080/"
        },
        "id": "zebKLTsNt12p",
        "outputId": "1fc18462-7d27-4029-fe3d-cea42f00013d"
      },
      "outputs": [],
      "source": [
        "# len/type/dir/sorted/max/min\n"
      ]
    },
    {
      "cell_type": "code",
      "execution_count": null,
      "metadata": {
        "colab": {
          "base_uri": "https://localhost:8080/"
        },
        "id": "ZJmwrkkgt2x4",
        "outputId": "f0f07972-6f03-4a1f-fe81-311a4ca84926"
      },
      "outputs": [],
      "source": [
        "# type conversion\n"
      ]
    },
    {
      "cell_type": "code",
      "execution_count": null,
      "metadata": {
        "colab": {
          "base_uri": "https://localhost:8080/"
        },
        "id": "VPV0VndRP56t",
        "outputId": "eb5c5533-2589-49c2-f6f5-970f2818d10e"
      },
      "outputs": [],
      "source": []
    },
    {
      "cell_type": "code",
      "execution_count": null,
      "metadata": {
        "colab": {
          "base_uri": "https://localhost:8080/"
        },
        "id": "ScG8OTsIt3yS",
        "outputId": "8f002760-75d0-44be-d43f-a21b3b5ee84f"
      },
      "outputs": [],
      "source": [
        "# membership operator\n",
        "\n"
      ]
    },
    {
      "cell_type": "code",
      "execution_count": null,
      "metadata": {
        "colab": {
          "base_uri": "https://localhost:8080/"
        },
        "id": "R8woF_08QP7D",
        "outputId": "550f3d87-af4a-49c1-a321-359c88877695"
      },
      "outputs": [],
      "source": []
    },
    {
      "cell_type": "code",
      "execution_count": null,
      "metadata": {
        "colab": {
          "base_uri": "https://localhost:8080/"
        },
        "id": "IGjHY4OAQLCC",
        "outputId": "a1394b4a-a632-48a5-c73c-633a20956da3"
      },
      "outputs": [],
      "source": []
    },
    {
      "cell_type": "code",
      "execution_count": null,
      "metadata": {
        "colab": {
          "base_uri": "https://localhost:8080/"
        },
        "id": "IXnzfjhxt41A",
        "outputId": "fdd25164-e07d-4c86-fdb5-28b2c74ab4c3"
      },
      "outputs": [],
      "source": [
        "# looping\n"
      ]
    },
    {
      "cell_type": "code",
      "execution_count": null,
      "metadata": {
        "colab": {
          "base_uri": "https://localhost:8080/"
        },
        "id": "XPYoq68WuBZ_",
        "outputId": "37e4b69d-1071-4735-a5cc-1db0c1b096a6"
      },
      "outputs": [],
      "source": [
        "# Arithmetic Operators(Broadcasting)\n"
      ]
    },
    {
      "cell_type": "code",
      "execution_count": null,
      "metadata": {
        "colab": {
          "base_uri": "https://localhost:8080/"
        },
        "id": "L3uIP0BJuEKf",
        "outputId": "5071a9e3-ef90-4e09-d880-785518914f78"
      },
      "outputs": [],
      "source": [
        "# Relational Operators\n",
        "\n"
      ]
    },
    {
      "cell_type": "markdown",
      "metadata": {
        "id": "nrtnwvD0O515"
      },
      "source": [
        "### Boolean Indexing on Series"
      ]
    },
    {
      "cell_type": "code",
      "execution_count": null,
      "metadata": {
        "colab": {
          "base_uri": "https://localhost:8080/"
        },
        "id": "XcyU25jLO9ft",
        "outputId": "a239891b-0493-4eb0-85b5-301f599fa2f0"
      },
      "outputs": [],
      "source": [
        "# Find no of 50's and 100's scored by kohli\n"
      ]
    },
    {
      "cell_type": "code",
      "execution_count": null,
      "metadata": {
        "colab": {
          "base_uri": "https://localhost:8080/"
        },
        "id": "37QxNConO904",
        "outputId": "82600c80-6242-41cd-b904-1831912b41da"
      },
      "outputs": [],
      "source": [
        "# find number of ducks\n"
      ]
    },
    {
      "cell_type": "code",
      "execution_count": null,
      "metadata": {
        "colab": {
          "base_uri": "https://localhost:8080/"
        },
        "id": "p-Hft0kSvBn2",
        "outputId": "40c5162c-bf00-4be3-b07f-9e6a1ab1d3c2"
      },
      "outputs": [],
      "source": [
        "# Count number of day when I had more than 200 subs a day\n"
      ]
    },
    {
      "cell_type": "code",
      "execution_count": null,
      "metadata": {
        "colab": {
          "base_uri": "https://localhost:8080/"
        },
        "id": "fZM3OCApvsZe",
        "outputId": "4dedb12e-c01e-4209-93a1-7614a4fb9a25"
      },
      "outputs": [],
      "source": [
        "# find actors who have done more than 20 movies\n"
      ]
    },
    {
      "cell_type": "markdown",
      "metadata": {
        "id": "PQjv9hm-42Jr"
      },
      "source": [
        "### Plotting Graphs on Series"
      ]
    },
    {
      "cell_type": "code",
      "execution_count": null,
      "metadata": {
        "colab": {
          "base_uri": "https://localhost:8080/",
          "height": 283
        },
        "id": "WVEQvPTw40KE",
        "outputId": "8e7a69f1-792a-4a0e-ad83-4875ecde1108"
      },
      "outputs": [],
      "source": []
    },
    {
      "cell_type": "code",
      "execution_count": null,
      "metadata": {
        "colab": {
          "base_uri": "https://localhost:8080/",
          "height": 266
        },
        "id": "lGhMdpmkTm-z",
        "outputId": "e21c52dc-b3cb-4a40-c2cf-2a09b7cd61f1"
      },
      "outputs": [],
      "source": []
    },
    {
      "cell_type": "markdown",
      "metadata": {
        "id": "3fl2mDQgPsz_"
      },
      "source": [
        "### Some Important Series Methods"
      ]
    },
    {
      "cell_type": "code",
      "execution_count": null,
      "metadata": {
        "id": "HRw5A2lhKn97"
      },
      "outputs": [],
      "source": [
        "# astype\n",
        "# between\n",
        "# clip\n",
        "# drop_duplicates\n",
        "# isnull\n",
        "# dropna\n",
        "# fillna\n",
        "# isin\n",
        "# apply\n",
        "# copy"
      ]
    },
    {
      "cell_type": "code",
      "execution_count": null,
      "metadata": {
        "id": "AWCxMcdt6tN2"
      },
      "outputs": [],
      "source": [
        "import numpy as np\n",
        "import pandas as pd"
      ]
    },
    {
      "cell_type": "code",
      "execution_count": null,
      "metadata": {
        "colab": {
          "base_uri": "https://localhost:8080/"
        },
        "id": "7ziyhORZ0Oy1",
        "outputId": "a480585f-3edd-4497-8f48-1f6a718cdbd3"
      },
      "outputs": [],
      "source": []
    },
    {
      "cell_type": "code",
      "execution_count": null,
      "metadata": {
        "colab": {
          "base_uri": "https://localhost:8080/"
        },
        "id": "sXzsoZBIzXgQ",
        "outputId": "fdfa4a42-cab0-4f2a-84d8-7b0ffb3a3a0b"
      },
      "outputs": [],
      "source": []
    },
    {
      "cell_type": "code",
      "execution_count": null,
      "metadata": {
        "colab": {
          "base_uri": "https://localhost:8080/"
        },
        "id": "YIG8ViibzbaA",
        "outputId": "e3db35aa-e98a-425a-ca61-df44efa191c8"
      },
      "outputs": [],
      "source": []
    },
    {
      "cell_type": "code",
      "execution_count": null,
      "metadata": {
        "colab": {
          "base_uri": "https://localhost:8080/"
        },
        "id": "W_Savtg2zf7z",
        "outputId": "67e51723-1a0f-41ae-c1b7-1a4dd3c2e2a2"
      },
      "outputs": [],
      "source": [
        "# astype\n"
      ]
    },
    {
      "cell_type": "code",
      "execution_count": null,
      "metadata": {
        "colab": {
          "base_uri": "https://localhost:8080/"
        },
        "id": "LColuUHt62ho",
        "outputId": "7ed7fdbe-ef05-4367-af75-b94ba28abcf5"
      },
      "outputs": [],
      "source": []
    },
    {
      "cell_type": "code",
      "execution_count": null,
      "metadata": {
        "colab": {
          "base_uri": "https://localhost:8080/"
        },
        "id": "9TGRR7Mi63Rl",
        "outputId": "9b255cc8-bc45-4889-cc41-0a466f023e8e"
      },
      "outputs": [],
      "source": [
        "# between\n"
      ]
    },
    {
      "cell_type": "code",
      "execution_count": null,
      "metadata": {
        "id": "uBCn5ryN68y8"
      },
      "outputs": [],
      "source": []
    },
    {
      "cell_type": "code",
      "execution_count": null,
      "metadata": {
        "colab": {
          "base_uri": "https://localhost:8080/"
        },
        "id": "n7FUL-St69Dk",
        "outputId": "2f39b3ef-1505-48ff-9515-5118cbb6566e"
      },
      "outputs": [],
      "source": [
        "# clip\n"
      ]
    },
    {
      "cell_type": "code",
      "execution_count": null,
      "metadata": {
        "colab": {
          "base_uri": "https://localhost:8080/"
        },
        "id": "kUkcI7Q86-Ik",
        "outputId": "ded69a90-7ed3-4c1d-c6d1-8cf1f7a4c621"
      },
      "outputs": [],
      "source": []
    },
    {
      "cell_type": "code",
      "execution_count": null,
      "metadata": {
        "colab": {
          "base_uri": "https://localhost:8080/"
        },
        "id": "1pxfXsU2z13B",
        "outputId": "18a6951c-06b6-48ea-d3c2-22a27f737ed5"
      },
      "outputs": [],
      "source": [
        "# drop_duplicates\n"
      ]
    },
    {
      "cell_type": "code",
      "execution_count": null,
      "metadata": {
        "colab": {
          "base_uri": "https://localhost:8080/"
        },
        "id": "CuhblaOA6eLa",
        "outputId": "132438ce-dfa3-43e7-9574-27e573ebaa3b"
      },
      "outputs": [],
      "source": []
    },
    {
      "cell_type": "code",
      "execution_count": null,
      "metadata": {
        "colab": {
          "base_uri": "https://localhost:8080/"
        },
        "id": "JP2eHcJQ9wUT",
        "outputId": "7e4323f5-24f1-42ad-85f7-d8ce51999716"
      },
      "outputs": [],
      "source": []
    },
    {
      "cell_type": "code",
      "execution_count": null,
      "metadata": {
        "colab": {
          "base_uri": "https://localhost:8080/"
        },
        "id": "CNOErsJI992F",
        "outputId": "f775f7de-3bfb-41f1-b602-bd3b49d3c5bf"
      },
      "outputs": [],
      "source": []
    },
    {
      "cell_type": "code",
      "execution_count": null,
      "metadata": {
        "colab": {
          "base_uri": "https://localhost:8080/"
        },
        "id": "HJrGhllP9mUy",
        "outputId": "ad772a71-57fb-4d1a-bdc3-dc5ff28dfbca"
      },
      "outputs": [],
      "source": []
    },
    {
      "cell_type": "code",
      "execution_count": null,
      "metadata": {
        "colab": {
          "base_uri": "https://localhost:8080/"
        },
        "id": "QrrlnPu46ene",
        "outputId": "9e396114-42da-49b6-b850-710f52e89c6c"
      },
      "outputs": [],
      "source": []
    },
    {
      "cell_type": "code",
      "execution_count": null,
      "metadata": {
        "colab": {
          "base_uri": "https://localhost:8080/"
        },
        "id": "yH3URjKb-PTJ",
        "outputId": "90e1a0f4-53e4-44dd-ae5f-7e5cccb60f13"
      },
      "outputs": [],
      "source": []
    },
    {
      "cell_type": "code",
      "execution_count": null,
      "metadata": {
        "colab": {
          "base_uri": "https://localhost:8080/"
        },
        "id": "alUtB-HD-WNQ",
        "outputId": "9cbc07c4-d8bf-4455-d9a0-150189d719cd"
      },
      "outputs": [],
      "source": []
    },
    {
      "cell_type": "code",
      "execution_count": null,
      "metadata": {
        "colab": {
          "base_uri": "https://localhost:8080/"
        },
        "id": "6FRiAkec6mib",
        "outputId": "db5c5c03-218b-43b0-bcdf-07df161e66de"
      },
      "outputs": [],
      "source": [
        "# isnull\n"
      ]
    },
    {
      "cell_type": "code",
      "execution_count": null,
      "metadata": {
        "id": "_98OInJX7GhO"
      },
      "outputs": [],
      "source": []
    },
    {
      "cell_type": "code",
      "execution_count": null,
      "metadata": {
        "colab": {
          "base_uri": "https://localhost:8080/"
        },
        "id": "STkbZIDn7HBa",
        "outputId": "e128100c-4f4e-46b3-80b5-bb9390f2d53c"
      },
      "outputs": [],
      "source": [
        "# dropna\n"
      ]
    },
    {
      "cell_type": "code",
      "execution_count": null,
      "metadata": {
        "id": "0vp6l6kO7INt"
      },
      "outputs": [],
      "source": []
    },
    {
      "cell_type": "code",
      "execution_count": null,
      "metadata": {
        "colab": {
          "base_uri": "https://localhost:8080/"
        },
        "id": "cXIb28DN7Ihc",
        "outputId": "946fad61-56ad-412a-8e53-76ee45835d64"
      },
      "outputs": [],
      "source": [
        "# fillna\n"
      ]
    },
    {
      "cell_type": "code",
      "execution_count": null,
      "metadata": {
        "id": "c0YUEwGY7J0g"
      },
      "outputs": [],
      "source": []
    },
    {
      "cell_type": "code",
      "execution_count": null,
      "metadata": {
        "colab": {
          "base_uri": "https://localhost:8080/"
        },
        "id": "PHKT_uv-7MBm",
        "outputId": "25426a86-3608-4380-f970-03084bbbe02b"
      },
      "outputs": [],
      "source": [
        "# isin\n"
      ]
    },
    {
      "cell_type": "code",
      "execution_count": null,
      "metadata": {
        "colab": {
          "base_uri": "https://localhost:8080/"
        },
        "id": "E1pFXMVc_evI",
        "outputId": "c037601a-f416-4ea1-e4cf-970e1f77f9fe"
      },
      "outputs": [],
      "source": []
    },
    {
      "cell_type": "code",
      "execution_count": null,
      "metadata": {
        "id": "Z0G9VSBs7N-K"
      },
      "outputs": [],
      "source": []
    },
    {
      "cell_type": "code",
      "execution_count": null,
      "metadata": {
        "colab": {
          "base_uri": "https://localhost:8080/"
        },
        "id": "v7lsdckT7OOk",
        "outputId": "addf5280-e024-443b-988c-d1dd6f722dc2"
      },
      "outputs": [],
      "source": [
        "# apply\n"
      ]
    },
    {
      "cell_type": "code",
      "execution_count": null,
      "metadata": {
        "colab": {
          "base_uri": "https://localhost:8080/"
        },
        "id": "ftFnrqOv7PDx",
        "outputId": "742036c3-de60-4c81-bd69-98d2e097a7a4"
      },
      "outputs": [],
      "source": []
    },
    {
      "cell_type": "code",
      "execution_count": null,
      "metadata": {
        "colab": {
          "base_uri": "https://localhost:8080/"
        },
        "id": "a3_r2it57Pjw",
        "outputId": "775f2ab2-b5a6-46eb-f48a-22f7b044a604"
      },
      "outputs": [],
      "source": []
    },
    {
      "cell_type": "code",
      "execution_count": null,
      "metadata": {
        "colab": {
          "base_uri": "https://localhost:8080/"
        },
        "id": "evUNfB0bAQBk",
        "outputId": "eb6d4c04-381c-4715-97ec-03030458af44"
      },
      "outputs": [],
      "source": []
    },
    {
      "cell_type": "code",
      "execution_count": null,
      "metadata": {
        "colab": {
          "base_uri": "https://localhost:8080/"
        },
        "id": "vvE_nzCFAKRv",
        "outputId": "7a36986e-5b4d-4d69-b6e0-756ff4c296c5"
      },
      "outputs": [],
      "source": []
    },
    {
      "cell_type": "code",
      "execution_count": null,
      "metadata": {
        "id": "91NkdlOi7QAi"
      },
      "outputs": [],
      "source": [
        "# copy"
      ]
    },
    {
      "cell_type": "code",
      "execution_count": null,
      "metadata": {
        "colab": {
          "base_uri": "https://localhost:8080/"
        },
        "id": "ZAsauZPA7RMY",
        "outputId": "74f05c82-86d4-4049-b4e1-69824bf7ed0e"
      },
      "outputs": [],
      "source": []
    },
    {
      "cell_type": "code",
      "execution_count": null,
      "metadata": {
        "id": "92Amef7tBROO"
      },
      "outputs": [],
      "source": []
    }
  ],
  "metadata": {
    "colab": {
      "provenance": []
    },
    "kernelspec": {
      "display_name": "Python 3",
      "name": "python3"
    },
    "language_info": {
      "codemirror_mode": {
        "name": "ipython",
        "version": 3
      },
      "file_extension": ".py",
      "mimetype": "text/x-python",
      "name": "python",
      "nbconvert_exporter": "python",
      "pygments_lexer": "ipython3",
      "version": "3.12.0"
    }
  },
  "nbformat": 4,
  "nbformat_minor": 0
}
