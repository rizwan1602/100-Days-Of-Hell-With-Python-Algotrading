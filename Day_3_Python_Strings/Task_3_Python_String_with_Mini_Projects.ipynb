{
 "cells": [
  {
   "cell_type": "markdown",
   "metadata": {},
   "source": [
    "1. **Complex String Manipulation with Loops**  \n",
    "   - **Question**: Given a string of mixed data containing symbols and prices like `\"AAPL100GOOG200MSFT300\"`, write a script to extract and print each symbol with its corresponding price on separate lines."
   ]
  },
  {
   "cell_type": "code",
   "execution_count": 2,
   "metadata": {},
   "outputs": [],
   "source": [
    "#Write your code here"
   ]
  },
  {
   "cell_type": "markdown",
   "metadata": {},
   "source": [
    "2. **Using Break and Continue in Data Cleaning (This topic is covered in the next session 4)**\n",
    "   - **Question**: You are processing log data from trades. Stop processing if you encounter \"ERROR\" in the logs and skip any logs that start with \"#\"."
   ]
  },
  {
   "cell_type": "code",
   "execution_count": 3,
   "metadata": {},
   "outputs": [],
   "source": [
    "# Write your code here"
   ]
  },
  {
   "cell_type": "markdown",
   "metadata": {},
   "source": [
    "3. **String Slicing and Indexing**\n",
    "   - **Question**: Given a long string of security transaction details formatted as \"Buy100AAPLSell200GOOG\", where each segment starts with a transaction type followed by the amount and the ticker, print each transaction detail on a new line."
   ]
  },
  {
   "cell_type": "code",
   "execution_count": 4,
   "metadata": {},
   "outputs": [],
   "source": [
    "# Write your code here"
   ]
  },
  {
   "cell_type": "markdown",
   "metadata": {},
   "source": [
    "4. **Nested Loops with String Functions**\n",
    "   - **Question**: Create a nested loop that reads a string of stock symbols separated by commas, then prints each symbol and its reverse."
   ]
  },
  {
   "cell_type": "code",
   "execution_count": 5,
   "metadata": {},
   "outputs": [],
   "source": [
    "# Write your code here"
   ]
  },
  {
   "cell_type": "markdown",
   "metadata": {},
   "source": [
    "\n",
    "5. **Advanced String Manipulation**\n",
    "   - **Question**: Given a block of text representing a financial report, replace any instance of financial terms with their uppercase counterparts. The terms are \"revenue\", \"cost\", \"profit\"."
   ]
  },
  {
   "cell_type": "code",
   "execution_count": 6,
   "metadata": {},
   "outputs": [],
   "source": [
    "# Write your code here"
   ]
  },
  {
   "cell_type": "markdown",
   "metadata": {},
   "source": [
    "6. **Complex Data Extraction**\n",
    "   - **Question**: Extract stock symbols and their respective share counts from a string like \"Buy 50 AAPL and sell 30 GOOG\", ensuring that only valid transactions (Buy/Sell) are processed."
   ]
  },
  {
   "cell_type": "code",
   "execution_count": 7,
   "metadata": {},
   "outputs": [],
   "source": [
    "# Write your code here"
   ]
  },
  {
   "cell_type": "markdown",
   "metadata": {},
   "source": [
    "7. **Iterative Data Cleaning with Strings**\n",
    "   - **Question**: Given a list of raw financial data points like \" $1,000 \", \" 2,500 \", \" $3,000 \", clean the data by removing spaces, dollar signs, and commas, then convert them to integers."
   ]
  },
  {
   "cell_type": "code",
   "execution_count": 8,
   "metadata": {},
   "outputs": [],
   "source": [
    "#Write your code here"
   ]
  },
  {
   "cell_type": "markdown",
   "metadata": {},
   "source": [
    "8. **String and Loop Integration**\n",
    "   - **Question**: From a formatted string containing dates and prices like \"20210101$10020210102$200\", extract and print the date and price pairs."
   ]
  },
  {
   "cell_type": "code",
   "execution_count": 9,
   "metadata": {},
   "outputs": [],
   "source": [
    "#Write your code here"
   ]
  },
  {
   "cell_type": "markdown",
   "metadata": {},
   "source": [
    "9. **String Parsing and Control Flow**\n",
    "   - **Question**: Parse a string \"High: 100, Low: 90, Open: 95, Close: 98\" and print each value only if it is higher than 95."
   ]
  },
  {
   "cell_type": "code",
   "execution_count": 10,
   "metadata": {},
   "outputs": [],
   "source": [
    "#Write your code here"
   ]
  },
  {
   "cell_type": "markdown",
   "metadata": {},
   "source": [
    "10. **Advanced String Processing**\n",
    "    - **Question**: Convert a string representation of an options trade from \"Call100AAPL20240101Put200GOOG20240102\" into a structured report indicating each trade's type, volume, symbol, and date."
   ]
  },
  {
   "cell_type": "code",
   "execution_count": 11,
   "metadata": {},
   "outputs": [],
   "source": [
    "#Write your code here"
   ]
  },
  {
   "cell_type": "markdown",
   "metadata": {},
   "source": [
    "# Python Mini Project\n",
    "\n",
    "### Project: Moving Average Crossover Trading Strategy (with list input)\n",
    "\n",
    "#### Step-by-Step Plan\n",
    "\n",
    "1. **Introduction**: Print an introduction to the trading strategy.\n",
    "2. **Reading Data**: Read historical stock data from a predefined list.\n",
    "3. **Processing Data**: Use loops to calculate moving averages.\n",
    "4. **Generating Signals**: Use if-else conditions to generate buy/sell signals.\n",
    "5. **Simulating Trades**: Simulate trading based on generated signals.\n",
    "6. **Printing Results**: Output the results and final portfolio value.\n",
    "\n",
    "\n",
    "#### Sample Data (date, price)\n",
    "#### data = [\n",
    "    (\"2021-01-01\", 100),\n",
    "    (\"2021-01-02\", 102),\n",
    "    (\"2021-01-03\", 104),\n",
    "    (\"2021-01-04\", 101),\n",
    "    (\"2021-01-05\", 105),\n",
    "    (\"2021-01-06\", 107),\n",
    "    (\"2021-01-07\", 110),\n",
    "    (\"2021-01-08\", 108),\n",
    "    (\"2021-01-09\", 106),\n",
    "    (\"2021-01-10\", 104),\n",
    "    (\"2021-01-11\", 103),\n",
    "    (\"2021-01-12\", 102),\n",
    "    (\"2021-01-13\", 101),\n",
    "    (\"2021-01-14\", 105),\n",
    "    (\"2021-01-15\", 108),\n",
    "    (\"2021-01-16\", 110),\n",
    "    (\"2021-01-17\", 112),\n",
    "    (\"2021-01-18\", 115),\n",
    "    (\"2021-01-19\", 117),\n",
    "    (\"2021-01-20\", 120),\n",
    "]\n"
   ]
  },
  {
   "cell_type": "markdown",
   "metadata": {},
   "source": []
  },
  {
   "cell_type": "markdown",
   "metadata": {},
   "source": []
  }
 ],
 "metadata": {
  "kernelspec": {
   "display_name": "base",
   "language": "python",
   "name": "python3"
  },
  "language_info": {
   "codemirror_mode": {
    "name": "ipython",
    "version": 3
   },
   "file_extension": ".py",
   "mimetype": "text/x-python",
   "name": "python",
   "nbconvert_exporter": "python",
   "pygments_lexer": "ipython3",
   "version": "3.11.8"
  }
 },
 "nbformat": 4,
 "nbformat_minor": 2
}
