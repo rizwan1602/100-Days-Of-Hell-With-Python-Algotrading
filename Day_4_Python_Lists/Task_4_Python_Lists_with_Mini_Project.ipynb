{
 "cells": [
  {
   "cell_type": "markdown",
   "metadata": {},
   "source": [
    "1. **List Creation and Access**\n",
    "   - **Question**: You're tracking prices of 5 different stocks in a list. Create this list with initial prices and print the highest price using a built-in function."
   ]
  },
  {
   "cell_type": "code",
   "execution_count": null,
   "metadata": {},
   "outputs": [],
   "source": [
    "# Write your code here"
   ]
  },
  {
   "cell_type": "markdown",
   "metadata": {},
   "source": [
    "2. **List Operations (append, extend, insert)**\n",
    "   - **Question**: You have a list of current holdings in your portfolio. Add new stocks at the end, a list of upcoming stocks in the middle, and a special stock at the beginning."
   ]
  },
  {
   "cell_type": "code",
   "execution_count": null,
   "metadata": {},
   "outputs": [],
   "source": [
    "# Write your code here"
   ]
  },
  {
   "cell_type": "markdown",
   "metadata": {},
   "source": [
    "3. **Editing and Deleting Items**\n",
    "   - **Question**: From the given list of stock symbols, change the symbol 'GOOG' to 'GOOGL' and remove 'NFLX' from the list."
   ]
  },
  {
   "cell_type": "code",
   "execution_count": null,
   "metadata": {},
   "outputs": [],
   "source": [
    "# Write your code here"
   ]
  },
  {
   "cell_type": "markdown",
   "metadata": {},
   "source": [
    "4. **List Comprehension and Membership**\n",
    "   - **Question**: Using list comprehension, create a list of booleans indicating whether each stock price in the list is above 100."
   ]
  },
  {
   "cell_type": "code",
   "execution_count": null,
   "metadata": {},
   "outputs": [],
   "source": [
    "# Write your code here"
   ]
  },
  {
   "cell_type": "markdown",
   "metadata": {},
   "source": [
    "5. **Zip and Loop Operations**\n",
    "   - **Question**: Given two lists, `stock_symbols` and `stock_prices`, use the `zip()` function to pair each stock with its price in a dictionary. Then print each pair."
   ]
  },
  {
   "cell_type": "code",
   "execution_count": null,
   "metadata": {},
   "outputs": [],
   "source": [
    "# Write your code here"
   ]
  },
  {
   "cell_type": "markdown",
   "metadata": {},
   "source": [
    "6. **Traversing Lists in Two Ways**\n",
    "   - **Question**: Demonstrate two ways to print each stock and its price from a list of tuples. The list is `stocks = [('AAPL', 150), ('GOOG', 1200), ('MSFT', 200)]`."
   ]
  },
  {
   "cell_type": "code",
   "execution_count": null,
   "metadata": {},
   "outputs": [],
   "source": [
    "# Write your code here"
   ]
  },
  {
   "cell_type": "markdown",
   "metadata": {},
   "source": [
    "7. **List and Memory**\n",
    "   - **Question**: If you create a list `a = [1, 2, 3]` and then another list `b = a`, demonstrate what happens when you modify `b` and explain why."
   ]
  },
  {
   "cell_type": "code",
   "execution_count": null,
   "metadata": {},
   "outputs": [],
   "source": [
    "# Write your code here"
   ]
  },
  {
   "cell_type": "markdown",
   "metadata": {},
   "source": [
    "8. **Complex List Manipulation and Conditional Logic**\n",
    "   - **Question**: Given a list of stock prices, create a new list that contains the price increased by 5% for only those prices that are below $200. Additionally, print the index of each modified price in the original list."
   ]
  },
  {
   "cell_type": "code",
   "execution_count": null,
   "metadata": {},
   "outputs": [],
   "source": [
    "# Write your code here"
   ]
  },
  {
   "cell_type": "markdown",
   "metadata": {},
   "source": [
    "9. **Advanced List Comprehension with Conditional Logic**\n",
    "   - **Question**: You have a list of stock symbols and their corresponding prices. Use list comprehension to create a list of tuples for only those stocks with prices over $100, and sort this list by price in descending order."
   ]
  },
  {
   "cell_type": "code",
   "execution_count": null,
   "metadata": {},
   "outputs": [],
   "source": [
    "# Write your code here"
   ]
  },
  {
   "cell_type": "markdown",
   "metadata": {},
   "source": [
    "10. **Nested Loops and List Operations**\n",
    "   - **Question**: You have a list of lists where each sublist contains stock symbols followed by their daily closing prices over a week. Create a flattened list of symbols paired with their average weekly price."
   ]
  },
  {
   "cell_type": "code",
   "execution_count": null,
   "metadata": {},
   "outputs": [],
   "source": [
    "# Write your code here"
   ]
  },
  {
   "cell_type": "markdown",
   "metadata": {},
   "source": [
    "11. **Zip and Advanced Data Structures**\n",
    "   - **Question**: Pair each stock with its respective price using `zip` and then convert this list of pairs into a dictionary where stock symbols are keys and values are lists containing current price and a Boolean indicating if the price is over $150."
   ]
  },
  {
   "cell_type": "code",
   "execution_count": null,
   "metadata": {},
   "outputs": [],
   "source": [
    "# Write your code here"
   ]
  },
  {
   "cell_type": "markdown",
   "metadata": {},
   "source": [
    "12. **Complex List Manipulation Using Del and Slicing**\n",
    "   - **Question**: Given a list with stock prices, delete prices that are exactly $100, and replace the last three elements with their mean."
   ]
  },
  {
   "cell_type": "code",
   "execution_count": null,
   "metadata": {},
   "outputs": [],
   "source": [
    "# Write your code here"
   ]
  },
  {
   "cell_type": "markdown",
   "metadata": {},
   "source": [
    "13. **Advanced Loop Control Mechanisms**\n",
    "   - **Question**: Process a list of stock transactions and exit the loop if a transaction exceeds $500, but skip any transaction below $100."
   ]
  },
  {
   "cell_type": "code",
   "execution_count": null,
   "metadata": {},
   "outputs": [],
   "source": [
    "# Write your code here"
   ]
  },
  {
   "cell_type": "markdown",
   "metadata": {},
   "source": [
    "14. **Memory Management and List**\n",
    "   - **Question**: Demonstrate how altering a sublist affects the original list when using shallow copies."
   ]
  },
  {
   "cell_type": "code",
   "execution_count": null,
   "metadata": {},
   "outputs": [],
   "source": [
    "# Write your code here"
   ]
  },
  {
   "cell_type": "markdown",
   "metadata": {},
   "source": [
    "15. **List Comprehension and Functional Programming**\n",
    "   - **Question**: Using a list of numbers, create a new list that contains the square of each number, but only if the number is odd."
   ]
  },
  {
   "cell_type": "code",
   "execution_count": null,
   "metadata": {},
   "outputs": [],
   "source": [
    "# Write your code here"
   ]
  },
  {
   "cell_type": "markdown",
   "metadata": {},
   "source": [
    "\n",
    "16. **Complex List Operations with String Manipulation**\n",
    "   - **Question**: Given a list of strings representing transactions, parse each string into a tuple containing the type of transaction ('Buy' or 'Sell') and the amount, then filter out any transactions under $200."
   ]
  },
  {
   "cell_type": "code",
   "execution_count": null,
   "metadata": {},
   "outputs": [],
   "source": [
    "# Write your code here"
   ]
  },
  {
   "cell_type": "markdown",
   "metadata": {},
   "source": [
    "17. **List and Error Handling**\n",
    "    - **Question**: Attempt to access the 10th element of a list that contains only 5 elements. Use exception handling to manage the potential IndexError and print a custom error message."
   ]
  },
  {
   "cell_type": "code",
   "execution_count": null,
   "metadata": {},
   "outputs": [],
   "source": [
    "# Write your code here"
   ]
  }
 ],
 "metadata": {
  "kernelspec": {
   "display_name": "base",
   "language": "python",
   "name": "python3"
  },
  "language_info": {
   "name": "python",
   "version": "3.11.8"
  }
 },
 "nbformat": 4,
 "nbformat_minor": 2
}
