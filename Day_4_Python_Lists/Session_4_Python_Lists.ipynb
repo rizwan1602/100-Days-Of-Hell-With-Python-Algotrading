{
 "cells": [
  {
   "cell_type": "markdown",
   "metadata": {},
   "source": [
    "## Unit 2 - Python Data Types\n",
    "### Session 4: Python Lists\n",
    "   ### ○ Introduction\n",
    "   ### ○ Array vs List\n",
    "   ### ○ How lists are stored in a memory\n",
    "   ### ○ Characteristics of Python List\n",
    "   ### ○ Code Example of Lists\n",
    "        Create and access a list\n",
    "        append(), extend(), insert()\n",
    "        Edit items in a list\n",
    "        Deleting items from a list\n",
    "        Arithmetic, membership and loop operations on a List\n",
    "        Various List functions\n",
    "        List comprehension\n",
    "        2 Ways to traverse a list\n",
    "        Zip() function\n",
    "        Python List can store any kind of objects\n",
    "#### ○ Disadvantages of Python list"
   ]
  },
  {
   "cell_type": "markdown",
   "metadata": {},
   "source": [
    "## 1. Lists\n",
    "\n",
    "- What are Lists?\n",
    "- Lists Vs Arrays\n",
    "- Characterstics of a List\n",
    "- How to create a list\n",
    "- Access items from a List\n",
    "- Editing items in a List\n",
    "- Deleting items from a List\n",
    "- Operations on Lists\n",
    "- Functions on Lists\n"
   ]
  },
  {
   "cell_type": "markdown",
   "metadata": {},
   "source": [
    "### What are Lists\n",
    "\n",
    "-  List is a data type where you can store multiple items under 1 name. \n",
    "-  More technically, lists act like dynamic arrays which means you can \n",
    "   add more items on the fly.\n",
    "\n",
    "- Why Lists are required in programming?"
   ]
  },
  {
   "cell_type": "markdown",
   "metadata": {},
   "source": [
    "### Array Vs Lists\n",
    "\n",
    "- Fixed Vs Dynamic Size\n",
    "- Convenience -> Hetrogeneous\n",
    "- Speed of Execution\n",
    "- Memory"
   ]
  },
  {
   "cell_type": "markdown",
   "metadata": {},
   "source": [
    "### How lists are stored in memory"
   ]
  },
  {
   "cell_type": "markdown",
   "metadata": {},
   "source": [
    "### Characterstics of a List\n",
    "\n",
    "- Ordered\n",
    "- Changeble/Mutable\n",
    "- Hetrogeneous\n",
    "- Can have duplicates\n",
    "- are dynamic\n",
    "- can be nested\n",
    "- items can be accessed \n",
    "- can contain any kind of objects in python"
   ]
  },
  {
   "cell_type": "markdown",
   "metadata": {},
   "source": [
    "## Creating a List"
   ]
  },
  {
   "cell_type": "code",
   "execution_count": 81,
   "metadata": {},
   "outputs": [
    {
     "data": {
      "text/plain": [
       "list"
      ]
     },
     "execution_count": 81,
     "metadata": {},
     "output_type": "execute_result"
    }
   ],
   "source": [
    "# Empty\n",
    "\n",
    "trade_logs = [100,\"BTC\",110.9,True]\n",
    "# print(id(trade_logs))\n",
    "# print(id(trade_logs[0]))\n",
    "# print(id(trade_logs[1]))\n",
    "# print(id(trade_logs[2]))\n",
    "# print(id(trade_logs[3]))\n",
    "\n",
    "\n",
    "# print(id(100))\n",
    "# print(id(\"BTC\"))\n",
    "# print(id(110.9))\n",
    "# print(id(True))\n",
    "\n",
    "\n",
    "# 1D\n",
    "#Homogeneous\n",
    "\n",
    "trade_logs = [\"100\",\"BTC\",\"110.9\",\"True\"]\n",
    "#Heteregeneous\n",
    "trade_logs = [100,\"BTC\",110.9,True]\n",
    "\n",
    "# 2D\n",
    "#Homogeneous\n",
    "\n",
    "\n",
    "\n",
    "#Heteregeneous\n",
    "\n",
    "trade_logs = [[100,\"BTC\",110.9,True],200,300]\n",
    "\n",
    "# 3D\n",
    "\n",
    "#Homogeneous\n",
    "trade_logs = [[[100,\"BTC\",110.9,True],200,300],[[100,\"BTC\",110.9,True],200,300]]\n",
    "\n",
    "#Heteregeneous\n",
    "\n",
    "\n",
    "\n",
    "\n",
    "# Using Type conversion\n",
    "type(\"Buy\")\n",
    "type(list([\"Buy\"]))"
   ]
  },
  {
   "cell_type": "markdown",
   "metadata": {},
   "source": [
    "### Accessing Items from a List"
   ]
  },
  {
   "cell_type": "code",
   "execution_count": 7,
   "metadata": {},
   "outputs": [
    {
     "name": "stdout",
     "output_type": "stream",
     "text": [
      "[[100, 'BTC', 110.9, True], 200]\n",
      "[[100, 'BTC', 110.9, True], 200]\n"
     ]
    }
   ],
   "source": [
    "# Indexing\n",
    "\n",
    "trade_logs = [[100,\"BTC\",110.9,True],200,300]\n",
    "# print(trade_logs[0][1])\n",
    "# print(trade_logs[-3][-3])\n",
    "\n",
    "# Positive\n",
    "\n",
    "\n",
    "\n",
    "# Slicing\n",
    "\n",
    "trade_logs = [[100,\"BTC\",110.9,True],200,300]\n",
    "\n",
    "print(trade_logs[0:2])\n",
    "print(trade_logs[-3:-1])\n"
   ]
  },
  {
   "cell_type": "markdown",
   "metadata": {},
   "source": [
    "### Adding Items to a List"
   ]
  },
  {
   "cell_type": "code",
   "execution_count": 11,
   "metadata": {},
   "outputs": [
    {
     "name": "stdout",
     "output_type": "stream",
     "text": [
      "[[100, 'BTC', 110.9, True], 200, 300, [[100, 'BTC', 110.9, True], 200, 300]]\n"
     ]
    }
   ],
   "source": [
    "# append\n",
    "trade_logs = [[100,\"BTC\",110.9,True],200,300]\n",
    "trade_logs.append([[100,\"BTC\",110.9,True],200,300])\n",
    "print(trade_logs)\n"
   ]
  },
  {
   "cell_type": "code",
   "execution_count": 10,
   "metadata": {},
   "outputs": [
    {
     "name": "stdout",
     "output_type": "stream",
     "text": [
      "[[100, 'BTC', 110.9, True], 200, 300, 'K', 'u', 'l', 'd', 'e', 'e', 'p']\n"
     ]
    }
   ],
   "source": [
    "# extend\n",
    "\n",
    "trade_logs = [[100,\"BTC\",110.9,True],200,300]\n",
    "buy_condition = \"Kuldeep\"\n",
    "\n",
    "trade_logs.extend(buy_condition)\n",
    "print(trade_logs)"
   ]
  },
  {
   "cell_type": "code",
   "execution_count": 19,
   "metadata": {},
   "outputs": [
    {
     "name": "stdout",
     "output_type": "stream",
     "text": [
      "[[100, 'ETH', 'BTC', 110.9, True], 200, 300]\n"
     ]
    }
   ],
   "source": [
    "# insert\n",
    "trade_logs = [[100,\"BTC\",110.9,True],200,300]\n",
    "trade_logs[0].insert(1,\"ETH\")\n",
    "print(trade_logs)"
   ]
  },
  {
   "cell_type": "markdown",
   "metadata": {},
   "source": [
    "### Editing items in a List"
   ]
  },
  {
   "cell_type": "code",
   "execution_count": 24,
   "metadata": {},
   "outputs": [
    {
     "data": {
      "text/plain": [
       "[[300, 'XRP', 120, False], 200, 300]"
      ]
     },
     "execution_count": 24,
     "metadata": {},
     "output_type": "execute_result"
    }
   ],
   "source": [
    "\n",
    "\n",
    "# editing with indexing\n",
    "trade_logs = [[100,\"BTC\",110.9,True],200,300]\n",
    "# trade_logs[1] = 'Eth'\n",
    "# trade_logs[0][1] = 'XRP'\n",
    "# trade_logs\n",
    "\n",
    "# editing with slicing\n",
    "trade_logs = [[100,\"BTC\",110.9,True],200,300]\n",
    "trade_logs[0][:]=[300,\"XRP\",120,False]\n",
    "trade_logs"
   ]
  },
  {
   "cell_type": "markdown",
   "metadata": {},
   "source": [
    "### Deleting items from a List"
   ]
  },
  {
   "cell_type": "code",
   "execution_count": 30,
   "metadata": {},
   "outputs": [
    {
     "name": "stdout",
     "output_type": "stream",
     "text": [
      "[[100, 'BTC', 110.9, True], 300]\n",
      "[[100, True], 200, 300]\n"
     ]
    }
   ],
   "source": [
    "# del\n",
    "trade_logs = [[100,\"BTC\",110.9,True],200,300]\n",
    "# print(trade_logs)\n",
    "# del trade_logs\n",
    "# print(trade_logs)\n",
    "\n",
    "\n",
    "\n",
    "# indexing\n",
    "trade_logs = [[100,\"BTC\",110.9,True],200,300]\n",
    "\n",
    "del trade_logs[1]\n",
    "print(trade_logs)\n",
    "\n",
    "# slicing\n",
    "trade_logs = [[100,\"BTC\",110.9,True],200,300]\n",
    "del trade_logs[0][1:3]\n",
    "print(trade_logs)"
   ]
  },
  {
   "cell_type": "code",
   "execution_count": 32,
   "metadata": {},
   "outputs": [
    {
     "data": {
      "text/plain": [
       "[[100, 110.9, True], 200, 300]"
      ]
     },
     "execution_count": 32,
     "metadata": {},
     "output_type": "execute_result"
    }
   ],
   "source": [
    "# remove\n",
    "trade_logs = [[100,\"BTC\",110.9,True],200,300]\n",
    "trade_logs[0].remove(\"BTC\")\n",
    "trade_logs"
   ]
  },
  {
   "cell_type": "code",
   "execution_count": 35,
   "metadata": {},
   "outputs": [
    {
     "data": {
      "text/plain": [
       "[[100, 'BTC', 110.9], 200, 300]"
      ]
     },
     "execution_count": 35,
     "metadata": {},
     "output_type": "execute_result"
    }
   ],
   "source": [
    "# pop\n",
    "trade_logs = [[100,\"BTC\",110.9,True],200,300]\n",
    "trade_logs[0].pop(-1)\n",
    "trade_logs"
   ]
  },
  {
   "cell_type": "code",
   "execution_count": 38,
   "metadata": {},
   "outputs": [
    {
     "name": "stdout",
     "output_type": "stream",
     "text": [
      "[[100, 'BTC', 110.9, True], 200, 300]\n",
      "[]\n"
     ]
    }
   ],
   "source": [
    "# clear\n",
    "trade_logs = [[100,\"BTC\",110.9,True],200,300]\n",
    "print(trade_logs)\n",
    "trade_logs.clear()\n",
    "print(trade_logs)\n"
   ]
  },
  {
   "cell_type": "markdown",
   "metadata": {},
   "source": [
    "### Operations on Lists\n",
    "\n",
    "- Arithmetic\n",
    "- Membership\n",
    "- Loop"
   ]
  },
  {
   "cell_type": "code",
   "execution_count": 42,
   "metadata": {},
   "outputs": [
    {
     "name": "stdout",
     "output_type": "stream",
     "text": [
      "100\n",
      "BTC\n",
      "110.9\n",
      "True\n"
     ]
    }
   ],
   "source": [
    "# Arithmetic (+ ,*)\n",
    "\n",
    "trade_logs = [[100,\"BTC\",110.9,True],200,300]\n",
    "stock_details = [100,120]\n",
    "new_list = trade_logs + stock_details\n",
    "# print(new_list)\n",
    "\n",
    "trade_logs = [[100,\"BTC\",110.9,True],200,300]\n",
    "# trade_logs*2\n",
    "# Concatenation/Merge\n",
    "\n",
    "\n",
    "# Loops\n",
    "\n",
    "for i in trade_logs[0]:\n",
    "    print(i)\n"
   ]
  },
  {
   "cell_type": "markdown",
   "metadata": {},
   "source": [
    "### List Functions"
   ]
  },
  {
   "cell_type": "code",
   "execution_count": 48,
   "metadata": {},
   "outputs": [
    {
     "data": {
      "text/plain": [
       "[300, 200, 100]"
      ]
     },
     "execution_count": 48,
     "metadata": {},
     "output_type": "execute_result"
    }
   ],
   "source": [
    "# len/min/max/sorted\n",
    "\n",
    "trade_logs = [[100,\"BTC\",110.9,True],200,300]\n",
    "len(trade_logs)\n",
    "\n",
    "trade_logs = [100,200,300]\n",
    "min(trade_logs)\n",
    "max(trade_logs)\n",
    "\n",
    "sorted(trade_logs, reverse=True)"
   ]
  },
  {
   "cell_type": "code",
   "execution_count": 49,
   "metadata": {},
   "outputs": [
    {
     "data": {
      "text/plain": [
       "4"
      ]
     },
     "execution_count": 49,
     "metadata": {},
     "output_type": "execute_result"
    }
   ],
   "source": [
    "# count \n",
    "\n",
    "trade_logs = [100,200,300,100,200,300,100,200,300,100,200,300]\n",
    "trade_logs.count(100)"
   ]
  },
  {
   "cell_type": "code",
   "execution_count": 51,
   "metadata": {},
   "outputs": [
    {
     "data": {
      "text/plain": [
       "[300, 200, 100, 300, 200, 100, 300, 200, 100, 300, 200, 100]"
      ]
     },
     "execution_count": 51,
     "metadata": {},
     "output_type": "execute_result"
    }
   ],
   "source": [
    "# reverse\n",
    "trade_logs = [100,200,300,100,200,300,100,200,300,100,200,300]\n",
    "trade_logs.reverse()\n",
    "trade_logs\n",
    "\n",
    "# permanently reverses the list"
   ]
  },
  {
   "cell_type": "code",
   "execution_count": 60,
   "metadata": {},
   "outputs": [
    {
     "name": "stdout",
     "output_type": "stream",
     "text": [
      "[100, 200, 300, 100, 200, 300, 100, 200, 300, 100, 200, 300]\n",
      "[100, 100, 100, 100, 200, 200, 200, 200, 300, 300, 300, 300]\n"
     ]
    }
   ],
   "source": [
    "# sort (vs sorted)\n",
    "trade_logs = [100,200,300,100,200,300,100,200,300,100,200,300]\n",
    "sorted(trade_logs)\n",
    "print(trade_logs)\n",
    "trade_logs.sort()\n",
    "print(trade_logs)"
   ]
  },
  {
   "cell_type": "code",
   "execution_count": 61,
   "metadata": {},
   "outputs": [
    {
     "name": "stdout",
     "output_type": "stream",
     "text": [
      "[100, 200, 300, 100, 200, 300, 100, 200, 300, 100, 200, 300]\n",
      "4601580864\n",
      "[100, 200, 300, 100, 200, 300, 100, 200, 300, 100, 200, 300]\n",
      "4614421120\n"
     ]
    }
   ],
   "source": [
    "# copy -> shallow\n",
    "trade_logs = [100,200,300,100,200,300,100,200,300,100,200,300]\n",
    "print(trade_logs)\n",
    "print(id(trade_logs))\n",
    "new_trade_logs = trade_logs.copy()\n",
    "print(new_trade_logs)\n",
    "print(id(new_trade_logs))\n"
   ]
  },
  {
   "cell_type": "markdown",
   "metadata": {},
   "source": [
    "## List Comprehension\n",
    "\n",
    "List Comprehension provides a concise way of creating lists.\n",
    "\n",
    "\n",
    "Advantages of List Comprehension\n",
    "- More time-efficient and space-efficient than loops.\n",
    "- Require fewer lines of code.\n",
    "- Transforms iterative statement into a formula."
   ]
  },
  {
   "cell_type": "markdown",
   "metadata": {},
   "source": []
  },
  {
   "cell_type": "code",
   "execution_count": 4,
   "metadata": {},
   "outputs": [
    {
     "name": "stdout",
     "output_type": "stream",
     "text": [
      "[1, 2, 3, 4, 5, 6, 7, 8, 9, 10]\n"
     ]
    },
    {
     "data": {
      "text/plain": [
       "[1, 2, 3, 4, 5, 6, 7, 8, 9, 10]"
      ]
     },
     "execution_count": 4,
     "metadata": {},
     "output_type": "execute_result"
    }
   ],
   "source": [
    "# Add 1 to 10 numbers to a list\n",
    "L = []\n",
    "for i in range(1,11):\n",
    "    L.append(i)\n",
    "print(L)\n",
    "\n",
    "\n",
    "[i  for i in range(1,11)]"
   ]
  },
  {
   "cell_type": "code",
   "execution_count": 7,
   "metadata": {},
   "outputs": [
    {
     "name": "stdout",
     "output_type": "stream",
     "text": [
      "[-6, -9, -12]\n"
     ]
    },
    {
     "data": {
      "text/plain": [
       "[-6, -9, -12]"
      ]
     },
     "execution_count": 7,
     "metadata": {},
     "output_type": "execute_result"
    }
   ],
   "source": [
    "# scalar multiplication on a vector\n",
    "\n",
    "v = [2,3,4]\n",
    "s = -3\n",
    "\n",
    "L = []\n",
    "for i in v:\n",
    "    L.append(i*s)\n",
    "print(L)\n",
    "\n",
    "\n",
    "[i*s for i in v]"
   ]
  },
  {
   "cell_type": "code",
   "execution_count": 10,
   "metadata": {},
   "outputs": [
    {
     "name": "stdout",
     "output_type": "stream",
     "text": [
      "[4, 9, 16, 25, 36, 49, 64, 81, 100]\n"
     ]
    },
    {
     "data": {
      "text/plain": [
       "[4, 9, 16, 25, 36, 49, 64, 81, 100]"
      ]
     },
     "execution_count": 10,
     "metadata": {},
     "output_type": "execute_result"
    }
   ],
   "source": [
    "# Add squares\n",
    "\n",
    "L = [2,3,4,5,6,7,8,9,10]\n",
    "\n",
    "S = []\n",
    "for i in L:\n",
    "    S.append(i**2)\n",
    "print(S)\n",
    "\n",
    "[i**2 for i in L]"
   ]
  },
  {
   "cell_type": "code",
   "execution_count": null,
   "metadata": {},
   "outputs": [],
   "source": [
    "# Print all numbers divisible by 5 in the range of 1 to 50"
   ]
  },
  {
   "cell_type": "code",
   "execution_count": null,
   "metadata": {},
   "outputs": [],
   "source": [
    "# find languages which start with letter p"
   ]
  },
  {
   "cell_type": "code",
   "execution_count": null,
   "metadata": {},
   "outputs": [],
   "source": [
    "# Nested if with List Comprehension\n",
    "\n",
    "\n",
    "# add new list from my_fruits and items if the fruit exists in basket and also starts with 'a'\n",
    "\n"
   ]
  },
  {
   "cell_type": "code",
   "execution_count": null,
   "metadata": {},
   "outputs": [],
   "source": [
    "# Print a (3,3) matrix using list comprehension -> Nested List comprehension"
   ]
  },
  {
   "cell_type": "code",
   "execution_count": null,
   "metadata": {},
   "outputs": [],
   "source": [
    "# cartesian products -> List comprehension on 2 lists together"
   ]
  },
  {
   "cell_type": "markdown",
   "metadata": {},
   "source": [
    "## 2 ways to traverse a list\n",
    "\n",
    "- itemwise\n",
    "- indexwise\n",
    "\n"
   ]
  },
  {
   "cell_type": "code",
   "execution_count": 12,
   "metadata": {},
   "outputs": [
    {
     "name": "stdout",
     "output_type": "stream",
     "text": [
      "100\n",
      "BTC\n",
      "110.9\n",
      "True\n"
     ]
    }
   ],
   "source": [
    "# itemwise\n",
    "trade_logs = [[100,\"BTC\",110.9,True],200,300]\n",
    "\n",
    "for i in trade_logs[0]:\n",
    "    print(i)"
   ]
  },
  {
   "cell_type": "code",
   "execution_count": 14,
   "metadata": {},
   "outputs": [
    {
     "name": "stdout",
     "output_type": "stream",
     "text": [
      "[100, 'BTC', 110.9, True]\n",
      "200\n",
      "300\n"
     ]
    }
   ],
   "source": [
    "# indexwise\n",
    "\n",
    "trade_logs = [[100,\"BTC\",110.9,True],200,300]\n",
    "\n",
    "for i in range(0,len(trade_logs)):\n",
    "    print(trade_logs[i])"
   ]
  },
  {
   "cell_type": "markdown",
   "metadata": {},
   "source": [
    "## Zip\n",
    "\n",
    "The zip() function returns a zip object, which is an iterator of tuples where the first item in each passed iterator is paired together, and then the second item in each passed iterator are paired together.\n",
    "\n",
    "If the passed iterators have different lengths, the iterator with the least items decides the length of the new iterator."
   ]
  },
  {
   "cell_type": "code",
   "execution_count": 19,
   "metadata": {},
   "outputs": [
    {
     "data": {
      "text/plain": [
       "[0, 0, 0, 0]"
      ]
     },
     "execution_count": 19,
     "metadata": {},
     "output_type": "execute_result"
    }
   ],
   "source": [
    "# Write a program to add items of 2 lists indexwise\n",
    "\n",
    "L1 = [1,2,3,4]\n",
    "L2 = [-1,-2,-3,-4]\n",
    "\n",
    "Z = list(zip(L1,L2))\n",
    "\n",
    "[(i+j) for i,j in Z]\n",
    "\n"
   ]
  },
  {
   "cell_type": "markdown",
   "metadata": {},
   "source": [
    "## Disadvantages of Python Lists\n",
    "\n",
    "- Slow\n",
    "- Risky usage\n",
    "- eats up more memory"
   ]
  },
  {
   "cell_type": "code",
   "execution_count": 22,
   "metadata": {},
   "outputs": [
    {
     "name": "stdout",
     "output_type": "stream",
     "text": [
      "[1, 2, 3]\n",
      "[1, 2, 3]\n",
      "4584794368\n",
      "4584794368\n",
      "[2, 3]\n",
      "[2, 3]\n"
     ]
    }
   ],
   "source": [
    "# lists are mutable\n",
    "\n",
    "a = [1,2,3]\n",
    "b = a\n",
    "\n",
    "print(a)\n",
    "print(b)\n",
    "\n",
    "print(id(a))\n",
    "print(id(b))\n",
    "del a[0]\n",
    "print(a)\n",
    "print(b)"
   ]
  },
  {
   "cell_type": "code",
   "execution_count": null,
   "metadata": {},
   "outputs": [],
   "source": []
  }
 ],
 "metadata": {
  "kernelspec": {
   "display_name": "base",
   "language": "python",
   "name": "python3"
  },
  "language_info": {
   "codemirror_mode": {
    "name": "ipython",
    "version": 3
   },
   "file_extension": ".py",
   "mimetype": "text/x-python",
   "name": "python",
   "nbconvert_exporter": "python",
   "pygments_lexer": "ipython3",
   "version": "3.11.8"
  }
 },
 "nbformat": 4,
 "nbformat_minor": 2
}
