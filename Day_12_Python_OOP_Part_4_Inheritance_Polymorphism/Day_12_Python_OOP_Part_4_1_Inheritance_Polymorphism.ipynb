{
 "cells": [
  {
   "cell_type": "markdown",
   "metadata": {
    "id": "yqLLqLyj4r0z"
   },
   "source": [
    "### Class Relationships\n",
    "\n",
    "- Aggregation\n",
    "- Inheritance"
   ]
  },
  {
   "cell_type": "markdown",
   "metadata": {
    "id": "f69fS6U45Hqr"
   },
   "source": [
    "### Aggregation(Has-A relationship)"
   ]
  },
  {
   "cell_type": "code",
   "execution_count": 29,
   "metadata": {
    "colab": {
     "base_uri": "https://localhost:8080/"
    },
    "id": "5kx2nO_m5GdR",
    "outputId": "334c7266-876b-4569-e3af-d9bdb824a0e4"
   },
   "outputs": [],
   "source": [
    "class MyTradingBot:\n",
    "    def __init__(self,name,strategy):\n",
    "        self.name = name\n",
    "        self.strategy = strategy\n",
    "    def Execute(self,price):\n",
    "        action = self.strategy.Evaluate(price)\n",
    "        return f\"{self.name} is Executing a {action} action.\"\n",
    "\n",
    "\n",
    "class AwesomeStrategy:\n",
    "    def __init__(self,thresold):\n",
    "        self.thresold = thresold\n",
    "\n",
    "    def Evaluate(self,latest_price):\n",
    "        if latest_price > self.thresold:\n",
    "            return \"BUY\"\n",
    "        else:\n",
    "            return \"SELL\""
   ]
  },
  {
   "cell_type": "code",
   "execution_count": 30,
   "metadata": {},
   "outputs": [
    {
     "data": {
      "text/plain": [
       "'AwesomeStrategy is Executing a SELL action.'"
      ]
     },
     "execution_count": 30,
     "metadata": {},
     "output_type": "execute_result"
    }
   ],
   "source": [
    "strategy = AwesomeStrategy(100)\n",
    "mybot = MyTradingBot(\"AwesomeStrategy\",strategy)\n",
    "mybot.Execute(95)"
   ]
  },
  {
   "cell_type": "markdown",
   "metadata": {
    "id": "iwHzHwcQ5L94"
   },
   "source": [
    "##### Aggregation class diagram"
   ]
  },
  {
   "cell_type": "code",
   "execution_count": null,
   "metadata": {
    "id": "N8leEVkv5PQ1"
   },
   "outputs": [],
   "source": []
  },
  {
   "cell_type": "markdown",
   "metadata": {
    "id": "ftkzTkLv64OS"
   },
   "source": [
    "### Inheritance\n",
    "\n",
    "- What is inheritance\n",
    "- Example\n",
    "- What gets inherited?\n",
    "- Benefits?\n",
    "- Class Diagram"
   ]
  },
  {
   "cell_type": "code",
   "execution_count": null,
   "metadata": {},
   "outputs": [],
   "source": []
  },
  {
   "cell_type": "code",
   "execution_count": 111,
   "metadata": {
    "id": "uSTDcEyh65cu"
   },
   "outputs": [],
   "source": [
    "# Inheritance and it's benefits"
   ]
  },
  {
   "cell_type": "code",
   "execution_count": 124,
   "metadata": {
    "colab": {
     "base_uri": "https://localhost:8080/"
    },
    "id": "k_BCUsIbPHud",
    "outputId": "ace03f99-3335-4da0-9ab6-37d6f980f637"
   },
   "outputs": [],
   "source": [
    "class MyBaseStrategy:\n",
    "    def __init__(self,name,stype):\n",
    "        self.name = name\n",
    "        self.stype = stype\n",
    "        print(\"The constructor function of the base strategy has been initialized\")\n",
    "\n",
    "    def execute(self):\n",
    "        print(\"The execute method of the base strategy has been executed\")\n",
    "\n",
    "class MyEMAStrategy(MyBaseStrategy):\n",
    "    def __init__(self,name,stype,lwindow,swindow):\n",
    "        super().__init__(name,stype)\n",
    "        self.lwindow = lwindow\n",
    "        self.swindow = swindow\n",
    "        print(\"The constructor function of the MyEMAStrategy  has been initialized\")\n",
    "\n",
    "    def evaluate(self):\n",
    "        print(\"The evaluate method of the MyEMAStrategy  has been executed\")"
   ]
  },
  {
   "cell_type": "code",
   "execution_count": 127,
   "metadata": {},
   "outputs": [
    {
     "name": "stdout",
     "output_type": "stream",
     "text": [
      "The constructor function of the base strategy has been initialized\n",
      "The constructor function of the MyEMAStrategy  has been initialized\n",
      "The execute method of the base strategy has been executed\n"
     ]
    }
   ],
   "source": [
    "\n",
    "obj2 = MyEMAStrategy(\"NewStrategyName\",\"Technical\",10,20)\n",
    "# obj2.name\n",
    "obj2.execute()\n",
    "\n",
    "\n",
    "\n"
   ]
  },
  {
   "cell_type": "code",
   "execution_count": 112,
   "metadata": {
    "id": "Nh2Ug7mZSJMd"
   },
   "outputs": [],
   "source": [
    "# Inheritance Class diagram"
   ]
  },
  {
   "cell_type": "markdown",
   "metadata": {
    "id": "CJEPRGHGPY9n"
   },
   "source": [
    "##### What gets inherited?\n",
    "\n",
    "- Constructor\n",
    "- Non Private Attributes\n",
    "- Non Private Methods"
   ]
  },
  {
   "cell_type": "markdown",
   "metadata": {},
   "source": []
  },
  {
   "cell_type": "code",
   "execution_count": null,
   "metadata": {
    "colab": {
     "base_uri": "https://localhost:8080/"
    },
    "id": "VGpL2aWUPX-C",
    "outputId": "5114dda8-4e7a-45ea-fd82-ce6e968cba82"
   },
   "outputs": [],
   "source": [
    "# constructor example\n",
    "class TradingStrategy:\n",
    "    def __init__(self, capital, risk_level, strategy_name):\n",
    "        print(\"Inside TradingStrategy constructor\")\n",
    "        self.capital = capital\n",
    "        self.risk_level = risk_level\n",
    "        self.strategy_name = strategy_name\n",
    "\n",
    "    def execute(self):\n",
    "        print(\"Executing trading strategy\")\n",
    "\n",
    "class MovingAverageStrategy(TradingStrategy):\n",
    "    pass\n",
    "\n",
    "# Creating an instance of MovingAverageStrategy\n",
    "ma_strategy = MovingAverageStrategy(100000, \"Medium\", \"Moving Average\")\n",
    "ma_strategy.execute()"
   ]
  },
  {
   "cell_type": "markdown",
   "metadata": {},
   "source": []
  },
  {
   "cell_type": "code",
   "execution_count": 34,
   "metadata": {
    "colab": {
     "base_uri": "https://localhost:8080/",
     "height": 223
    },
    "id": "PMjCWA3wP_s-",
    "outputId": "9cf6eca4-444a-48ee-9a55-82eeca73e4e2"
   },
   "outputs": [],
   "source": [
    "# constructor example 2\n",
    "\n",
    "class TradingStrategy:\n",
    "    def __init__(self, capital, risk_level, strategy_name):\n",
    "        print(\"Inside TradingStrategy constructor\")\n",
    "        self.__capital = capital\n",
    "        self.risk_level = risk_level\n",
    "        self.strategy_name = strategy_name\n",
    "\n",
    "    # Getter\n",
    "    def show_capital(self):\n",
    "        print(self.__capital)\n",
    "\n",
    "class MovingAverageStrategy(TradingStrategy):\n",
    "    def check_capital(self):\n",
    "        # Attempt to access the private attribute will fail\n",
    "        print(self.__capital)\n",
    "\n",
    "# Creating an instance of MovingAverageStrategy\n",
    "ma_strategy = MovingAverageStrategy(100000, \"Medium\", \"Moving Average\")\n",
    "ma_strategy.show_capital()  # This will work"
   ]
  },
  {
   "cell_type": "markdown",
   "metadata": {},
   "source": []
  },
  {
   "cell_type": "code",
   "execution_count": 35,
   "metadata": {
    "colab": {
     "base_uri": "https://localhost:8080/"
    },
    "id": "OBJEbXw3QNs5",
    "outputId": "a6a7aa97-7b04-4f07-959f-290c1c82d2cd"
   },
   "outputs": [],
   "source": [
    "# child can't access private members of the class\n",
    "\n"
   ]
  },
  {
   "cell_type": "markdown",
   "metadata": {},
   "source": [
    "### Example  demonstrating inheritance where the child class can access a method from the parent class to get the value of a private attribute:\n",
    "\n",
    "```python\n",
    "class TradingStrategy:\n",
    "    def __init__(self, capital):\n",
    "        self.__capital = capital\n",
    "\n",
    "    def get_capital(self):\n",
    "        return self.__capital\n",
    "\n",
    "class MovingAverageStrategy(TradingStrategy):\n",
    "    def show(self):\n",
    "        print(\"This is in MovingAverageStrategy class\")\n",
    "\n",
    "# Creating an instance of MovingAverageStrategy\n",
    "ma_strategy = MovingAverageStrategy(100000)\n",
    "\n",
    "# Accessing the private attribute via the parent's method\n",
    "print(ma_strategy.get_capital())  # Output: 100000\n",
    "\n",
    "# Calling the method defined in the child class\n",
    "ma_strategy.show()  # Output: This is in MovingAverageStrategy class\n",
    "```\n",
    "\n",
    "### Explanation:\n",
    "\n",
    "1. **Base Class (`TradingStrategy`)**:\n",
    "   - The constructor (`__init__`) initializes the private attribute `__capital`.\n",
    "   - A method `get_capital` is provided to access the private attribute `__capital`.\n",
    "\n",
    "2. **Derived Class (`MovingAverageStrategy`)**:\n",
    "   - Inherits from `TradingStrategy`.\n",
    "   - Defines its own method `show` to print a message indicating it is in the child class.\n",
    "\n",
    "3. **Usage**:\n",
    "   - An instance of `MovingAverageStrategy` is created with a specific value for `capital`.\n",
    "   - The `get_capital` method is called on the instance to access the private attribute `__capital`.\n",
    "   - The `show` method, specific to the `MovingAverageStrategy` class, is called to demonstrate that the child class can have its own methods while still being able to access the parent class's methods."
   ]
  },
  {
   "cell_type": "code",
   "execution_count": 36,
   "metadata": {
    "colab": {
     "base_uri": "https://localhost:8080/"
    },
    "id": "4ehYsT2BS5Cm",
    "outputId": "5e27f6d1-0f60-4246-fd59-977e41dfd4f9"
   },
   "outputs": [],
   "source": [
    "# Example "
   ]
  },
  {
   "cell_type": "markdown",
   "metadata": {},
   "source": [
    "### Example demonstrating how a child class can initialize its own attributes while also calling the parent class's constructor to initialize inherited attributes:\n",
    "\n",
    "```python\n",
    "class TradingStrategy:\n",
    "    def __init__(self, capital):\n",
    "        self.__capital = capital\n",
    "\n",
    "    def get_capital(self):\n",
    "        return self.__capital\n",
    "\n",
    "class MovingAverageStrategy(TradingStrategy):\n",
    "    def __init__(self, short_window, capital):\n",
    "        # Call the parent class's constructor\n",
    "        super().__init__(capital)\n",
    "        self.__short_window = short_window\n",
    "\n",
    "    def get_short_window(self):\n",
    "        return self.__short_window\n",
    "\n",
    "# Creating an instance of MovingAverageStrategy\n",
    "ma_strategy = MovingAverageStrategy(20, 100000)\n",
    "\n",
    "# Accessing the private attribute of the parent class via the parent's method\n",
    "print(\"Parent: Capital:\", ma_strategy.get_capital())  # Output: Parent: Capital: 100000\n",
    "\n",
    "# Accessing the private attribute of the child class via the child's method\n",
    "print(\"Child: Short Window:\", ma_strategy.get_short_window())  # Output: Child: Short Window: 20\n",
    "```\n",
    "\n",
    "### Explanation:\n",
    "\n",
    "1. **Base Class (`TradingStrategy`)**:\n",
    "   - The constructor (`__init__`) initializes the private attribute `__capital`.\n",
    "   - A method `get_capital` is provided to access the private attribute `__capital`.\n",
    "\n",
    "2. **Derived Class (`MovingAverageStrategy`)**:\n",
    "   - The constructor (`__init__`) initializes its own attribute `__short_window`.\n",
    "   - It also calls the parent class's constructor using `super().__init__(capital)` to ensure the `__capital` attribute is properly initialized.\n",
    "   - Defines a method `get_short_window` to access the private attribute `__short_window`.\n",
    "\n",
    "3. **Usage**:\n",
    "   - An instance of `MovingAverageStrategy` is created with specific values for `short_window` and `capital`.\n",
    "   - The `get_capital` method is called on the instance to access the private attribute `__capital` from the parent class.\n",
    "   - The `get_short_window` method is called on the instance to access the private attribute `__short_window` from the child class."
   ]
  },
  {
   "cell_type": "code",
   "execution_count": 37,
   "metadata": {
    "colab": {
     "base_uri": "https://localhost:8080/",
     "height": 348
    },
    "id": "__jK3DNZS7-g",
    "outputId": "1cb66ea1-97e5-4589-d792-ec804c3ddb81"
   },
   "outputs": [],
   "source": [
    "# Example"
   ]
  },
  {
   "cell_type": "markdown",
   "metadata": {},
   "source": [
    "### Example demonstrating inheritance where both the parent and child classes have methods to display attributes:\n",
    "\n",
    "```python\n",
    "class TradingStrategy:\n",
    "    def __init__(self):\n",
    "        self.capital = 100000\n",
    "\n",
    "    def display_capital(self, capital):\n",
    "        print(\"TradingStrategy Capital:\", self.capital)\n",
    "\n",
    "class MovingAverageStrategy(TradingStrategy):\n",
    "    def display_strategy(self, strategy_name):\n",
    "        print(\"MovingAverageStrategy:\", self.capital)\n",
    "\n",
    "# Creating an instance of MovingAverageStrategy\n",
    "strategy = MovingAverageStrategy()\n",
    "strategy.display_capital(200000)  # Output: TradingStrategy Capital: 100000\n",
    "strategy.display_strategy(\"MA Strategy\")  # Output: MovingAverageStrategy: 100000\n",
    "```\n",
    "\n",
    "### Explanation:\n",
    "\n",
    "1. **Base Class (`TradingStrategy`)**:\n",
    "   - The constructor (`__init__`) initializes the attribute `capital`.\n",
    "   - A method `display_capital` is provided to display the value of the attribute `capital`.\n",
    "\n",
    "2. **Derived Class (`MovingAverageStrategy`)**:\n",
    "   - Inherits from `TradingStrategy`.\n",
    "   - Defines its own method `display_strategy` to display the value of the attribute `capital` inherited from the parent class.\n",
    "\n",
    "3. **Usage**:\n",
    "   - An instance of `MovingAverageStrategy` is created.\n",
    "   - The `display_capital` method is called on the instance to display the `capital` value initialized by the parent class.\n",
    "   - The `display_strategy` method is called on the instance to display the same `capital` value, showing that it is accessible within the child class.\n",
    "\n",
    "This demonstrates how attributes and methods from the parent class are inherited and can be used in the child class."
   ]
  },
  {
   "cell_type": "code",
   "execution_count": 38,
   "metadata": {
    "colab": {
     "base_uri": "https://localhost:8080/"
    },
    "id": "nyRDS-91TJA_",
    "outputId": "ca0f5671-e73a-467b-8c96-45f825e88eaa"
   },
   "outputs": [],
   "source": [
    "# Example "
   ]
  },
  {
   "cell_type": "markdown",
   "metadata": {},
   "source": []
  },
  {
   "cell_type": "code",
   "execution_count": 131,
   "metadata": {
    "colab": {
     "base_uri": "https://localhost:8080/"
    },
    "id": "EgDguVtCTlsY",
    "outputId": "e9a17cfc-e48d-4967-90df-164a9fb9906e"
   },
   "outputs": [
    {
     "name": "stdout",
     "output_type": "stream",
     "text": [
      "Inside TradingStrategy constructor\n",
      "Executing a moving average strategy\n"
     ]
    }
   ],
   "source": [
    "# Example Method Overriding\n",
    "class TradingStrategy:\n",
    "    def __init__(self, capital, risk_level, strategy_name):\n",
    "        print(\"Inside TradingStrategy constructor\")\n",
    "        self.__capital = capital\n",
    "        self.risk_level = risk_level\n",
    "        self.strategy_name = strategy_name\n",
    "\n",
    "    def execute(self):\n",
    "        print(\"Executing a trading strategy\")\n",
    "\n",
    "class MovingAverageStrategy(TradingStrategy):\n",
    "    def execute(self):\n",
    "        print(\"Executing a moving average strategy\")\n",
    "\n",
    "# Creating an instance of MovingAverageStrategy\n",
    "ma_strategy = MovingAverageStrategy(100000, \"Medium\", \"Moving Average\")\n",
    "\n",
    "# Calling the overridden method\n",
    "ma_strategy.execute()  # Output: Executing a moving average strategy"
   ]
  },
  {
   "cell_type": "markdown",
   "metadata": {},
   "source": [
    "### Example demonstrating the use of the `super` keyword to call a method from the parent class:\n",
    "\n",
    "```python\n",
    "# Super Keyword\n",
    "class TradingStrategy:\n",
    "    def __init__(self, capital, risk_level, strategy_name):\n",
    "        print(\"Inside TradingStrategy constructor\")\n",
    "        self.__capital = capital\n",
    "        self.risk_level = risk_level\n",
    "        self.strategy_name = strategy_name\n",
    "\n",
    "    def execute(self):\n",
    "        print(\"Executing a trading strategy\")\n",
    "\n",
    "class MovingAverageStrategy(TradingStrategy):\n",
    "    def execute(self):\n",
    "        print(\"Executing a moving average strategy\")\n",
    "        # Call the parent class's execute method\n",
    "        super().execute()\n",
    "\n",
    "# Creating an instance of MovingAverageStrategy\n",
    "ma_strategy = MovingAverageStrategy(100000, \"Medium\", \"Moving Average\")\n",
    "\n",
    "# Calling the overridden method, which in turn calls the parent method\n",
    "ma_strategy.execute()\n",
    "```\n",
    "\n",
    "### Explanation:\n",
    "\n",
    "1. **Base Class (`TradingStrategy`)**:\n",
    "   - The constructor (`__init__`) initializes attributes `__capital`, `risk_level`, and `strategy_name`.\n",
    "   - A method `execute` is defined to simulate executing a generic trading strategy.\n",
    "\n",
    "2. **Derived Class (`MovingAverageStrategy`)**:\n",
    "   - Inherits from `TradingStrategy`.\n",
    "   - Overrides the `execute` method to provide a specific implementation for a moving average strategy.\n",
    "   - Uses the `super().execute()` call to invoke the `execute` method of the parent class.\n",
    "\n",
    "3. **Usage**:\n",
    "   - An instance of `MovingAverageStrategy` is created with specific values for `capital`, `risk_level`, and `strategy_name`.\n",
    "   - The overridden `execute` method is called on the instance. This method first prints a message specific to the moving average strategy and then calls the `execute` method of the parent class to print the generic trading strategy message.\n",
    "\n",
    "This demonstrates how the `super` keyword allows the child class to call a method from the parent class, facilitating the reuse of code and extending functionality."
   ]
  },
  {
   "cell_type": "markdown",
   "metadata": {
    "id": "O85epdv770M-"
   },
   "source": [
    "### Super Keyword"
   ]
  },
  {
   "cell_type": "code",
   "execution_count": 40,
   "metadata": {
    "colab": {
     "base_uri": "https://localhost:8080/"
    },
    "id": "NR4F_NIo71hS",
    "outputId": "31d11020-10c1-47cd-81e0-6335ee6fc1f0"
   },
   "outputs": [],
   "source": [
    "# Example Super"
   ]
  },
  {
   "cell_type": "markdown",
   "metadata": {},
   "source": [
    "Using `super` outside the class context is not common practice in Python, as `super` is specifically designed to be used within class methods to refer to the parent class. However, if you want to call the parent class's method explicitly from outside the class, you can do it directly by accessing the parent class and calling its method with the instance as an argument.\n",
    "\n",
    "\n",
    "\n",
    "```python\n",
    "# Using parent class method explicitly outside the class context\n",
    "class TradingStrategy:\n",
    "    def __init__(self, capital, risk_level, strategy_name):\n",
    "        print(\"Inside TradingStrategy constructor\")\n",
    "        self.__capital = capital\n",
    "        self.risk_level = risk_level\n",
    "        self.strategy_name = strategy_name\n",
    "\n",
    "    def execute(self):\n",
    "        print(\"Executing a trading strategy\")\n",
    "\n",
    "class MovingAverageStrategy(TradingStrategy):\n",
    "    def execute(self):\n",
    "        print(\"Executing a moving average strategy\")\n",
    "        # Call the parent class's execute method\n",
    "        super().execute()\n",
    "\n",
    "# Creating an instance of MovingAverageStrategy\n",
    "ma_strategy = MovingAverageStrategy(100000, \"Medium\", \"Moving Average\")\n",
    "\n",
    "# Calling the overridden method\n",
    "ma_strategy.execute()\n",
    "\n",
    "# Explicitly calling the parent class's execute method outside the class context\n",
    "TradingStrategy.execute(ma_strategy)\n",
    "```\n",
    "\n",
    "### Explanation:\n",
    "\n",
    "1. **Base Class (`TradingStrategy`)**:\n",
    "   - The constructor (`__init__`) initializes attributes `__capital`, `risk_level`, and `strategy_name`.\n",
    "   - A method `execute` is defined to simulate executing a generic trading strategy.\n",
    "\n",
    "2. **Derived Class (`MovingAverageStrategy`)**:\n",
    "   - Inherits from `TradingStrategy`.\n",
    "   - Overrides the `execute` method to provide a specific implementation for a moving average strategy.\n",
    "   - Uses the `super().execute()` call to invoke the `execute` method of the parent class.\n",
    "\n",
    "3. **Usage**:\n",
    "   - An instance of `MovingAverageStrategy` is created with specific values for `capital`, `risk_level`, and `strategy_name`.\n",
    "   - The overridden `execute` method is called on the instance, which first prints a message specific to the moving average strategy and then calls the `execute` method of the parent class to print the generic trading strategy message.\n",
    "   - The parent class's `execute` method is explicitly called outside the class context by directly invoking `TradingStrategy.execute(ma_strategy)`, passing the instance `ma_strategy` as the argument.\n",
    "\n",
    "This demonstrates how you can call methods from the parent class outside of the class context, although it is typically more common to use `super` within the class methods to achieve method chaining and inheritance."
   ]
  },
  {
   "cell_type": "code",
   "execution_count": 41,
   "metadata": {
    "colab": {
     "base_uri": "https://localhost:8080/",
     "height": 223
    },
    "id": "USJ2YcPLT68v",
    "outputId": "9039f621-2f56-4d1b-f4ed-8abc36ac4cd8"
   },
   "outputs": [],
   "source": [
    "# using super outside the class\n"
   ]
  },
  {
   "cell_type": "markdown",
   "metadata": {},
   "source": [
    "Using `super` to access parent's data members outside the class context or trying to directly access attributes using `super` from an overridden method is not directly possible. However, you can use `super` to call parent methods which can then access the parent's data.\n",
    "\n",
    "\n",
    "\n",
    "```python\n",
    "# Demonstrating super and accessing parent data correctly\n",
    "class TradingStrategy:\n",
    "    def __init__(self, capital, risk_level, strategy_name):\n",
    "        print(\"Inside TradingStrategy constructor\")\n",
    "        self.__capital = capital\n",
    "        self.risk_level = risk_level\n",
    "        self.strategy_name = strategy_name\n",
    "\n",
    "    def execute(self):\n",
    "        print(\"Executing a trading strategy\")\n",
    "\n",
    "    def get_risk_level(self):\n",
    "        return self.risk_level\n",
    "\n",
    "class MovingAverageStrategy(TradingStrategy):\n",
    "    def __init__(self, capital, risk_level, strategy_name, short_window):\n",
    "        super().__init__(capital, risk_level, strategy_name)\n",
    "        self.short_window = short_window\n",
    "\n",
    "    def execute(self):\n",
    "        print(\"Executing a moving average strategy\")\n",
    "        super().execute()  # Calling the parent class's method\n",
    "        print(f\"Parent's risk level: {super().get_risk_level()}\")\n",
    "\n",
    "# Creating an instance of MovingAverageStrategy\n",
    "ma_strategy = MovingAverageStrategy(100000, \"Medium\", \"Moving Average\", 10)\n",
    "\n",
    "# Calling the overridden method\n",
    "ma_strategy.execute()\n",
    "```\n",
    "\n",
    "### Explanation:\n",
    "\n",
    "1. **Base Class (`TradingStrategy`)**:\n",
    "   - The constructor (`__init__`) initializes attributes `__capital`, `risk_level`, and `strategy_name`.\n",
    "   - A method `execute` is defined to simulate executing a generic trading strategy.\n",
    "   - A method `get_risk_level` is defined to access the `risk_level` attribute.\n",
    "\n",
    "2. **Derived Class (`MovingAverageStrategy`)**:\n",
    "   - The constructor initializes its own attribute `short_window` and calls the parent class's constructor using `super().__init__()`.\n",
    "   - Overrides the `execute` method to provide a specific implementation for a moving average strategy.\n",
    "   - Uses `super().execute()` to call the parent class's `execute` method.\n",
    "   - Uses `super().get_risk_level()` to access the parent class's `risk_level` attribute through a parent class method.\n",
    "\n",
    "3. **Usage**:\n",
    "   - An instance of `MovingAverageStrategy` is created.\n",
    "   - The overridden `execute` method is called, demonstrating the use of `super()` to invoke the parent class's method and access the parent's data through the parent class's methods.\n",
    "\n",
    "This approach respects the encapsulation principles of object-oriented programming and demonstrates how `super` can be used to access parent class methods and data appropriately within the class methods."
   ]
  },
  {
   "cell_type": "code",
   "execution_count": 42,
   "metadata": {
    "colab": {
     "base_uri": "https://localhost:8080/",
     "height": 366
    },
    "id": "KGIWVYdYUBAd",
    "outputId": "8e4228f8-af9c-4c72-d18c-6016808df3de"
   },
   "outputs": [],
   "source": [
    "# can super access parent's data?\n",
    "# using super outside the class\n"
   ]
  },
  {
   "cell_type": "markdown",
   "metadata": {},
   "source": [
    "### Example  demonstrating the use of `super` to call the parent class's constructor from within the child class's constructor:\n",
    "\n",
    "```python\n",
    "# super -> constructor\n",
    "class TradingStrategy:\n",
    "    def __init__(self, capital, risk_level, strategy_name):\n",
    "        print(\"Inside TradingStrategy constructor\")\n",
    "        self.__capital = capital\n",
    "        self.risk_level = risk_level\n",
    "        self.strategy_name = strategy_name\n",
    "\n",
    "class MovingAverageStrategy(TradingStrategy):\n",
    "    def __init__(self, capital, risk_level, strategy_name, short_window, long_window):\n",
    "        print('Inside MovingAverageStrategy constructor')\n",
    "        super().__init__(capital, risk_level, strategy_name)\n",
    "        self.short_window = short_window\n",
    "        self.long_window = long_window\n",
    "        print(\"Inside MovingAverageStrategy constructor\")\n",
    "\n",
    "# Creating an instance of MovingAverageStrategy\n",
    "ma_strategy = MovingAverageStrategy(100000, \"Medium\", \"Moving Average\", 10, 50)\n",
    "\n",
    "# Accessing attributes from both the parent and child classes\n",
    "print(ma_strategy.short_window)  # Output: 10\n",
    "print(ma_strategy.strategy_name)  # Output: Moving Average\n",
    "```\n",
    "\n",
    "### Explanation:\n",
    "\n",
    "1. **Base Class (`TradingStrategy`)**:\n",
    "   - The constructor (`__init__`) initializes attributes `__capital`, `risk_level`, and `strategy_name`.\n",
    "\n",
    "2. **Derived Class (`MovingAverageStrategy`)**:\n",
    "   - The constructor initializes its own attributes `short_window` and `long_window`.\n",
    "   - Calls the parent class's constructor using `super().__init__(capital, risk_level, strategy_name)` to ensure the parent class's attributes are properly initialized.\n",
    "   - Additional attributes specific to the child class are initialized after the call to `super()`.\n",
    "\n",
    "3. **Usage**:\n",
    "   - An instance of `MovingAverageStrategy` is created with specific values for `capital`, `risk_level`, `strategy_name`, `short_window`, and `long_window`.\n",
    "   - The attributes `short_window` and `strategy_name` are accessed to demonstrate that both the parent class's and child class's attributes are correctly initialized and accessible.\n",
    "\n",
    "This example shows how `super` is used to call the parent class's constructor, allowing the child class to properly initialize inherited attributes while adding its own."
   ]
  },
  {
   "cell_type": "code",
   "execution_count": 43,
   "metadata": {
    "colab": {
     "base_uri": "https://localhost:8080/"
    },
    "id": "jPW3DV5GUKNJ",
    "outputId": "5e1dfad5-6f71-48dd-ceaa-7d5211136968"
   },
   "outputs": [],
   "source": [
    "# super -> constuctor\n"
   ]
  },
  {
   "cell_type": "markdown",
   "metadata": {
    "id": "_YE_kj_0Ufe4"
   },
   "source": [
    "##### Inheritance in summary\n",
    "\n",
    "- A class can inherit from another class.\n",
    "\n",
    "- Inheritance improves code reuse\n",
    "\n",
    "- Constructor, attributes, methods get inherited to the child class\n",
    "\n",
    "- The parent has no access to the child class\n",
    "\n",
    "- Private properties of parent are not accessible directly in child class\n",
    "\n",
    "- Child class can override the attributes or methods. This is called method overriding\n",
    "\n",
    "- super() is an inbuilt function which is used to invoke the parent class methods and constructor"
   ]
  },
  {
   "cell_type": "markdown",
   "metadata": {},
   "source": [
    "\n",
    "\n",
    "```python\n",
    "class TradingStrategy:\n",
    "\n",
    "    def __init__(self, capital):\n",
    "        self.__capital = capital\n",
    "\n",
    "    def get_capital(self):\n",
    "        return self.__capital\n",
    "\n",
    "class MovingAverageStrategy(TradingStrategy):\n",
    "\n",
    "    def __init__(self, capital, short_window):\n",
    "        super().__init__(capital)\n",
    "        self.__short_window = short_window\n",
    "\n",
    "    def get_short_window(self):\n",
    "        return self.__short_window\n",
    "\n",
    "ma_strategy = MovingAverageStrategy(100000, 20)\n",
    "print(ma_strategy.get_capital())\n",
    "print(ma_strategy.get_short_window())\n",
    "```\n",
    "\n",
    "This example demonstrates a simple inheritance and the use of `super()` to initialize the parent class's attributes while adding additional attributes in the child class."
   ]
  },
  {
   "cell_type": "code",
   "execution_count": 44,
   "metadata": {
    "colab": {
     "base_uri": "https://localhost:8080/"
    },
    "id": "iHFjwJtBUuK3",
    "outputId": "0fc43374-9b51-498d-d1ba-12defba202f3"
   },
   "outputs": [],
   "source": [
    "# Example above"
   ]
  },
  {
   "cell_type": "markdown",
   "metadata": {},
   "source": [
    "\n",
    "\n",
    "```python\n",
    "class TradingStrategy:\n",
    "    def __init__(self):\n",
    "        self.capital = 100000\n",
    "\n",
    "class MovingAverageStrategy(TradingStrategy):\n",
    "    def __init__(self):\n",
    "        super().__init__()\n",
    "        self.short_window = 20\n",
    "\n",
    "    def show(self):\n",
    "        print(self.capital)\n",
    "        print(self.short_window)\n",
    "\n",
    "ma_strategy = MovingAverageStrategy()\n",
    "ma_strategy.show()\n",
    "```\n",
    "\n",
    "This example demonstrates how the child class (`MovingAverageStrategy`) inherits from the parent class (`TradingStrategy`), and uses `super()` to initialize the parent class's attributes while adding its own."
   ]
  },
  {
   "cell_type": "code",
   "execution_count": 45,
   "metadata": {
    "colab": {
     "base_uri": "https://localhost:8080/"
    },
    "id": "szLznZ0bUvRj",
    "outputId": "0306224c-7467-420d-dbdb-d13e2c4e6a05"
   },
   "outputs": [],
   "source": [
    "# Example above"
   ]
  },
  {
   "cell_type": "markdown",
   "metadata": {
    "id": "q9WZMWV18G4Q"
   },
   "source": [
    "### Types of Inheritance\n",
    "\n",
    "- Single Inheritance\n",
    "- Multilevel Inheritance\n",
    "- Hierarchical Inheritance\n",
    "- Multiple Inheritance(Diamond Problem)\n",
    "- Hybrid Inheritance"
   ]
  },
  {
   "cell_type": "markdown",
   "metadata": {},
   "source": [
    "\n",
    "### Single Inheritance\n",
    "One class inherits from another class.\n",
    "\n",
    "\n",
    "**Explanation:** `MovingAverageStrategy` inherits from `TradingStrategy`.\n",
    "\n",
    "### Multilevel Inheritance\n",
    "A class inherits from another class, which in turn inherits from another class.\n",
    "\n",
    "\n",
    "**Explanation:** `AdvancedMovingAverageStrategy` inherits from `MovingAverageStrategy`, which inherits from `TradingStrategy`.\n",
    "\n",
    "### Hierarchical Inheritance\n",
    "Multiple classes inherit from the same base class.\n",
    "\n",
    "**Explanation:** Both `MovingAverageStrategy` and `MomentumStrategy` inherit from `TradingStrategy`.\n",
    "\n",
    "### Multiple Inheritance (Diamond Problem)\n",
    "A class inherits from multiple classes, causing a diamond-shaped inheritance diagram.\n",
    "\n",
    "\n",
    "**Explanation:** `HybridStrategy` inherits from both `TechnicalStrategy` and `FundamentalStrategy`, which both inherit from `TradingStrategy`.\n",
    "\n",
    "### Hybrid Inheritance\n",
    "A combination of two or more types of inheritance.\n",
    "\n",
    "**Explanation:** `HybridStrategy` inherits from both `TechnicalStrategy` (which in turn inherits from `TradingStrategy`) and `FundamentalStrategy`."
   ]
  },
  {
   "cell_type": "code",
   "execution_count": null,
   "metadata": {},
   "outputs": [],
   "source": []
  },
  {
   "cell_type": "code",
   "execution_count": 132,
   "metadata": {},
   "outputs": [
    {
     "name": "stdout",
     "output_type": "stream",
     "text": [
      "100000\n",
      "20\n"
     ]
    }
   ],
   "source": [
    "# Single Inheritance\n",
    "class TradingStrategy:\n",
    "    def __init__(self):\n",
    "        self.capital = 100000\n",
    "\n",
    "class MovingAverageStrategy(TradingStrategy):\n",
    "    def __init__(self):\n",
    "        super().__init__()\n",
    "        self.short_window = 20\n",
    "\n",
    "    def show(self):\n",
    "        print(self.capital)\n",
    "        print(self.short_window)\n",
    "\n",
    "ma_strategy = MovingAverageStrategy()\n",
    "ma_strategy.show()"
   ]
  },
  {
   "cell_type": "code",
   "execution_count": 133,
   "metadata": {},
   "outputs": [
    {
     "name": "stdout",
     "output_type": "stream",
     "text": [
      "100000\n",
      "20\n",
      "50\n"
     ]
    }
   ],
   "source": [
    "# Multilevel Inheritance\n",
    "class TradingStrategy:\n",
    "    def __init__(self):\n",
    "        self.capital = 100000\n",
    "\n",
    "class MovingAverageStrategy(TradingStrategy):\n",
    "    def __init__(self):\n",
    "        super().__init__()\n",
    "        self.short_window = 20\n",
    "\n",
    "class AdvancedMovingAverageStrategy(MovingAverageStrategy):\n",
    "    def __init__(self):\n",
    "        super().__init__()\n",
    "        self.long_window = 50\n",
    "\n",
    "    def show(self):\n",
    "        print(self.capital)\n",
    "        print(self.short_window)\n",
    "        print(self.long_window)\n",
    "\n",
    "ama_strategy = AdvancedMovingAverageStrategy()\n",
    "ama_strategy.show()"
   ]
  },
  {
   "cell_type": "code",
   "execution_count": 134,
   "metadata": {},
   "outputs": [
    {
     "name": "stdout",
     "output_type": "stream",
     "text": [
      "100000\n",
      "100000\n"
     ]
    }
   ],
   "source": [
    "# Hierarchical Inheritance\n",
    "class TradingStrategy:\n",
    "    def __init__(self):\n",
    "        self.capital = 100000\n",
    "\n",
    "class MovingAverageStrategy(TradingStrategy):\n",
    "    def __init__(self):\n",
    "        super().__init__()\n",
    "        self.short_window = 20\n",
    "\n",
    "class MomentumStrategy(TradingStrategy):\n",
    "    def __init__(self):\n",
    "        super().__init__()\n",
    "        self.momentum_window = 10\n",
    "\n",
    "ma_strategy = MovingAverageStrategy()\n",
    "mo_strategy = MomentumStrategy()\n",
    "print(ma_strategy.capital)\n",
    "print(mo_strategy.capital)"
   ]
  },
  {
   "cell_type": "code",
   "execution_count": 135,
   "metadata": {},
   "outputs": [
    {
     "name": "stdout",
     "output_type": "stream",
     "text": [
      "100000\n",
      "RSI\n",
      "PE Ratio\n"
     ]
    }
   ],
   "source": [
    "# Multiple Inheritance (Diamond Problem)\n",
    "class TradingStrategy:\n",
    "    def __init__(self):\n",
    "        self.capital = 100000\n",
    "\n",
    "class TechnicalStrategy(TradingStrategy):\n",
    "    def __init__(self):\n",
    "        super().__init__()\n",
    "        self.indicator = \"RSI\"\n",
    "\n",
    "class FundamentalStrategy(TradingStrategy):\n",
    "    def __init__(self):\n",
    "        super().__init__()\n",
    "        self.metric = \"PE Ratio\"\n",
    "\n",
    "class HybridStrategy(TechnicalStrategy, FundamentalStrategy):\n",
    "    def __init__(self):\n",
    "        super().__init__()\n",
    "\n",
    "    def show(self):\n",
    "        print(self.capital)\n",
    "        print(self.indicator)\n",
    "        print(self.metric)\n",
    "\n",
    "hybrid_strategy = HybridStrategy()\n",
    "hybrid_strategy.show()"
   ]
  },
  {
   "cell_type": "code",
   "execution_count": 136,
   "metadata": {},
   "outputs": [
    {
     "name": "stdout",
     "output_type": "stream",
     "text": [
      "100000\n",
      "RSI\n",
      "PE Ratio\n"
     ]
    }
   ],
   "source": [
    "# Hybrid Inheritance\n",
    "class TradingStrategy:\n",
    "    def __init__(self):\n",
    "        self.capital = 100000\n",
    "\n",
    "class TechnicalStrategy(TradingStrategy):\n",
    "    def __init__(self):\n",
    "        super().__init__()\n",
    "        self.indicator = \"RSI\"\n",
    "\n",
    "class FundamentalStrategy:\n",
    "    def __init__(self):\n",
    "        self.metric = \"PE Ratio\"\n",
    "\n",
    "class HybridStrategy(TechnicalStrategy, FundamentalStrategy):\n",
    "    def __init__(self):\n",
    "        TechnicalStrategy.__init__(self)\n",
    "        FundamentalStrategy.__init__(self)\n",
    "\n",
    "    def show(self):\n",
    "        print(self.capital)\n",
    "        print(self.indicator)\n",
    "        print(self.metric)\n",
    "\n",
    "hybrid_strategy = HybridStrategy()\n",
    "hybrid_strategy.show()"
   ]
  },
  {
   "cell_type": "markdown",
   "metadata": {
    "id": "TvZX-Zw9FtKB"
   },
   "source": [
    "### Polymorphism\n",
    "\n",
    "- Method Overriding\n",
    "- Method Overloading\n",
    "- Operator Overloading"
   ]
  },
  {
   "cell_type": "code",
   "execution_count": 46,
   "metadata": {
    "colab": {
     "base_uri": "https://localhost:8080/"
    },
    "id": "wuVzSLONF0ha",
    "outputId": "c0ef3d86-9a4b-4d2f-f6b4-2ca8b7d42764"
   },
   "outputs": [
    {
     "name": "stdout",
     "output_type": "stream",
     "text": [
      "12.56\n",
      "12\n"
     ]
    }
   ],
   "source": [
    "class Shape:\n",
    "\n",
    "  def area(self,a,b=0):\n",
    "    if b == 0:\n",
    "      return 3.14*a*a\n",
    "    else:\n",
    "      return a*b\n",
    "\n",
    "s = Shape()\n",
    "\n",
    "print(s.area(2))\n",
    "print(s.area(3,4))"
   ]
  },
  {
   "cell_type": "code",
   "execution_count": 47,
   "metadata": {
    "colab": {
     "base_uri": "https://localhost:8080/",
     "height": 36
    },
    "id": "3-SJbwpMXE4J",
    "outputId": "1fb14d61-32b2-4267-e997-edbd98de1c22"
   },
   "outputs": [
    {
     "data": {
      "text/plain": [
       "'helloworld'"
      ]
     },
     "execution_count": 47,
     "metadata": {},
     "output_type": "execute_result"
    }
   ],
   "source": [
    "'hello' + 'world'"
   ]
  },
  {
   "cell_type": "code",
   "execution_count": 48,
   "metadata": {
    "colab": {
     "base_uri": "https://localhost:8080/"
    },
    "id": "XIhrt6ffXFOq",
    "outputId": "5936ff62-3649-470b-8080-27e0932d795c"
   },
   "outputs": [
    {
     "data": {
      "text/plain": [
       "9"
      ]
     },
     "execution_count": 48,
     "metadata": {},
     "output_type": "execute_result"
    }
   ],
   "source": [
    "4 + 5"
   ]
  },
  {
   "cell_type": "code",
   "execution_count": 49,
   "metadata": {
    "colab": {
     "base_uri": "https://localhost:8080/"
    },
    "id": "ykLFszsHfrKi",
    "outputId": "b6dce7af-c9d9-4414-bd3e-dbdacc9df9e1"
   },
   "outputs": [
    {
     "data": {
      "text/plain": [
       "[1, 2, 3, 4, 5]"
      ]
     },
     "execution_count": 49,
     "metadata": {},
     "output_type": "execute_result"
    }
   ],
   "source": [
    "[1,2,3] + [4,5]"
   ]
  },
  {
   "cell_type": "markdown",
   "metadata": {
    "id": "FHZlflrSF1Df"
   },
   "source": [
    "### Abstraction"
   ]
  },
  {
   "cell_type": "code",
   "execution_count": 50,
   "metadata": {
    "id": "EFrfU_45F2wx"
   },
   "outputs": [],
   "source": [
    "from abc import ABC,abstractmethod\n",
    "class BankApp(ABC):\n",
    "\n",
    "  def database(self):\n",
    "    print('connected to database')\n",
    "\n",
    "  @abstractmethod\n",
    "  def security(self):\n",
    "    pass\n",
    "\n",
    "  @abstractmethod\n",
    "  def display(self):\n",
    "    pass\n"
   ]
  },
  {
   "cell_type": "code",
   "execution_count": 51,
   "metadata": {
    "id": "_KULGDqYxtwk"
   },
   "outputs": [],
   "source": [
    "class MobileApp(BankApp):\n",
    "\n",
    "  def mobile_login(self):\n",
    "    print('login into mobile')\n",
    "\n",
    "  def security(self):\n",
    "    print('mobile security')\n",
    "\n",
    "  def display(self):\n",
    "    print('display')"
   ]
  },
  {
   "cell_type": "code",
   "execution_count": 52,
   "metadata": {
    "id": "WlGxjLHz6J94"
   },
   "outputs": [],
   "source": [
    "mob = MobileApp()"
   ]
  },
  {
   "cell_type": "code",
   "execution_count": 53,
   "metadata": {
    "colab": {
     "base_uri": "https://localhost:8080/"
    },
    "id": "e-ygxfhV6MR9",
    "outputId": "93969604-41c2-4966-d322-ffaadcd85e4f"
   },
   "outputs": [
    {
     "name": "stdout",
     "output_type": "stream",
     "text": [
      "mobile security\n"
     ]
    }
   ],
   "source": [
    "mob.security()"
   ]
  },
  {
   "cell_type": "code",
   "execution_count": 54,
   "metadata": {
    "colab": {
     "base_uri": "https://localhost:8080/",
     "height": 169
    },
    "id": "hvVMYalv6v3j",
    "outputId": "2809badf-e568-4a87-ddfb-1f64d944900d"
   },
   "outputs": [
    {
     "ename": "TypeError",
     "evalue": "Can't instantiate abstract class BankApp with abstract methods display, security",
     "output_type": "error",
     "traceback": [
      "\u001b[0;31m---------------------------------------------------------------------------\u001b[0m",
      "\u001b[0;31mTypeError\u001b[0m                                 Traceback (most recent call last)",
      "Cell \u001b[0;32mIn[54], line 1\u001b[0m\n\u001b[0;32m----> 1\u001b[0m obj \u001b[38;5;241m=\u001b[39m BankApp()\n",
      "\u001b[0;31mTypeError\u001b[0m: Can't instantiate abstract class BankApp with abstract methods display, security"
     ]
    }
   ],
   "source": [
    "obj = BankApp()"
   ]
  },
  {
   "cell_type": "code",
   "execution_count": null,
   "metadata": {
    "id": "OvdixiRJ7kDn"
   },
   "outputs": [],
   "source": []
  }
 ],
 "metadata": {
  "colab": {
   "provenance": []
  },
  "kernelspec": {
   "display_name": "Python 3 (ipykernel)",
   "language": "python",
   "name": "python3"
  },
  "language_info": {
   "codemirror_mode": {
    "name": "ipython",
    "version": 3
   },
   "file_extension": ".py",
   "mimetype": "text/x-python",
   "name": "python",
   "nbconvert_exporter": "python",
   "pygments_lexer": "ipython3",
   "version": "3.10.12"
  }
 },
 "nbformat": 4,
 "nbformat_minor": 4
}
